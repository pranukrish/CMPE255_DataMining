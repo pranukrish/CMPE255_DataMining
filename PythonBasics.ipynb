{
  "nbformat": 4,
  "nbformat_minor": 0,
  "metadata": {
    "colab": {
      "provenance": [],
      "collapsed_sections": [],
      "authorship_tag": "ABX9TyP0rNbsKDwP760eItn1UFYb",
      "include_colab_link": true
    },
    "kernelspec": {
      "name": "python3",
      "display_name": "Python 3"
    },
    "language_info": {
      "name": "python"
    }
  },
  "cells": [
    {
      "cell_type": "markdown",
      "metadata": {
        "id": "view-in-github",
        "colab_type": "text"
      },
      "source": [
        "<a href=\"https://colab.research.google.com/github/pranukrish/CMPE255_DataMining/blob/CollabBranch/PythonBasics.ipynb\" target=\"_parent\"><img src=\"https://colab.research.google.com/assets/colab-badge.svg\" alt=\"Open In Colab\"/></a>"
      ]
    },
    {
      "cell_type": "code",
      "execution_count": null,
      "metadata": {
        "colab": {
          "base_uri": "https://localhost:8080/"
        },
        "id": "yxffXuH55UKN",
        "outputId": "9e3917c0-bba9-4ddb-a5d2-f6734009bd87"
      },
      "outputs": [
        {
          "output_type": "stream",
          "name": "stdout",
          "text": [
            "5 + 2 = 7\n",
            "5 2= 3\n",
            "5 * 2= 10\n",
            "5 /2 = 2.5\n",
            "5 % 2 = 1\n",
            "5 ** 2 = 25\n",
            "5 // 2  2\n",
            "1 + 2 - 3 * 2 = -3\n",
            "(1 + 2 - 3) * 2 = 0\n",
            "I like the quote \"Always remember you are unique  just\n",
            "like everyone else\n",
            "I don't like newlines\n",
            "First Item Juice\n",
            "First Item Green Juice\n",
            "['Tomatoes', 'Potatoes']\n",
            "[['Wash Car', 'Pick up kids', 'Cash Check'], ['Green Juice', 'Tomatoes', 'Potatoes', 'Bananas']]\n",
            "Tomatoes\n",
            "[['Wash Car', 'Pick up kids', 'Cash Check'], ['Green Juice', 'Tomatoes', 'Potatoes', 'Bananas', 'Onions']]\n",
            "[['Wash Car', 'Pick up kids', 'Cash Check'], ['Green Juice', 'Pickle', 'Tomatoes', 'Potatoes', 'Bananas', 'Onions']]\n",
            "[['Wash Car', 'Pick up kids', 'Cash Check'], ['Tomatoes', 'Potatoes', 'Onions', 'Green Juice']]\n",
            "7\n",
            "Wash Car\n",
            "Cash Check\n",
            "6\n",
            "1\n",
            "9\n",
            "Leonard Snart\n",
            "4\n",
            "Hartley Rathaway\n",
            "dict_keys(['Captain Cold', 'Weather Wizard', 'Mirror Master', 'Pied Piper'])\n",
            "dict_values(['Leonard Snart', 'Mark Mardon', 'Sam Scudder', 'Hartley Rathaway'])\n",
            "You are old enough to drive\n",
            "You are old enough to drive a tractor trailer\n",
            "You get a birthday\n",
            "Tomatoes\n",
            "Potatoes\n",
            "Onions\n",
            "Green Juice\n",
            "2\n",
            "4\n",
            "6\n",
            "8\n",
            "10\n",
            "1\n",
            "2\n",
            "3\n",
            "10\n",
            "20\n",
            "30\n",
            "100\n",
            "200\n",
            "300\n",
            "What is 5 + 2? 7\n",
            "What is 5 + 2? 7\n",
            "What is your name?\n",
            "Hello  \n",
            "I'll\n",
            "Floor\n",
            "I'll catch you if you fall -The \n",
            "I'll be there\n",
            "X is my favorite letter and my number 1 number is 0.14000\n",
            "I'll catch you if you fall -the floor\n",
            "32\n",
            "False\n",
            "False\n",
            "37\n",
            "I'll catch you if you fall -The Ground\n",
            "I'll catch you if you fall -The Floor\n",
            "[\"I'll\", 'catch', 'you', 'if', 'you', 'fall', '-The', 'Floor']\n",
            "wb\n",
            "test.txt\n",
            "Write me to the file\n",
            "\n",
            "Whiskersis33 cm tall and 10 kilograms and say Meow\n",
            "Spotis53 cm tall and 27 kilograms and say Ruff\n",
            "Animal\n",
            "Dog\n",
            "RuffRuffRuffRuff\n",
            "Ruff\n"
          ]
        }
      ],
      "source": [
        "import random\n",
        "import sys\n",
        "import os\n",
        "\n",
        "\n",
        "\n",
        "\n"
      ]
    },
    {
      "cell_type": "markdown",
      "source": [
        "# Using basic print statements"
      ],
      "metadata": {
        "id": "RNYqh7Li7avu"
      }
    },
    {
      "cell_type": "code",
      "source": [
        "print(\"5 + 2 =\", 5+2)\n",
        "print(\"5 2=\", 5-2)\n",
        "print(\"5 * 2=\", 5*2)\n",
        "print(\"5 /2 =\", 5/2)\n",
        "print(\"5 % 2 =\", 5%2)\n",
        "print(\"5 ** 2 =\", 5 ** 2)\n",
        "print(\"5 // 2 \", 5 // 2)\n",
        "\n",
        "print(\"1 + 2 - 3 * 2 =\", 1 + 2 - 3 * 2)\n",
        "print(\"(1 + 2 - 3) * 2 =\", (1 + 2 -3) * 2)\n",
        "\n",
        "quote=\"\\\"Always remember you are unique\"\n",
        "multi_line_quote = ''' just\n",
        "like everyone else'''\n",
        "\n",
        "print(\"%s %s %s\" % ('I like the quote', quote, multi_line_quote))\n",
        "\n",
        "print(\"I don't like \", end=\"\")\n",
        "print(\"newlines\")\n"
      ],
      "metadata": {
        "id": "u4MN_mIq7Y5U"
      },
      "execution_count": null,
      "outputs": []
    },
    {
      "cell_type": "markdown",
      "source": [
        "# Implementing Lists"
      ],
      "metadata": {
        "id": "lDBYQzIF7zA4"
      }
    },
    {
      "cell_type": "code",
      "source": [
        "grocery_list = ['Juice', 'Tomatoes', 'Potatoes', 'Bananas']\n",
        "print('First Item', grocery_list[0])\n",
        "\n",
        "\n",
        "grocery_list[0] = \"Green Juice\"\n",
        "\n",
        "print('First Item', grocery_list[0])\n",
        "\n",
        "print(grocery_list[1:3])\n",
        "\n",
        "other_events= ['Wash Car', 'Pick up kids',\n",
        "              'Cash Check']\n",
        "to_do_list = [other_events, grocery_list]\n",
        "\n",
        "print(to_do_list)\n",
        "print((to_do_list[1][1]))\n",
        "grocery_list.append('Onions')\n",
        "print(to_do_list)\n",
        "\n",
        "grocery_list.insert(1, \"Pickle\")\n",
        "print(to_do_list)\n",
        "\n",
        "grocery_list.remove(\"Pickle\")\n",
        "grocery_list.sort()\n",
        "grocery_list.reverse()\n",
        "del grocery_list[4]\n",
        "print(to_do_list)\n",
        "\n",
        "to_do_list2 = other_events + grocery_list\n",
        "print(len(to_do_list2))\n",
        "print(max(to_do_list2))\n",
        "print(min(to_do_list2))"
      ],
      "metadata": {
        "id": "h4OLRJyo7xfD"
      },
      "execution_count": null,
      "outputs": []
    },
    {
      "cell_type": "markdown",
      "source": [
        "# Intro to Tuples"
      ],
      "metadata": {
        "id": "dZI_rxE_8B73"
      }
    },
    {
      "cell_type": "code",
      "source": [
        "\n",
        "pi_tuple = (3,1,4,1,5,9)\n",
        "\n",
        "new_tuple = list(pi_tuple)\n",
        "new_list = tuple(new_tuple)\n",
        "\n",
        "print(len(new_tuple))\n",
        "print(min(new_tuple))\n",
        "print(max(new_tuple))"
      ],
      "metadata": {
        "id": "rZU9LuXP8BQT"
      },
      "execution_count": null,
      "outputs": []
    },
    {
      "cell_type": "markdown",
      "source": [
        "# Dictionaries/Maps"
      ],
      "metadata": {
        "id": "MFtkNHpr8K9T"
      }
    },
    {
      "cell_type": "code",
      "source": [
        "super_villains = {'Fiddler': 'Isaac Bowin',\n",
        "                  'Captain Cold': 'Leonard Snart',\n",
        "                  'Weather Wizard': 'Mark Mardon',\n",
        "                  'Mirror Master' : 'Sam Scudder',\n",
        "                  'Pied Piper' : 'Thomas Peterson'}\n",
        "\n",
        "print(super_villains['Captain Cold'])\n",
        "\n",
        "del super_villains['Fiddler']\n",
        "\n",
        "super_villains['Pied Piper']= 'Hartley Rathaway'\n",
        "print(len(super_villains))\n",
        "print(super_villains.get(\"Pied Piper\"))\n",
        "print(super_villains.keys())\n",
        "print(super_villains.values()) \n"
      ],
      "metadata": {
        "id": "y3H23ef08sSL"
      },
      "execution_count": null,
      "outputs": []
    },
    {
      "cell_type": "markdown",
      "source": [
        "# Intro to loops"
      ],
      "metadata": {
        "id": "g5NF2RiK89M6"
      }
    },
    {
      "cell_type": "code",
      "source": [
        "\n",
        "age = 21\n",
        "\n",
        "if age > 16 :\n",
        "    print('You are old enough to drive')\n",
        "else :\n",
        "    print('You are not old enough to drive')\n",
        "if age >= 21 :\n",
        "    print('You are old enough to drive a tractor trailer')\n",
        "elif age >= 16:\n",
        "    print('You are old enough to drive a car')\n",
        "else :\n",
        "    print(\"You are not old enough to drive\")\n",
        "    \n",
        "if ((age >= 1) and (age <= 18)):\n",
        "    print(\"You get a birthday\")\n",
        "elif (age == 21) or (age >= 65):\n",
        "    print(\"You get a birthday\")\n",
        "elif not(age == 30):\n",
        "    print(\"You don't get a birthday\")\n",
        "else:\n",
        "    print(\"You get a birthday party yeah\")\n",
        "                \n",
        "# for x in range(0, 10):\n",
        "#     print(x, ' ', end=\"\")\n",
        "                    \n",
        "#     print('\\n')\n",
        "    \n",
        "    \n",
        "                    \n",
        "for x in grocery_list:\n",
        "     print(x)\n",
        "                        \n",
        "for x in [2,4,6,8,10]:\n",
        "     print(x)\n",
        "                            \n",
        "num_list = [[1,2,3], [10,20,30], [100,200,300]]\n",
        "                            \n",
        "for x in range(0,3):\n",
        "    for y in range(0,3):\n",
        "        print(num_list[x][y])\n",
        "                                    \n",
        "# random_num = random.randrange(0,100)\n",
        "                                    \n",
        "# while(random_num != 15):\n",
        "#     print(random_num)\n",
        "# random_num = random.randrange(0,100)\n",
        "                                       \n",
        "# i = 0\n",
        "                                        \n",
        "# while(i <= 20):\n",
        "#     if(i%2 == 0):\n",
        "#         print(i)\n",
        "#     elif(i == 9):\n",
        "#         break\n",
        "#     else:\n",
        "#         i += 1\n",
        "#         continue\n",
        "\n",
        "# i += 1\n",
        "\n",
        "         "
      ],
      "metadata": {
        "id": "M0LQzzhz8_y1"
      },
      "execution_count": null,
      "outputs": []
    },
    {
      "cell_type": "markdown",
      "source": [
        "# Methods"
      ],
      "metadata": {
        "id": "ezCajxbK9dFO"
      }
    },
    {
      "cell_type": "code",
      "source": [
        "def addNumber(fNum, lNum):\n",
        "    sumNum = fNum + lNum\n",
        "    return sumNum\n",
        "\n",
        "print(\"What is 5 + 2?\", addNumber(5,2))\n",
        "                                            \n",
        "print(\"What is 5 + 2?\", addNumber(5,2))\n",
        "\n",
        "print('What is your name?')\n",
        "\n",
        "name = sys.stdin.readline()\n",
        "\n",
        "print(\"Hello \", name)\n"
      ],
      "metadata": {
        "id": "P1lYo_7s9bzv"
      },
      "execution_count": null,
      "outputs": []
    },
    {
      "cell_type": "markdown",
      "source": [
        "# Strings"
      ],
      "metadata": {
        "id": "KjJcAL0I9g0F"
      }
    },
    {
      "cell_type": "code",
      "source": [
        "long_string = \"I'll catch you if you fall -The Floor\"\n",
        "print(long_string[0:4])\n",
        "print(long_string[-5:])\n",
        "print(long_string[:-5])\n",
        "print(long_string[:4] + \" be there\")\n",
        "print(\"%c is my %s letter and my number %d number is %.5f\" %\n",
        "       ('X', 'favorite', 1, .14))\n",
        "\n",
        "print(long_string.capitalize())\n",
        "print(long_string.find(\"Floor\"))\n",
        "print(long_string.isalpha())\n",
        "print(long_string.isalnum())\n",
        "print(len(long_string))\n",
        "print(long_string.replace(\"Floor\", \"Ground\"))\n",
        "print(long_string.strip())\n",
        "quote_list = long_string.split(\" \")\n",
        "print(quote_list)\n",
        "\n"
      ],
      "metadata": {
        "id": "YJCD9TSp9jJd"
      },
      "execution_count": null,
      "outputs": []
    },
    {
      "cell_type": "markdown",
      "source": [
        "# Files"
      ],
      "metadata": {
        "id": "o0mx9ujc925w"
      }
    },
    {
      "cell_type": "code",
      "source": [
        "test_file = open(\"test.txt\", \"wb\")\n",
        "\n",
        "print(test_file.mode)\n",
        "\n",
        "print(test_file.name)\n",
        "test_file.write(bytes(\"Write me to the file\\n\", 'UTF-8'))\n",
        "test_file.close()\n",
        "test_file= open(\"test.txt\", \"r+\")\n",
        "text_in_file= test_file.read()\n",
        "print(text_in_file)\n",
        "test_file.close()\n",
        "#os.remove(\"test.txt\")\n"
      ],
      "metadata": {
        "id": "gin4to2495u8"
      },
      "execution_count": null,
      "outputs": []
    },
    {
      "cell_type": "markdown",
      "source": [
        "# Classes and Objects"
      ],
      "metadata": {
        "id": "ouwZbUap-FB_"
      }
    },
    {
      "cell_type": "code",
      "source": [
        "class Animal:\n",
        "    __name = \"\"\n",
        "    __height = 0\n",
        "    __weight = 0\n",
        "    __sound = \"\"\n",
        "\n",
        "    def __init__(self, name, height, weight, sound):\n",
        "        self.__name = name\n",
        "        self.__height = height\n",
        "        self.__weight = weight\n",
        "        self.__sound = sound\n",
        "    \n",
        "    \n",
        "    def set_name(self, name):\n",
        "        self .__name= name\n",
        "    \n",
        "    def set_height(self, height):\n",
        "        self .__height= height\n",
        "    \n",
        "    def set_weight(self, weight):\n",
        "        self .__weight= weight\n",
        "\n",
        "    def set_name(self, sound):\n",
        "        self .__sound= sound\n",
        "    \n",
        "    def get_name(self):\n",
        "        return self .__name\n",
        "\n",
        "    def get_height(self):\n",
        "        return self .__height\n",
        "\n",
        "    def get_weight(self):\n",
        "        return self .__weight\n",
        "\n",
        "    def get_sound(self):\n",
        "        return self .__sound\n",
        "\n",
        "    def get_type(self):\n",
        "        print(\"Animal\")\n",
        "\n",
        "    def toString(self):\n",
        "        return \"{}is{} cm tall and {} kilograms and say {}\".format(self.__name,\n",
        "                                                               self.__height,\n",
        "                                                               self.__weight,\n",
        "                                                               self.__sound)\n",
        "\n",
        "cat = Animal('Whiskers',33, 10, 'Meow')\n",
        "print(cat.toString())\n",
        "\n",
        "class Dog (Animal):\n",
        "    \n",
        "    __owner = \"\"\n",
        "     \n",
        "    def __init__(self, name, height, weight, sound, owner):\n",
        "            super(Dog, self).__init__(name, height, weight, sound)\n",
        "            self._owner = owner\n",
        "            \n",
        "        \n",
        "    def set_owner(self, owner):\n",
        "            self.__owner = owner\n",
        "    def get_owner(self):\n",
        "        return self._owner\n",
        "    def get_type(self):\n",
        "        print(\"Dog\")\n",
        "\n",
        "    # def toString(self):\n",
        "    #     return \"{} is {} cm tall and {} kilograms and say {} and his owner is {}\".format(self.__name,\n",
        "    #                                                            self.__height,\n",
        "    #                                                            self.__weight,\n",
        "    #                                                            self.__sound,\n",
        "    #                                                            self.__owner)\n",
        "\n",
        "    def multiple_sounds(self, how_many=None):\n",
        "        if how_many is None:\n",
        "            print(self.get_sound())\n",
        "        else:\n",
        "            print(self.get_sound() * how_many)\n",
        "        \n",
        "\n",
        "spot = Dog(\"Spot\", 53, 27, \"Ruff\", \"Derek\")\n",
        "print(spot.toString())\n",
        "\n",
        "class AnimalTesting :\n",
        "    def get_type(self, animal):\n",
        "        animal.get_type()\n",
        "        \n",
        "test_animals = AnimalTesting()\n",
        "\n",
        "test_animals.get_type(cat)\n",
        "test_animals.get_type(spot)\n",
        "\n",
        "spot.multiple_sounds(4)\n",
        "spot.multiple_sounds()\n"
      ],
      "metadata": {
        "id": "XvdgD-I_-NVu"
      },
      "execution_count": null,
      "outputs": []
    }
  ]
}