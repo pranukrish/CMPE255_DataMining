{
  "nbformat": 4,
  "nbformat_minor": 0,
  "metadata": {
    "colab": {
      "provenance": [],
      "authorship_tag": "ABX9TyO/JpN64zpeccg4vIf0CWFV",
      "include_colab_link": true
    },
    "kernelspec": {
      "name": "python3",
      "display_name": "Python 3"
    },
    "language_info": {
      "name": "python"
    }
  },
  "cells": [
    {
      "cell_type": "markdown",
      "metadata": {
        "id": "view-in-github",
        "colab_type": "text"
      },
      "source": [
        "<a href=\"https://colab.research.google.com/github/pranukrish/CMPE255_DataMining/blob/main/Assignment6/FrequentPatternMiningAlgos.ipynb\" target=\"_parent\"><img src=\"https://colab.research.google.com/assets/colab-badge.svg\" alt=\"Open In Colab\"/></a>"
      ]
    },
    {
      "cell_type": "markdown",
      "source": [
        "#CMPE 255 Frequent Pattern Mining Apriori and Fpgrowth Algorithms"
      ],
      "metadata": {
        "id": "WuRtsVQKmJO7"
      }
    },
    {
      "cell_type": "markdown",
      "source": [
        "Importing Libraries"
      ],
      "metadata": {
        "id": "4y5RZ3F3mPS4"
      }
    },
    {
      "cell_type": "code",
      "source": [
        "import pandas as pd"
      ],
      "metadata": {
        "id": "RknNFmVhmRjF"
      },
      "execution_count": 1,
      "outputs": []
    },
    {
      "cell_type": "code",
      "source": [
        "!pip install --quiet mlxtend --upgrade"
      ],
      "metadata": {
        "colab": {
          "base_uri": "https://localhost:8080/"
        },
        "id": "2QlbFGjbmUm6",
        "outputId": "905241aa-a211-46d9-ee41-9acbed8d77c5"
      },
      "execution_count": 2,
      "outputs": [
        {
          "output_type": "stream",
          "name": "stdout",
          "text": [
            "\u001b[?25l\r\u001b[K     |▎                               | 10 kB 28.4 MB/s eta 0:00:01\r\u001b[K     |▌                               | 20 kB 33.6 MB/s eta 0:00:01\r\u001b[K     |▊                               | 30 kB 37.7 MB/s eta 0:00:01\r\u001b[K     |█                               | 40 kB 36.4 MB/s eta 0:00:01\r\u001b[K     |█▏                              | 51 kB 22.0 MB/s eta 0:00:01\r\u001b[K     |█▌                              | 61 kB 23.1 MB/s eta 0:00:01\r\u001b[K     |█▊                              | 71 kB 24.4 MB/s eta 0:00:01\r\u001b[K     |██                              | 81 kB 26.0 MB/s eta 0:00:01\r\u001b[K     |██▏                             | 92 kB 28.2 MB/s eta 0:00:01\r\u001b[K     |██▍                             | 102 kB 30.2 MB/s eta 0:00:01\r\u001b[K     |██▊                             | 112 kB 30.2 MB/s eta 0:00:01\r\u001b[K     |███                             | 122 kB 30.2 MB/s eta 0:00:01\r\u001b[K     |███▏                            | 133 kB 30.2 MB/s eta 0:00:01\r\u001b[K     |███▍                            | 143 kB 30.2 MB/s eta 0:00:01\r\u001b[K     |███▋                            | 153 kB 30.2 MB/s eta 0:00:01\r\u001b[K     |███▉                            | 163 kB 30.2 MB/s eta 0:00:01\r\u001b[K     |████▏                           | 174 kB 30.2 MB/s eta 0:00:01\r\u001b[K     |████▍                           | 184 kB 30.2 MB/s eta 0:00:01\r\u001b[K     |████▋                           | 194 kB 30.2 MB/s eta 0:00:01\r\u001b[K     |████▉                           | 204 kB 30.2 MB/s eta 0:00:01\r\u001b[K     |█████                           | 215 kB 30.2 MB/s eta 0:00:01\r\u001b[K     |█████▍                          | 225 kB 30.2 MB/s eta 0:00:01\r\u001b[K     |█████▋                          | 235 kB 30.2 MB/s eta 0:00:01\r\u001b[K     |█████▉                          | 245 kB 30.2 MB/s eta 0:00:01\r\u001b[K     |██████                          | 256 kB 30.2 MB/s eta 0:00:01\r\u001b[K     |██████▎                         | 266 kB 30.2 MB/s eta 0:00:01\r\u001b[K     |██████▋                         | 276 kB 30.2 MB/s eta 0:00:01\r\u001b[K     |██████▉                         | 286 kB 30.2 MB/s eta 0:00:01\r\u001b[K     |███████                         | 296 kB 30.2 MB/s eta 0:00:01\r\u001b[K     |███████▎                        | 307 kB 30.2 MB/s eta 0:00:01\r\u001b[K     |███████▌                        | 317 kB 30.2 MB/s eta 0:00:01\r\u001b[K     |███████▊                        | 327 kB 30.2 MB/s eta 0:00:01\r\u001b[K     |████████                        | 337 kB 30.2 MB/s eta 0:00:01\r\u001b[K     |████████▎                       | 348 kB 30.2 MB/s eta 0:00:01\r\u001b[K     |████████▌                       | 358 kB 30.2 MB/s eta 0:00:01\r\u001b[K     |████████▊                       | 368 kB 30.2 MB/s eta 0:00:01\r\u001b[K     |█████████                       | 378 kB 30.2 MB/s eta 0:00:01\r\u001b[K     |█████████▎                      | 389 kB 30.2 MB/s eta 0:00:01\r\u001b[K     |█████████▌                      | 399 kB 30.2 MB/s eta 0:00:01\r\u001b[K     |█████████▊                      | 409 kB 30.2 MB/s eta 0:00:01\r\u001b[K     |██████████                      | 419 kB 30.2 MB/s eta 0:00:01\r\u001b[K     |██████████▏                     | 430 kB 30.2 MB/s eta 0:00:01\r\u001b[K     |██████████▍                     | 440 kB 30.2 MB/s eta 0:00:01\r\u001b[K     |██████████▊                     | 450 kB 30.2 MB/s eta 0:00:01\r\u001b[K     |███████████                     | 460 kB 30.2 MB/s eta 0:00:01\r\u001b[K     |███████████▏                    | 471 kB 30.2 MB/s eta 0:00:01\r\u001b[K     |███████████▍                    | 481 kB 30.2 MB/s eta 0:00:01\r\u001b[K     |███████████▋                    | 491 kB 30.2 MB/s eta 0:00:01\r\u001b[K     |████████████                    | 501 kB 30.2 MB/s eta 0:00:01\r\u001b[K     |████████████▏                   | 512 kB 30.2 MB/s eta 0:00:01\r\u001b[K     |████████████▍                   | 522 kB 30.2 MB/s eta 0:00:01\r\u001b[K     |████████████▋                   | 532 kB 30.2 MB/s eta 0:00:01\r\u001b[K     |████████████▉                   | 542 kB 30.2 MB/s eta 0:00:01\r\u001b[K     |█████████████▏                  | 552 kB 30.2 MB/s eta 0:00:01\r\u001b[K     |█████████████▍                  | 563 kB 30.2 MB/s eta 0:00:01\r\u001b[K     |█████████████▋                  | 573 kB 30.2 MB/s eta 0:00:01\r\u001b[K     |█████████████▉                  | 583 kB 30.2 MB/s eta 0:00:01\r\u001b[K     |██████████████                  | 593 kB 30.2 MB/s eta 0:00:01\r\u001b[K     |██████████████▎                 | 604 kB 30.2 MB/s eta 0:00:01\r\u001b[K     |██████████████▋                 | 614 kB 30.2 MB/s eta 0:00:01\r\u001b[K     |██████████████▉                 | 624 kB 30.2 MB/s eta 0:00:01\r\u001b[K     |███████████████                 | 634 kB 30.2 MB/s eta 0:00:01\r\u001b[K     |███████████████▎                | 645 kB 30.2 MB/s eta 0:00:01\r\u001b[K     |███████████████▌                | 655 kB 30.2 MB/s eta 0:00:01\r\u001b[K     |███████████████▉                | 665 kB 30.2 MB/s eta 0:00:01\r\u001b[K     |████████████████                | 675 kB 30.2 MB/s eta 0:00:01\r\u001b[K     |████████████████▎               | 686 kB 30.2 MB/s eta 0:00:01\r\u001b[K     |████████████████▌               | 696 kB 30.2 MB/s eta 0:00:01\r\u001b[K     |████████████████▊               | 706 kB 30.2 MB/s eta 0:00:01\r\u001b[K     |█████████████████               | 716 kB 30.2 MB/s eta 0:00:01\r\u001b[K     |█████████████████▎              | 727 kB 30.2 MB/s eta 0:00:01\r\u001b[K     |█████████████████▌              | 737 kB 30.2 MB/s eta 0:00:01\r\u001b[K     |█████████████████▊              | 747 kB 30.2 MB/s eta 0:00:01\r\u001b[K     |██████████████████              | 757 kB 30.2 MB/s eta 0:00:01\r\u001b[K     |██████████████████▏             | 768 kB 30.2 MB/s eta 0:00:01\r\u001b[K     |██████████████████▌             | 778 kB 30.2 MB/s eta 0:00:01\r\u001b[K     |██████████████████▊             | 788 kB 30.2 MB/s eta 0:00:01\r\u001b[K     |███████████████████             | 798 kB 30.2 MB/s eta 0:00:01\r\u001b[K     |███████████████████▏            | 808 kB 30.2 MB/s eta 0:00:01\r\u001b[K     |███████████████████▍            | 819 kB 30.2 MB/s eta 0:00:01\r\u001b[K     |███████████████████▊            | 829 kB 30.2 MB/s eta 0:00:01\r\u001b[K     |████████████████████            | 839 kB 30.2 MB/s eta 0:00:01\r\u001b[K     |████████████████████▏           | 849 kB 30.2 MB/s eta 0:00:01\r\u001b[K     |████████████████████▍           | 860 kB 30.2 MB/s eta 0:00:01\r\u001b[K     |████████████████████▋           | 870 kB 30.2 MB/s eta 0:00:01\r\u001b[K     |████████████████████▉           | 880 kB 30.2 MB/s eta 0:00:01\r\u001b[K     |█████████████████████▏          | 890 kB 30.2 MB/s eta 0:00:01\r\u001b[K     |█████████████████████▍          | 901 kB 30.2 MB/s eta 0:00:01\r\u001b[K     |█████████████████████▋          | 911 kB 30.2 MB/s eta 0:00:01\r\u001b[K     |█████████████████████▉          | 921 kB 30.2 MB/s eta 0:00:01\r\u001b[K     |██████████████████████          | 931 kB 30.2 MB/s eta 0:00:01\r\u001b[K     |██████████████████████▍         | 942 kB 30.2 MB/s eta 0:00:01\r\u001b[K     |██████████████████████▋         | 952 kB 30.2 MB/s eta 0:00:01\r\u001b[K     |██████████████████████▉         | 962 kB 30.2 MB/s eta 0:00:01\r\u001b[K     |███████████████████████         | 972 kB 30.2 MB/s eta 0:00:01\r\u001b[K     |███████████████████████▎        | 983 kB 30.2 MB/s eta 0:00:01\r\u001b[K     |███████████████████████▌        | 993 kB 30.2 MB/s eta 0:00:01\r\u001b[K     |███████████████████████▉        | 1.0 MB 30.2 MB/s eta 0:00:01\r\u001b[K     |████████████████████████        | 1.0 MB 30.2 MB/s eta 0:00:01\r\u001b[K     |████████████████████████▎       | 1.0 MB 30.2 MB/s eta 0:00:01\r\u001b[K     |████████████████████████▌       | 1.0 MB 30.2 MB/s eta 0:00:01\r\u001b[K     |████████████████████████▊       | 1.0 MB 30.2 MB/s eta 0:00:01\r\u001b[K     |█████████████████████████       | 1.1 MB 30.2 MB/s eta 0:00:01\r\u001b[K     |█████████████████████████▎      | 1.1 MB 30.2 MB/s eta 0:00:01\r\u001b[K     |█████████████████████████▌      | 1.1 MB 30.2 MB/s eta 0:00:01\r\u001b[K     |█████████████████████████▊      | 1.1 MB 30.2 MB/s eta 0:00:01\r\u001b[K     |██████████████████████████      | 1.1 MB 30.2 MB/s eta 0:00:01\r\u001b[K     |██████████████████████████▎     | 1.1 MB 30.2 MB/s eta 0:00:01\r\u001b[K     |██████████████████████████▌     | 1.1 MB 30.2 MB/s eta 0:00:01\r\u001b[K     |██████████████████████████▊     | 1.1 MB 30.2 MB/s eta 0:00:01\r\u001b[K     |███████████████████████████     | 1.1 MB 30.2 MB/s eta 0:00:01\r\u001b[K     |███████████████████████████▏    | 1.1 MB 30.2 MB/s eta 0:00:01\r\u001b[K     |███████████████████████████▍    | 1.2 MB 30.2 MB/s eta 0:00:01\r\u001b[K     |███████████████████████████▊    | 1.2 MB 30.2 MB/s eta 0:00:01\r\u001b[K     |████████████████████████████    | 1.2 MB 30.2 MB/s eta 0:00:01\r\u001b[K     |████████████████████████████▏   | 1.2 MB 30.2 MB/s eta 0:00:01\r\u001b[K     |████████████████████████████▍   | 1.2 MB 30.2 MB/s eta 0:00:01\r\u001b[K     |████████████████████████████▋   | 1.2 MB 30.2 MB/s eta 0:00:01\r\u001b[K     |█████████████████████████████   | 1.2 MB 30.2 MB/s eta 0:00:01\r\u001b[K     |█████████████████████████████▏  | 1.2 MB 30.2 MB/s eta 0:00:01\r\u001b[K     |█████████████████████████████▍  | 1.2 MB 30.2 MB/s eta 0:00:01\r\u001b[K     |█████████████████████████████▋  | 1.2 MB 30.2 MB/s eta 0:00:01\r\u001b[K     |█████████████████████████████▉  | 1.3 MB 30.2 MB/s eta 0:00:01\r\u001b[K     |██████████████████████████████  | 1.3 MB 30.2 MB/s eta 0:00:01\r\u001b[K     |██████████████████████████████▍ | 1.3 MB 30.2 MB/s eta 0:00:01\r\u001b[K     |██████████████████████████████▋ | 1.3 MB 30.2 MB/s eta 0:00:01\r\u001b[K     |██████████████████████████████▉ | 1.3 MB 30.2 MB/s eta 0:00:01\r\u001b[K     |███████████████████████████████ | 1.3 MB 30.2 MB/s eta 0:00:01\r\u001b[K     |███████████████████████████████▎| 1.3 MB 30.2 MB/s eta 0:00:01\r\u001b[K     |███████████████████████████████▋| 1.3 MB 30.2 MB/s eta 0:00:01\r\u001b[K     |███████████████████████████████▉| 1.3 MB 30.2 MB/s eta 0:00:01\r\u001b[K     |████████████████████████████████| 1.3 MB 30.2 MB/s \n",
            "\u001b[?25h"
          ]
        }
      ]
    },
    {
      "cell_type": "code",
      "source": [
        "from mlxtend.preprocessing import TransactionEncoder\n",
        "from mlxtend.frequent_patterns import apriori, fpgrowth, association_rules"
      ],
      "metadata": {
        "id": "9U5Iz_LXmXdh"
      },
      "execution_count": 3,
      "outputs": []
    },
    {
      "cell_type": "markdown",
      "source": [
        "Loading Dataset"
      ],
      "metadata": {
        "id": "A4rkMo6DmqCc"
      }
    },
    {
      "cell_type": "code",
      "source": [
        "from google.colab import drive\n",
        "drive.mount('/content/drive')"
      ],
      "metadata": {
        "colab": {
          "base_uri": "https://localhost:8080/"
        },
        "id": "9bWCH8bUnUe0",
        "outputId": "8f015191-63a5-46b5-e393-6865519b124f"
      },
      "execution_count": 4,
      "outputs": [
        {
          "output_type": "stream",
          "name": "stdout",
          "text": [
            "Mounted at /content/drive\n"
          ]
        }
      ]
    },
    {
      "cell_type": "code",
      "source": [
        "data = pd.read_csv(\"/content/drive/MyDrive/Data/AssoRuleMining_MarketBasket.csv\")"
      ],
      "metadata": {
        "id": "A3rvQ5iAmsIU"
      },
      "execution_count": 7,
      "outputs": []
    },
    {
      "cell_type": "code",
      "source": [
        "data.head()"
      ],
      "metadata": {
        "colab": {
          "base_uri": "https://localhost:8080/",
          "height": 206
        },
        "id": "OWx2jLw0nDkz",
        "outputId": "a78d0237-964f-4ebf-eb95-50ae2252e80c"
      },
      "execution_count": 8,
      "outputs": [
        {
          "output_type": "execute_result",
          "data": {
            "text/plain": [
              "   BillNo                             Itemname  Quantity            Date  \\\n",
              "0  536365   WHITE HANGING HEART T-LIGHT HOLDER         6  12/1/2010 8:26   \n",
              "1  536365                  WHITE METAL LANTERN         6  12/1/2010 8:26   \n",
              "2  536365       CREAM CUPID HEARTS COAT HANGER         8  12/1/2010 8:26   \n",
              "3  536365  KNITTED UNION FLAG HOT WATER BOTTLE         6  12/1/2010 8:26   \n",
              "4  536365       RED WOOLLY HOTTIE WHITE HEART.         6  12/1/2010 8:26   \n",
              "\n",
              "   Price  CustomerID         Country  \n",
              "0   2.55     17850.0  United Kingdom  \n",
              "1   3.39     17850.0  United Kingdom  \n",
              "2   2.75     17850.0  United Kingdom  \n",
              "3   3.39     17850.0  United Kingdom  \n",
              "4   3.39     17850.0  United Kingdom  "
            ],
            "text/html": [
              "\n",
              "  <div id=\"df-c651cbf4-a0d4-49d1-a220-40642592c4bd\">\n",
              "    <div class=\"colab-df-container\">\n",
              "      <div>\n",
              "<style scoped>\n",
              "    .dataframe tbody tr th:only-of-type {\n",
              "        vertical-align: middle;\n",
              "    }\n",
              "\n",
              "    .dataframe tbody tr th {\n",
              "        vertical-align: top;\n",
              "    }\n",
              "\n",
              "    .dataframe thead th {\n",
              "        text-align: right;\n",
              "    }\n",
              "</style>\n",
              "<table border=\"1\" class=\"dataframe\">\n",
              "  <thead>\n",
              "    <tr style=\"text-align: right;\">\n",
              "      <th></th>\n",
              "      <th>BillNo</th>\n",
              "      <th>Itemname</th>\n",
              "      <th>Quantity</th>\n",
              "      <th>Date</th>\n",
              "      <th>Price</th>\n",
              "      <th>CustomerID</th>\n",
              "      <th>Country</th>\n",
              "    </tr>\n",
              "  </thead>\n",
              "  <tbody>\n",
              "    <tr>\n",
              "      <th>0</th>\n",
              "      <td>536365</td>\n",
              "      <td>WHITE HANGING HEART T-LIGHT HOLDER</td>\n",
              "      <td>6</td>\n",
              "      <td>12/1/2010 8:26</td>\n",
              "      <td>2.55</td>\n",
              "      <td>17850.0</td>\n",
              "      <td>United Kingdom</td>\n",
              "    </tr>\n",
              "    <tr>\n",
              "      <th>1</th>\n",
              "      <td>536365</td>\n",
              "      <td>WHITE METAL LANTERN</td>\n",
              "      <td>6</td>\n",
              "      <td>12/1/2010 8:26</td>\n",
              "      <td>3.39</td>\n",
              "      <td>17850.0</td>\n",
              "      <td>United Kingdom</td>\n",
              "    </tr>\n",
              "    <tr>\n",
              "      <th>2</th>\n",
              "      <td>536365</td>\n",
              "      <td>CREAM CUPID HEARTS COAT HANGER</td>\n",
              "      <td>8</td>\n",
              "      <td>12/1/2010 8:26</td>\n",
              "      <td>2.75</td>\n",
              "      <td>17850.0</td>\n",
              "      <td>United Kingdom</td>\n",
              "    </tr>\n",
              "    <tr>\n",
              "      <th>3</th>\n",
              "      <td>536365</td>\n",
              "      <td>KNITTED UNION FLAG HOT WATER BOTTLE</td>\n",
              "      <td>6</td>\n",
              "      <td>12/1/2010 8:26</td>\n",
              "      <td>3.39</td>\n",
              "      <td>17850.0</td>\n",
              "      <td>United Kingdom</td>\n",
              "    </tr>\n",
              "    <tr>\n",
              "      <th>4</th>\n",
              "      <td>536365</td>\n",
              "      <td>RED WOOLLY HOTTIE WHITE HEART.</td>\n",
              "      <td>6</td>\n",
              "      <td>12/1/2010 8:26</td>\n",
              "      <td>3.39</td>\n",
              "      <td>17850.0</td>\n",
              "      <td>United Kingdom</td>\n",
              "    </tr>\n",
              "  </tbody>\n",
              "</table>\n",
              "</div>\n",
              "      <button class=\"colab-df-convert\" onclick=\"convertToInteractive('df-c651cbf4-a0d4-49d1-a220-40642592c4bd')\"\n",
              "              title=\"Convert this dataframe to an interactive table.\"\n",
              "              style=\"display:none;\">\n",
              "        \n",
              "  <svg xmlns=\"http://www.w3.org/2000/svg\" height=\"24px\"viewBox=\"0 0 24 24\"\n",
              "       width=\"24px\">\n",
              "    <path d=\"M0 0h24v24H0V0z\" fill=\"none\"/>\n",
              "    <path d=\"M18.56 5.44l.94 2.06.94-2.06 2.06-.94-2.06-.94-.94-2.06-.94 2.06-2.06.94zm-11 1L8.5 8.5l.94-2.06 2.06-.94-2.06-.94L8.5 2.5l-.94 2.06-2.06.94zm10 10l.94 2.06.94-2.06 2.06-.94-2.06-.94-.94-2.06-.94 2.06-2.06.94z\"/><path d=\"M17.41 7.96l-1.37-1.37c-.4-.4-.92-.59-1.43-.59-.52 0-1.04.2-1.43.59L10.3 9.45l-7.72 7.72c-.78.78-.78 2.05 0 2.83L4 21.41c.39.39.9.59 1.41.59.51 0 1.02-.2 1.41-.59l7.78-7.78 2.81-2.81c.8-.78.8-2.07 0-2.86zM5.41 20L4 18.59l7.72-7.72 1.47 1.35L5.41 20z\"/>\n",
              "  </svg>\n",
              "      </button>\n",
              "      \n",
              "  <style>\n",
              "    .colab-df-container {\n",
              "      display:flex;\n",
              "      flex-wrap:wrap;\n",
              "      gap: 12px;\n",
              "    }\n",
              "\n",
              "    .colab-df-convert {\n",
              "      background-color: #E8F0FE;\n",
              "      border: none;\n",
              "      border-radius: 50%;\n",
              "      cursor: pointer;\n",
              "      display: none;\n",
              "      fill: #1967D2;\n",
              "      height: 32px;\n",
              "      padding: 0 0 0 0;\n",
              "      width: 32px;\n",
              "    }\n",
              "\n",
              "    .colab-df-convert:hover {\n",
              "      background-color: #E2EBFA;\n",
              "      box-shadow: 0px 1px 2px rgba(60, 64, 67, 0.3), 0px 1px 3px 1px rgba(60, 64, 67, 0.15);\n",
              "      fill: #174EA6;\n",
              "    }\n",
              "\n",
              "    [theme=dark] .colab-df-convert {\n",
              "      background-color: #3B4455;\n",
              "      fill: #D2E3FC;\n",
              "    }\n",
              "\n",
              "    [theme=dark] .colab-df-convert:hover {\n",
              "      background-color: #434B5C;\n",
              "      box-shadow: 0px 1px 3px 1px rgba(0, 0, 0, 0.15);\n",
              "      filter: drop-shadow(0px 1px 2px rgba(0, 0, 0, 0.3));\n",
              "      fill: #FFFFFF;\n",
              "    }\n",
              "  </style>\n",
              "\n",
              "      <script>\n",
              "        const buttonEl =\n",
              "          document.querySelector('#df-c651cbf4-a0d4-49d1-a220-40642592c4bd button.colab-df-convert');\n",
              "        buttonEl.style.display =\n",
              "          google.colab.kernel.accessAllowed ? 'block' : 'none';\n",
              "\n",
              "        async function convertToInteractive(key) {\n",
              "          const element = document.querySelector('#df-c651cbf4-a0d4-49d1-a220-40642592c4bd');\n",
              "          const dataTable =\n",
              "            await google.colab.kernel.invokeFunction('convertToInteractive',\n",
              "                                                     [key], {});\n",
              "          if (!dataTable) return;\n",
              "\n",
              "          const docLinkHtml = 'Like what you see? Visit the ' +\n",
              "            '<a target=\"_blank\" href=https://colab.research.google.com/notebooks/data_table.ipynb>data table notebook</a>'\n",
              "            + ' to learn more about interactive tables.';\n",
              "          element.innerHTML = '';\n",
              "          dataTable['output_type'] = 'display_data';\n",
              "          await google.colab.output.renderOutput(dataTable, element);\n",
              "          const docLink = document.createElement('div');\n",
              "          docLink.innerHTML = docLinkHtml;\n",
              "          element.appendChild(docLink);\n",
              "        }\n",
              "      </script>\n",
              "    </div>\n",
              "  </div>\n",
              "  "
            ]
          },
          "metadata": {},
          "execution_count": 8
        }
      ]
    },
    {
      "cell_type": "code",
      "source": [
        "data.product_name = data.Itemname\n",
        "order_train_labels = data.BillNo.unique()"
      ],
      "metadata": {
        "colab": {
          "base_uri": "https://localhost:8080/"
        },
        "id": "CrisZnbSnEd9",
        "outputId": "2a70fabb-0896-4f5e-eec5-676e5b173a90"
      },
      "execution_count": 11,
      "outputs": [
        {
          "output_type": "stream",
          "name": "stderr",
          "text": [
            "<ipython-input-11-17edc9928527>:1: UserWarning: Pandas doesn't allow columns to be created via a new attribute name - see https://pandas.pydata.org/pandas-docs/stable/indexing.html#attribute-access\n",
            "  data.product_name = data.Itemname\n"
          ]
        }
      ]
    },
    {
      "cell_type": "code",
      "source": [
        "data.head()"
      ],
      "metadata": {
        "colab": {
          "base_uri": "https://localhost:8080/",
          "height": 206
        },
        "id": "WPigfFLhsp3w",
        "outputId": "ce568cb7-cd04-4cd0-ac9c-289eda847a50"
      },
      "execution_count": 12,
      "outputs": [
        {
          "output_type": "execute_result",
          "data": {
            "text/plain": [
              "   BillNo                             Itemname  Quantity            Date  \\\n",
              "0  536365   WHITE HANGING HEART T-LIGHT HOLDER         6  12/1/2010 8:26   \n",
              "1  536365                  WHITE METAL LANTERN         6  12/1/2010 8:26   \n",
              "2  536365       CREAM CUPID HEARTS COAT HANGER         8  12/1/2010 8:26   \n",
              "3  536365  KNITTED UNION FLAG HOT WATER BOTTLE         6  12/1/2010 8:26   \n",
              "4  536365       RED WOOLLY HOTTIE WHITE HEART.         6  12/1/2010 8:26   \n",
              "\n",
              "   Price  CustomerID         Country  \n",
              "0   2.55     17850.0  United Kingdom  \n",
              "1   3.39     17850.0  United Kingdom  \n",
              "2   2.75     17850.0  United Kingdom  \n",
              "3   3.39     17850.0  United Kingdom  \n",
              "4   3.39     17850.0  United Kingdom  "
            ],
            "text/html": [
              "\n",
              "  <div id=\"df-13163d21-d7d2-40e8-a9d0-e13289cb513d\">\n",
              "    <div class=\"colab-df-container\">\n",
              "      <div>\n",
              "<style scoped>\n",
              "    .dataframe tbody tr th:only-of-type {\n",
              "        vertical-align: middle;\n",
              "    }\n",
              "\n",
              "    .dataframe tbody tr th {\n",
              "        vertical-align: top;\n",
              "    }\n",
              "\n",
              "    .dataframe thead th {\n",
              "        text-align: right;\n",
              "    }\n",
              "</style>\n",
              "<table border=\"1\" class=\"dataframe\">\n",
              "  <thead>\n",
              "    <tr style=\"text-align: right;\">\n",
              "      <th></th>\n",
              "      <th>BillNo</th>\n",
              "      <th>Itemname</th>\n",
              "      <th>Quantity</th>\n",
              "      <th>Date</th>\n",
              "      <th>Price</th>\n",
              "      <th>CustomerID</th>\n",
              "      <th>Country</th>\n",
              "    </tr>\n",
              "  </thead>\n",
              "  <tbody>\n",
              "    <tr>\n",
              "      <th>0</th>\n",
              "      <td>536365</td>\n",
              "      <td>WHITE HANGING HEART T-LIGHT HOLDER</td>\n",
              "      <td>6</td>\n",
              "      <td>12/1/2010 8:26</td>\n",
              "      <td>2.55</td>\n",
              "      <td>17850.0</td>\n",
              "      <td>United Kingdom</td>\n",
              "    </tr>\n",
              "    <tr>\n",
              "      <th>1</th>\n",
              "      <td>536365</td>\n",
              "      <td>WHITE METAL LANTERN</td>\n",
              "      <td>6</td>\n",
              "      <td>12/1/2010 8:26</td>\n",
              "      <td>3.39</td>\n",
              "      <td>17850.0</td>\n",
              "      <td>United Kingdom</td>\n",
              "    </tr>\n",
              "    <tr>\n",
              "      <th>2</th>\n",
              "      <td>536365</td>\n",
              "      <td>CREAM CUPID HEARTS COAT HANGER</td>\n",
              "      <td>8</td>\n",
              "      <td>12/1/2010 8:26</td>\n",
              "      <td>2.75</td>\n",
              "      <td>17850.0</td>\n",
              "      <td>United Kingdom</td>\n",
              "    </tr>\n",
              "    <tr>\n",
              "      <th>3</th>\n",
              "      <td>536365</td>\n",
              "      <td>KNITTED UNION FLAG HOT WATER BOTTLE</td>\n",
              "      <td>6</td>\n",
              "      <td>12/1/2010 8:26</td>\n",
              "      <td>3.39</td>\n",
              "      <td>17850.0</td>\n",
              "      <td>United Kingdom</td>\n",
              "    </tr>\n",
              "    <tr>\n",
              "      <th>4</th>\n",
              "      <td>536365</td>\n",
              "      <td>RED WOOLLY HOTTIE WHITE HEART.</td>\n",
              "      <td>6</td>\n",
              "      <td>12/1/2010 8:26</td>\n",
              "      <td>3.39</td>\n",
              "      <td>17850.0</td>\n",
              "      <td>United Kingdom</td>\n",
              "    </tr>\n",
              "  </tbody>\n",
              "</table>\n",
              "</div>\n",
              "      <button class=\"colab-df-convert\" onclick=\"convertToInteractive('df-13163d21-d7d2-40e8-a9d0-e13289cb513d')\"\n",
              "              title=\"Convert this dataframe to an interactive table.\"\n",
              "              style=\"display:none;\">\n",
              "        \n",
              "  <svg xmlns=\"http://www.w3.org/2000/svg\" height=\"24px\"viewBox=\"0 0 24 24\"\n",
              "       width=\"24px\">\n",
              "    <path d=\"M0 0h24v24H0V0z\" fill=\"none\"/>\n",
              "    <path d=\"M18.56 5.44l.94 2.06.94-2.06 2.06-.94-2.06-.94-.94-2.06-.94 2.06-2.06.94zm-11 1L8.5 8.5l.94-2.06 2.06-.94-2.06-.94L8.5 2.5l-.94 2.06-2.06.94zm10 10l.94 2.06.94-2.06 2.06-.94-2.06-.94-.94-2.06-.94 2.06-2.06.94z\"/><path d=\"M17.41 7.96l-1.37-1.37c-.4-.4-.92-.59-1.43-.59-.52 0-1.04.2-1.43.59L10.3 9.45l-7.72 7.72c-.78.78-.78 2.05 0 2.83L4 21.41c.39.39.9.59 1.41.59.51 0 1.02-.2 1.41-.59l7.78-7.78 2.81-2.81c.8-.78.8-2.07 0-2.86zM5.41 20L4 18.59l7.72-7.72 1.47 1.35L5.41 20z\"/>\n",
              "  </svg>\n",
              "      </button>\n",
              "      \n",
              "  <style>\n",
              "    .colab-df-container {\n",
              "      display:flex;\n",
              "      flex-wrap:wrap;\n",
              "      gap: 12px;\n",
              "    }\n",
              "\n",
              "    .colab-df-convert {\n",
              "      background-color: #E8F0FE;\n",
              "      border: none;\n",
              "      border-radius: 50%;\n",
              "      cursor: pointer;\n",
              "      display: none;\n",
              "      fill: #1967D2;\n",
              "      height: 32px;\n",
              "      padding: 0 0 0 0;\n",
              "      width: 32px;\n",
              "    }\n",
              "\n",
              "    .colab-df-convert:hover {\n",
              "      background-color: #E2EBFA;\n",
              "      box-shadow: 0px 1px 2px rgba(60, 64, 67, 0.3), 0px 1px 3px 1px rgba(60, 64, 67, 0.15);\n",
              "      fill: #174EA6;\n",
              "    }\n",
              "\n",
              "    [theme=dark] .colab-df-convert {\n",
              "      background-color: #3B4455;\n",
              "      fill: #D2E3FC;\n",
              "    }\n",
              "\n",
              "    [theme=dark] .colab-df-convert:hover {\n",
              "      background-color: #434B5C;\n",
              "      box-shadow: 0px 1px 3px 1px rgba(0, 0, 0, 0.15);\n",
              "      filter: drop-shadow(0px 1px 2px rgba(0, 0, 0, 0.3));\n",
              "      fill: #FFFFFF;\n",
              "    }\n",
              "  </style>\n",
              "\n",
              "      <script>\n",
              "        const buttonEl =\n",
              "          document.querySelector('#df-13163d21-d7d2-40e8-a9d0-e13289cb513d button.colab-df-convert');\n",
              "        buttonEl.style.display =\n",
              "          google.colab.kernel.accessAllowed ? 'block' : 'none';\n",
              "\n",
              "        async function convertToInteractive(key) {\n",
              "          const element = document.querySelector('#df-13163d21-d7d2-40e8-a9d0-e13289cb513d');\n",
              "          const dataTable =\n",
              "            await google.colab.kernel.invokeFunction('convertToInteractive',\n",
              "                                                     [key], {});\n",
              "          if (!dataTable) return;\n",
              "\n",
              "          const docLinkHtml = 'Like what you see? Visit the ' +\n",
              "            '<a target=\"_blank\" href=https://colab.research.google.com/notebooks/data_table.ipynb>data table notebook</a>'\n",
              "            + ' to learn more about interactive tables.';\n",
              "          element.innerHTML = '';\n",
              "          dataTable['output_type'] = 'display_data';\n",
              "          await google.colab.output.renderOutput(dataTable, element);\n",
              "          const docLink = document.createElement('div');\n",
              "          docLink.innerHTML = docLinkHtml;\n",
              "          element.appendChild(docLink);\n",
              "        }\n",
              "      </script>\n",
              "    </div>\n",
              "  </div>\n",
              "  "
            ]
          },
          "metadata": {},
          "execution_count": 12
        }
      ]
    },
    {
      "cell_type": "markdown",
      "source": [
        "Data Preprocessing"
      ],
      "metadata": {
        "id": "eyrtMsQZnorB"
      }
    },
    {
      "cell_type": "code",
      "source": [
        "transactions = [data[data.BillNo == i][\"Itemname\"].tolist() for i in order_train_labels]\n",
        "transaction_encoder = TransactionEncoder().fit(transactions)\n",
        "transactions = transaction_encoder.transform(transactions)"
      ],
      "metadata": {
        "colab": {
          "base_uri": "https://localhost:8080/",
          "height": 322
        },
        "id": "xdZZ3gr-npt3",
        "outputId": "cd1b09a0-8974-4459-a0c2-b87daf47ee73"
      },
      "execution_count": 15,
      "outputs": [
        {
          "output_type": "error",
          "ename": "TypeError",
          "evalue": "ignored",
          "traceback": [
            "\u001b[0;31m---------------------------------------------------------------------------\u001b[0m",
            "\u001b[0;31mTypeError\u001b[0m                                 Traceback (most recent call last)",
            "\u001b[0;32m<ipython-input-15-97801306716a>\u001b[0m in \u001b[0;36m<module>\u001b[0;34m\u001b[0m\n\u001b[1;32m      1\u001b[0m \u001b[0mtransactions\u001b[0m \u001b[0;34m=\u001b[0m \u001b[0;34m[\u001b[0m\u001b[0mdata\u001b[0m\u001b[0;34m[\u001b[0m\u001b[0mdata\u001b[0m\u001b[0;34m.\u001b[0m\u001b[0mBillNo\u001b[0m \u001b[0;34m==\u001b[0m \u001b[0mi\u001b[0m\u001b[0;34m]\u001b[0m\u001b[0;34m[\u001b[0m\u001b[0;34m\"Itemname\"\u001b[0m\u001b[0;34m]\u001b[0m\u001b[0;34m.\u001b[0m\u001b[0mtolist\u001b[0m\u001b[0;34m(\u001b[0m\u001b[0;34m)\u001b[0m \u001b[0;32mfor\u001b[0m \u001b[0mi\u001b[0m \u001b[0;32min\u001b[0m \u001b[0morder_train_labels\u001b[0m\u001b[0;34m]\u001b[0m\u001b[0;34m\u001b[0m\u001b[0;34m\u001b[0m\u001b[0m\n\u001b[0;32m----> 2\u001b[0;31m \u001b[0mtransaction_encoder\u001b[0m \u001b[0;34m=\u001b[0m \u001b[0mTransactionEncoder\u001b[0m\u001b[0;34m(\u001b[0m\u001b[0;34m)\u001b[0m\u001b[0;34m.\u001b[0m\u001b[0mfit\u001b[0m\u001b[0;34m(\u001b[0m\u001b[0mtransactions\u001b[0m\u001b[0;34m)\u001b[0m\u001b[0;34m\u001b[0m\u001b[0;34m\u001b[0m\u001b[0m\n\u001b[0m\u001b[1;32m      3\u001b[0m \u001b[0mtransactions\u001b[0m \u001b[0;34m=\u001b[0m \u001b[0mtransaction_encoder\u001b[0m\u001b[0;34m.\u001b[0m\u001b[0mtransform\u001b[0m\u001b[0;34m(\u001b[0m\u001b[0mtransactions\u001b[0m\u001b[0;34m)\u001b[0m\u001b[0;34m\u001b[0m\u001b[0;34m\u001b[0m\u001b[0m\n",
            "\u001b[0;32m/usr/local/lib/python3.8/dist-packages/mlxtend/preprocessing/transactionencoder.py\u001b[0m in \u001b[0;36mfit\u001b[0;34m(self, X)\u001b[0m\n\u001b[1;32m     57\u001b[0m             \u001b[0;32mfor\u001b[0m \u001b[0mitem\u001b[0m \u001b[0;32min\u001b[0m \u001b[0mtransaction\u001b[0m\u001b[0;34m:\u001b[0m\u001b[0;34m\u001b[0m\u001b[0;34m\u001b[0m\u001b[0m\n\u001b[1;32m     58\u001b[0m                 \u001b[0munique_items\u001b[0m\u001b[0;34m.\u001b[0m\u001b[0madd\u001b[0m\u001b[0;34m(\u001b[0m\u001b[0mitem\u001b[0m\u001b[0;34m)\u001b[0m\u001b[0;34m\u001b[0m\u001b[0;34m\u001b[0m\u001b[0m\n\u001b[0;32m---> 59\u001b[0;31m         \u001b[0mself\u001b[0m\u001b[0;34m.\u001b[0m\u001b[0mcolumns_\u001b[0m \u001b[0;34m=\u001b[0m \u001b[0msorted\u001b[0m\u001b[0;34m(\u001b[0m\u001b[0munique_items\u001b[0m\u001b[0;34m)\u001b[0m\u001b[0;34m\u001b[0m\u001b[0;34m\u001b[0m\u001b[0m\n\u001b[0m\u001b[1;32m     60\u001b[0m         \u001b[0mcolumns_mapping\u001b[0m \u001b[0;34m=\u001b[0m \u001b[0;34m{\u001b[0m\u001b[0;34m}\u001b[0m\u001b[0;34m\u001b[0m\u001b[0;34m\u001b[0m\u001b[0m\n\u001b[1;32m     61\u001b[0m         \u001b[0;32mfor\u001b[0m \u001b[0mcol_idx\u001b[0m\u001b[0;34m,\u001b[0m \u001b[0mitem\u001b[0m \u001b[0;32min\u001b[0m \u001b[0menumerate\u001b[0m\u001b[0;34m(\u001b[0m\u001b[0mself\u001b[0m\u001b[0;34m.\u001b[0m\u001b[0mcolumns_\u001b[0m\u001b[0;34m)\u001b[0m\u001b[0;34m:\u001b[0m\u001b[0;34m\u001b[0m\u001b[0;34m\u001b[0m\u001b[0m\n",
            "\u001b[0;31mTypeError\u001b[0m: '<' not supported between instances of 'str' and 'float'"
          ]
        }
      ]
    },
    {
      "cell_type": "code",
      "source": [
        "transactions = pd.DataFrame(transactions,columns=transaction_encoder.columns_)"
      ],
      "metadata": {
        "id": "vyx66eiKntDA"
      },
      "execution_count": null,
      "outputs": []
    },
    {
      "cell_type": "code",
      "source": [
        "transactions.head()"
      ],
      "metadata": {
        "id": "pF2lWsmDtN1o"
      },
      "execution_count": null,
      "outputs": []
    },
    {
      "cell_type": "markdown",
      "source": [
        "#Apply Apriori Algorithm and finding Association Rules"
      ],
      "metadata": {
        "id": "vm9ldLOdtTRw"
      }
    },
    {
      "cell_type": "code",
      "source": [
        "minimum_support = 0.0045"
      ],
      "metadata": {
        "id": "_7l6lvLRtUgW"
      },
      "execution_count": null,
      "outputs": []
    },
    {
      "cell_type": "code",
      "source": [
        "frequent_itemset_apriori = apriori(transactions, min_support = minimum_support, use_colnames = True)\n",
        "association_rules_apriori = association_rules(frequent_itemset_apriori, metric = \"confidence\")"
      ],
      "metadata": {
        "id": "p9gvEhl9tXRa"
      },
      "execution_count": null,
      "outputs": []
    },
    {
      "cell_type": "code",
      "source": [
        "print(\"Association Rules build using Apriori Method:- \\n\")\n",
        "for item in association_rules_apriori.iterrows():\n",
        "  print(f\"Rule {item[0] + 1}: {tuple(item[1].antecedents)} -> {tuple(item[1].consequents)}\")"
      ],
      "metadata": {
        "id": "kwS2mu3ttZ7B"
      },
      "execution_count": null,
      "outputs": []
    },
    {
      "cell_type": "markdown",
      "source": [
        "#Apply Fpgrowth Algorithm and finding Association Rules"
      ],
      "metadata": {
        "id": "JW-hxRzbtkTr"
      }
    },
    {
      "cell_type": "code",
      "source": [
        "frequent_itemset_fpgrowth = fpgrowth(transactions, min_support = minimum_support, use_colnames=True)\n",
        "association_rules_fpgrowth = association_rules(frequent_itemset_fpgrowth, metric = \"confidence\")"
      ],
      "metadata": {
        "id": "ueB3m6u5tlqf"
      },
      "execution_count": null,
      "outputs": []
    },
    {
      "cell_type": "code",
      "source": [
        "print(\"Association Rules build using fpgrowth Method:- \\n\")\n",
        "for item in association_rules_fpgrowth.iterrows():\n",
        "  print(f\"Rule {item[0] + 1}: {tuple(item[1].antecedents)} -> {tuple(item[1].consequents)}\")"
      ],
      "metadata": {
        "id": "6lR5bLhgtofA"
      },
      "execution_count": null,
      "outputs": []
    }
  ]
}