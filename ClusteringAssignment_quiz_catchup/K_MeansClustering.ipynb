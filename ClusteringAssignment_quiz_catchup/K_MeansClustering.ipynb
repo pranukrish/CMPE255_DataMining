{
  "nbformat": 4,
  "nbformat_minor": 0,
  "metadata": {
    "colab": {
      "provenance": [],
      "authorship_tag": "ABX9TyN5ZPl2B2pFK2k6l2rlYAdG",
      "include_colab_link": true
    },
    "kernelspec": {
      "name": "python3",
      "display_name": "Python 3"
    },
    "language_info": {
      "name": "python"
    }
  },
  "cells": [
    {
      "cell_type": "markdown",
      "metadata": {
        "id": "view-in-github",
        "colab_type": "text"
      },
      "source": [
        "<a href=\"https://colab.research.google.com/github/pranukrish/CMPE255_DataMining/blob/main/ClusteringAssignment_quiz_catchup/K_MeansClustering.ipynb\" target=\"_parent\"><img src=\"https://colab.research.google.com/assets/colab-badge.svg\" alt=\"Open In Colab\"/></a>"
      ]
    },
    {
      "cell_type": "markdown",
      "source": [
        "Part (a)\n",
        "#Implementing K-means Algorithm from scratch"
      ],
      "metadata": {
        "id": "spCPmbW3ZjJv"
      }
    },
    {
      "cell_type": "markdown",
      "source": [
        "#Writing code for K-means algorithm"
      ],
      "metadata": {
        "id": "6FdpK9AB9otR"
      }
    },
    {
      "cell_type": "code",
      "source": [
        "from collections import defaultdict\n",
        "import math\n",
        "\n",
        "def euclidean_distance(point1, point2):\n",
        "    # calculate the euclidean distance between two points\n",
        "    distance = 0\n",
        "    for i in range(len(point1)):\n",
        "        distance += (point1[i] - point2[i]) ** 2\n",
        "    return math.sqrt(distance)\n",
        "\n",
        "def KMeans(points, k):\n",
        "    # initialize cluster centers\n",
        "    clusters = [points[i] for i in range(k)]\n",
        "\n",
        "    while True:\n",
        "        # create a defaultdict to store the points in each cluster\n",
        "        clusters_dict = defaultdict(list)\n",
        "\n",
        "        # assign each point to its closest cluster center\n",
        "        for point in points:\n",
        "            distances = [euclidean_distance(point, cluster) for cluster in clusters]\n",
        "            cluster_index = distances.index(min(distances))\n",
        "            clusters_dict[cluster_index].append(point)\n",
        "\n",
        "        # calculate the new cluster centers\n",
        "        new_clusters = [\n",
        "            [\n",
        "                sum(dim) / len(cluster)\n",
        "                for dim in zip(*cluster)\n",
        "            ]\n",
        "            for cluster in clusters_dict.values()\n",
        "        ]\n",
        "\n",
        "        # check if the cluster centers have changed\n",
        "        if new_clusters == clusters:\n",
        "            break\n",
        "        clusters = new_clusters\n",
        "\n",
        "    return clusters\n"
      ],
      "metadata": {
        "id": "zj5QIGn09mwT"
      },
      "execution_count": 8,
      "outputs": []
    },
    {
      "cell_type": "markdown",
      "source": [
        "#Importing the Libraries"
      ],
      "metadata": {
        "id": "pxRu-W9eYNSq"
      }
    },
    {
      "cell_type": "code",
      "execution_count": 11,
      "metadata": {
        "id": "YHqw6bSgYMKM"
      },
      "outputs": [],
      "source": [
        "import numpy as np\n",
        "import scipy.cluster.hierarchy as sch\n",
        "import matplotlib.pyplot as plt"
      ]
    },
    {
      "cell_type": "markdown",
      "source": [
        "# Datapoints"
      ],
      "metadata": {
        "id": "cwLby2EUYRz5"
      }
    },
    {
      "cell_type": "code",
      "source": [
        "data = np.array([[2,6], [3,4], [3,5], [4,5], [5,6], [5,6], [6,2], [6,3], [6,7], [6,8], [7,2], [8,2], [8,3], [8,5], [9,1], [9,1], [9,6]])"
      ],
      "metadata": {
        "id": "evo-l3QyYYHc"
      },
      "execution_count": 3,
      "outputs": []
    },
    {
      "cell_type": "markdown",
      "source": [
        "#K-Means with 2 Clusters"
      ],
      "metadata": {
        "id": "M9bpd6zhYbt6"
      }
    },
    {
      "cell_type": "code",
      "source": [
        "kMeans_2 = KMeans(n_clusters=3).fit(data)\n",
        "kMeans_2.labels_\n"
      ],
      "metadata": {
        "colab": {
          "base_uri": "https://localhost:8080/"
        },
        "id": "r-xAPQ8JYdVC",
        "outputId": "bec3ec35-5f42-4bca-963d-032dfd31d94d"
      },
      "execution_count": 12,
      "outputs": [
        {
          "output_type": "execute_result",
          "data": {
            "text/plain": [
              "array([0, 0, 0, 0, 0, 0, 1, 1, 2, 2, 1, 1, 1, 2, 1, 1, 2], dtype=int32)"
            ]
          },
          "metadata": {},
          "execution_count": 12
        }
      ]
    },
    {
      "cell_type": "code",
      "source": [
        "output_2= kMeans_2.fit_predict(data)"
      ],
      "metadata": {
        "id": "UXix_eOyYk_R"
      },
      "execution_count": null,
      "outputs": []
    },
    {
      "cell_type": "code",
      "source": [
        "plt.scatter(data[output_2==0,0],data[output_2==0,1],s=100,c='green')\n",
        "plt.scatter(data[output_2==1,0],data[output_2==1,1],s=100,c='blue')"
      ],
      "metadata": {
        "colab": {
          "base_uri": "https://localhost:8080/",
          "height": 282
        },
        "id": "0x1Cb7m-Yl1K",
        "outputId": "76b31717-627a-419c-9eec-92fe4b82b88f"
      },
      "execution_count": null,
      "outputs": [
        {
          "output_type": "execute_result",
          "data": {
            "text/plain": [
              "<matplotlib.collections.PathCollection at 0x7f7c5b884950>"
            ]
          },
          "metadata": {},
          "execution_count": 5
        },
        {
          "output_type": "display_data",
          "data": {
            "text/plain": [
              "<Figure size 432x288 with 1 Axes>"
            ],
            "image/png": "[encoded data removed]"
          },
          "metadata": {
            "needs_background": "light"
          }
        }
      ]
    },
    {
      "cell_type": "markdown",
      "source": [
        "#K-Means with 3 Clusters"
      ],
      "metadata": {
        "id": "APpfjGhJYzrW"
      }
    },
    {
      "cell_type": "code",
      "source": [
        "kMeans_3 = KMeans(n_clusters=3).fit(data)\n",
        "kMeans_3.labels_"
      ],
      "metadata": {
        "colab": {
          "base_uri": "https://localhost:8080/"
        },
        "id": "7v_lSo1uYxJW",
        "outputId": "1e52fa95-7139-4b83-a48d-5b66f097ed4c"
      },
      "execution_count": null,
      "outputs": [
        {
          "output_type": "execute_result",
          "data": {
            "text/plain": [
              "array([0, 0, 0, 0, 0, 0, 1, 1, 2, 2, 1, 1, 1, 2, 1, 1, 2], dtype=int32)"
            ]
          },
          "metadata": {},
          "execution_count": 6
        }
      ]
    },
    {
      "cell_type": "code",
      "source": [
        "output_3 = kMeans_3.fit_predict(data)"
      ],
      "metadata": {
        "id": "VlX2Uw79Y49v"
      },
      "execution_count": null,
      "outputs": []
    },
    {
      "cell_type": "code",
      "source": [
        "plt.scatter(data[output_3==0,0],data[output_3==0,1],s=100,c='red')\n",
        "plt.scatter(data[output_3==1,0],data[output_3==1,1],s=100,c='blue')\n",
        "plt.scatter(data[output_3==2,0],data[output_3==2,1],s=100,c='green')"
      ],
      "metadata": {
        "colab": {
          "base_uri": "https://localhost:8080/",
          "height": 282
        },
        "id": "2dboqkLUY5jO",
        "outputId": "8dc7da47-4a5e-4014-cc78-7524aa7fbcee"
      },
      "execution_count": null,
      "outputs": [
        {
          "output_type": "execute_result",
          "data": {
            "text/plain": [
              "<matplotlib.collections.PathCollection at 0x7f7c5b3825d0>"
            ]
          },
          "metadata": {},
          "execution_count": 8
        },
        {
          "output_type": "display_data",
          "data": {
            "text/plain": [
              "<Figure size 432x288 with 1 Axes>"
            ],
            "image/png": "[encoded data removed]"
          },
          "metadata": {
            "needs_background": "light"
          }
        }
      ]
    },
    {
      "cell_type": "markdown",
      "source": [
        "#K-Means with 4 Clusters"
      ],
      "metadata": {
        "id": "JD5OzQiFZAsB"
      }
    },
    {
      "cell_type": "code",
      "source": [
        "kMeans_4 = KMeans(n_clusters=4).fit(data)\n",
        "kMeans_4.labels_"
      ],
      "metadata": {
        "colab": {
          "base_uri": "https://localhost:8080/"
        },
        "id": "SZORuxT4ZCPP",
        "outputId": "ef48a23c-cc1f-4df1-ed01-af44aea881fb"
      },
      "execution_count": null,
      "outputs": [
        {
          "output_type": "execute_result",
          "data": {
            "text/plain": [
              "array([1, 1, 1, 1, 3, 3, 2, 2, 3, 3, 2, 2, 2, 0, 2, 2, 0], dtype=int32)"
            ]
          },
          "metadata": {},
          "execution_count": 9
        }
      ]
    },
    {
      "cell_type": "code",
      "source": [
        "output_4= kMeans_4.fit_predict(data)"
      ],
      "metadata": {
        "id": "Zf6ryZsGZGIO"
      },
      "execution_count": null,
      "outputs": []
    },
    {
      "cell_type": "code",
      "source": [
        "plt.scatter(data[output_4==0,0],data[output_4==0,1],s=100,c='red')\n",
        "plt.scatter(data[output_4==1,0],data[output_4==1,1],s=100,c='blue')\n",
        "plt.scatter(data[output_4==2,0],data[output_4==2,1],s=100,c='yellow')\n",
        "plt.scatter(data[output_4==3,0],data[output_4==3,1],s=100,c='green')"
      ],
      "metadata": {
        "colab": {
          "base_uri": "https://localhost:8080/",
          "height": 282
        },
        "id": "uBIIOchBZRpN",
        "outputId": "137892d8-4c53-4c1c-ac16-c1912fd670d2"
      },
      "execution_count": null,
      "outputs": [
        {
          "output_type": "execute_result",
          "data": {
            "text/plain": [
              "<matplotlib.collections.PathCollection at 0x7f7c5b307d10>"
            ]
          },
          "metadata": {},
          "execution_count": 11
        },
        {
          "output_type": "display_data",
          "data": {
            "text/plain": [
              "<Figure size 432x288 with 1 Axes>"
            ],
            "image/png": "[encoded data removed]"
          },
          "metadata": {
            "needs_background": "light"
          }
        }
      ]
    }
  ]
}