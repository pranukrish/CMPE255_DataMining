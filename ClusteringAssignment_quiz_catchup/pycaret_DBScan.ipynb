{
  "nbformat": 4,
  "nbformat_minor": 0,
  "metadata": {
    "colab": {
      "provenance": [],
      "authorship_tag": "ABX9TyMZlPYukEPTW91tzlitAQMe",
      "include_colab_link": true
    },
    "kernelspec": {
      "name": "python3",
      "display_name": "Python 3"
    },
    "language_info": {
      "name": "python"
    },
    "widgets": {
      "application/vnd.jupyter.widget-state+json": {
        "b4fe2287eef64916b862e18ce6a59b95": {
          "model_module": "@jupyter-widgets/controls",
          "model_name": "IntProgressModel",
          "model_module_version": "1.5.0",
          "state": {
            "_dom_classes": [],
            "_model_module": "@jupyter-widgets/controls",
            "_model_module_version": "1.5.0",
            "_model_name": "IntProgressModel",
            "_view_count": null,
            "_view_module": "@jupyter-widgets/controls",
            "_view_module_version": "1.5.0",
            "_view_name": "ProgressView",
            "bar_style": "",
            "description": "Processing: ",
            "description_tooltip": null,
            "layout": "IPY_MODEL_59af5071b9c64f0394fdbdd94b0fe258",
            "max": 3,
            "min": 0,
            "orientation": "horizontal",
            "style": "IPY_MODEL_285b87a6e36c45808d1603a8aa645598",
            "value": 3
          }
        },
        "59af5071b9c64f0394fdbdd94b0fe258": {
          "model_module": "@jupyter-widgets/base",
          "model_name": "LayoutModel",
          "model_module_version": "1.2.0",
          "state": {
            "_model_module": "@jupyter-widgets/base",
            "_model_module_version": "1.2.0",
            "_model_name": "LayoutModel",
            "_view_count": null,
            "_view_module": "@jupyter-widgets/base",
            "_view_module_version": "1.2.0",
            "_view_name": "LayoutView",
            "align_content": null,
            "align_items": null,
            "align_self": null,
            "border": null,
            "bottom": null,
            "display": null,
            "flex": null,
            "flex_flow": null,
            "grid_area": null,
            "grid_auto_columns": null,
            "grid_auto_flow": null,
            "grid_auto_rows": null,
            "grid_column": null,
            "grid_gap": null,
            "grid_row": null,
            "grid_template_areas": null,
            "grid_template_columns": null,
            "grid_template_rows": null,
            "height": null,
            "justify_content": null,
            "justify_items": null,
            "left": null,
            "margin": null,
            "max_height": null,
            "max_width": null,
            "min_height": null,
            "min_width": null,
            "object_fit": null,
            "object_position": null,
            "order": null,
            "overflow": null,
            "overflow_x": null,
            "overflow_y": null,
            "padding": null,
            "right": null,
            "top": null,
            "visibility": null,
            "width": null
          }
        },
        "285b87a6e36c45808d1603a8aa645598": {
          "model_module": "@jupyter-widgets/controls",
          "model_name": "ProgressStyleModel",
          "model_module_version": "1.5.0",
          "state": {
            "_model_module": "@jupyter-widgets/controls",
            "_model_module_version": "1.5.0",
            "_model_name": "ProgressStyleModel",
            "_view_count": null,
            "_view_module": "@jupyter-widgets/base",
            "_view_module_version": "1.2.0",
            "_view_name": "StyleView",
            "bar_color": null,
            "description_width": ""
          }
        },
        "db27a0a7523c49edb6be661ce94d0677": {
          "model_module": "@jupyter-widgets/controls",
          "model_name": "TextModel",
          "model_module_version": "1.5.0",
          "state": {
            "_dom_classes": [],
            "_model_module": "@jupyter-widgets/controls",
            "_model_module_version": "1.5.0",
            "_model_name": "TextModel",
            "_view_count": null,
            "_view_module": "@jupyter-widgets/controls",
            "_view_module_version": "1.5.0",
            "_view_name": "TextView",
            "continuous_update": true,
            "description": "",
            "description_tooltip": null,
            "disabled": false,
            "layout": "IPY_MODEL_533bd473b3bf497fb65a9207b1816aef",
            "placeholder": "​",
            "style": "IPY_MODEL_04b8a0467aab47d38b397e18768dadc3",
            "value": "Following data types have been inferred automatically, if they are correct press enter to continue or type 'quit' otherwise."
          }
        },
        "533bd473b3bf497fb65a9207b1816aef": {
          "model_module": "@jupyter-widgets/base",
          "model_name": "LayoutModel",
          "model_module_version": "1.2.0",
          "state": {
            "_model_module": "@jupyter-widgets/base",
            "_model_module_version": "1.2.0",
            "_model_name": "LayoutModel",
            "_view_count": null,
            "_view_module": "@jupyter-widgets/base",
            "_view_module_version": "1.2.0",
            "_view_name": "LayoutView",
            "align_content": null,
            "align_items": null,
            "align_self": null,
            "border": null,
            "bottom": null,
            "display": null,
            "flex": null,
            "flex_flow": null,
            "grid_area": null,
            "grid_auto_columns": null,
            "grid_auto_flow": null,
            "grid_auto_rows": null,
            "grid_column": null,
            "grid_gap": null,
            "grid_row": null,
            "grid_template_areas": null,
            "grid_template_columns": null,
            "grid_template_rows": null,
            "height": null,
            "justify_content": null,
            "justify_items": null,
            "left": null,
            "margin": null,
            "max_height": null,
            "max_width": null,
            "min_height": null,
            "min_width": null,
            "object_fit": null,
            "object_position": null,
            "order": null,
            "overflow": null,
            "overflow_x": null,
            "overflow_y": null,
            "padding": null,
            "right": null,
            "top": null,
            "visibility": null,
            "width": "100%"
          }
        },
        "04b8a0467aab47d38b397e18768dadc3": {
          "model_module": "@jupyter-widgets/controls",
          "model_name": "DescriptionStyleModel",
          "model_module_version": "1.5.0",
          "state": {
            "_model_module": "@jupyter-widgets/controls",
            "_model_module_version": "1.5.0",
            "_model_name": "DescriptionStyleModel",
            "_view_count": null,
            "_view_module": "@jupyter-widgets/base",
            "_view_module_version": "1.2.0",
            "_view_name": "StyleView",
            "description_width": ""
          }
        },
        "5eec801e33144c9dbe56a708b64e1dd9": {
          "model_module": "@jupyter-widgets/controls",
          "model_name": "IntProgressModel",
          "model_module_version": "1.5.0",
          "state": {
            "_dom_classes": [],
            "_model_module": "@jupyter-widgets/controls",
            "_model_module_version": "1.5.0",
            "_model_name": "IntProgressModel",
            "_view_count": null,
            "_view_module": "@jupyter-widgets/controls",
            "_view_module_version": "1.5.0",
            "_view_name": "ProgressView",
            "bar_style": "",
            "description": "Processing: ",
            "description_tooltip": null,
            "layout": "IPY_MODEL_d16023e93b914ec0a3405bc6b02a520d",
            "max": 3,
            "min": 0,
            "orientation": "horizontal",
            "style": "IPY_MODEL_699f06182212421982f5fdc5cb5bc731",
            "value": 3
          }
        },
        "d16023e93b914ec0a3405bc6b02a520d": {
          "model_module": "@jupyter-widgets/base",
          "model_name": "LayoutModel",
          "model_module_version": "1.2.0",
          "state": {
            "_model_module": "@jupyter-widgets/base",
            "_model_module_version": "1.2.0",
            "_model_name": "LayoutModel",
            "_view_count": null,
            "_view_module": "@jupyter-widgets/base",
            "_view_module_version": "1.2.0",
            "_view_name": "LayoutView",
            "align_content": null,
            "align_items": null,
            "align_self": null,
            "border": null,
            "bottom": null,
            "display": null,
            "flex": null,
            "flex_flow": null,
            "grid_area": null,
            "grid_auto_columns": null,
            "grid_auto_flow": null,
            "grid_auto_rows": null,
            "grid_column": null,
            "grid_gap": null,
            "grid_row": null,
            "grid_template_areas": null,
            "grid_template_columns": null,
            "grid_template_rows": null,
            "height": null,
            "justify_content": null,
            "justify_items": null,
            "left": null,
            "margin": null,
            "max_height": null,
            "max_width": null,
            "min_height": null,
            "min_width": null,
            "object_fit": null,
            "object_position": null,
            "order": null,
            "overflow": null,
            "overflow_x": null,
            "overflow_y": null,
            "padding": null,
            "right": null,
            "top": null,
            "visibility": null,
            "width": null
          }
        },
        "699f06182212421982f5fdc5cb5bc731": {
          "model_module": "@jupyter-widgets/controls",
          "model_name": "ProgressStyleModel",
          "model_module_version": "1.5.0",
          "state": {
            "_model_module": "@jupyter-widgets/controls",
            "_model_module_version": "1.5.0",
            "_model_name": "ProgressStyleModel",
            "_view_count": null,
            "_view_module": "@jupyter-widgets/base",
            "_view_module_version": "1.2.0",
            "_view_name": "StyleView",
            "bar_color": null,
            "description_width": ""
          }
        },
        "c77f474059cf4916aa506a6a5a13223c": {
          "model_module": "@jupyter-widgets/controls",
          "model_name": "IntProgressModel",
          "model_module_version": "1.5.0",
          "state": {
            "_dom_classes": [],
            "_model_module": "@jupyter-widgets/controls",
            "_model_module_version": "1.5.0",
            "_model_name": "IntProgressModel",
            "_view_count": null,
            "_view_module": "@jupyter-widgets/controls",
            "_view_module_version": "1.5.0",
            "_view_name": "ProgressView",
            "bar_style": "",
            "description": "Processing: ",
            "description_tooltip": null,
            "layout": "IPY_MODEL_40ea51e594714ce6a8550a268f0e43c9",
            "max": 5,
            "min": 0,
            "orientation": "horizontal",
            "style": "IPY_MODEL_d0a347a6ed13488d95f9bfe7c177e67d",
            "value": 3
          }
        },
        "40ea51e594714ce6a8550a268f0e43c9": {
          "model_module": "@jupyter-widgets/base",
          "model_name": "LayoutModel",
          "model_module_version": "1.2.0",
          "state": {
            "_model_module": "@jupyter-widgets/base",
            "_model_module_version": "1.2.0",
            "_model_name": "LayoutModel",
            "_view_count": null,
            "_view_module": "@jupyter-widgets/base",
            "_view_module_version": "1.2.0",
            "_view_name": "LayoutView",
            "align_content": null,
            "align_items": null,
            "align_self": null,
            "border": null,
            "bottom": null,
            "display": null,
            "flex": null,
            "flex_flow": null,
            "grid_area": null,
            "grid_auto_columns": null,
            "grid_auto_flow": null,
            "grid_auto_rows": null,
            "grid_column": null,
            "grid_gap": null,
            "grid_row": null,
            "grid_template_areas": null,
            "grid_template_columns": null,
            "grid_template_rows": null,
            "height": null,
            "justify_content": null,
            "justify_items": null,
            "left": null,
            "margin": null,
            "max_height": null,
            "max_width": null,
            "min_height": null,
            "min_width": null,
            "object_fit": null,
            "object_position": null,
            "order": null,
            "overflow": null,
            "overflow_x": null,
            "overflow_y": null,
            "padding": null,
            "right": null,
            "top": null,
            "visibility": null,
            "width": null
          }
        },
        "d0a347a6ed13488d95f9bfe7c177e67d": {
          "model_module": "@jupyter-widgets/controls",
          "model_name": "ProgressStyleModel",
          "model_module_version": "1.5.0",
          "state": {
            "_model_module": "@jupyter-widgets/controls",
            "_model_module_version": "1.5.0",
            "_model_name": "ProgressStyleModel",
            "_view_count": null,
            "_view_module": "@jupyter-widgets/base",
            "_view_module_version": "1.2.0",
            "_view_name": "StyleView",
            "bar_color": null,
            "description_width": ""
          }
        }
      }
    }
  },
  "cells": [
    {
      "cell_type": "markdown",
      "metadata": {
        "id": "view-in-github",
        "colab_type": "text"
      },
      "source": [
        "<a href=\"https://colab.research.google.com/github/pranukrish/CMPE255_DataMining/blob/main/ClusteringAssignment_quiz_catchup/DBScan_using_pycaret.ipynb\" target=\"_parent\"><img src=\"https://colab.research.google.com/assets/colab-badge.svg\" alt=\"Open In Colab\"/></a>"
      ]
    },
    {
      "cell_type": "markdown",
      "source": [
        "Part (d)\n",
        "#Implement DBScan model using pycaret"
      ],
      "metadata": {
        "id": "M-bMza-4eL7x"
      }
    },
    {
      "cell_type": "markdown",
      "source": [
        "#Install pycaret library"
      ],
      "metadata": {
        "id": "AcB4QUOLeS4_"
      }
    },
    {
      "cell_type": "code",
      "source": [
        "!pip install --quiet pycaret"
      ],
      "metadata": {
        "colab": {
          "base_uri": "https://localhost:8080/"
        },
        "id": "PPeMc1F8WsiG",
        "outputId": "fdb757b2-6c2f-4bf0-d5e5-b1ab90d286e0"
      },
      "execution_count": 1,
      "outputs": [
        {
          "output_type": "stream",
          "name": "stdout",
          "text": [
            "\u001b[K     |████████████████████████████████| 320 kB 16.9 MB/s \n",
            "\u001b[K     |████████████████████████████████| 1.7 MB 17.2 MB/s \n",
            "\u001b[?25h  Installing build dependencies ... \u001b[?25l\u001b[?25hdone\n",
            "  Getting requirements to build wheel ... \u001b[?25l\u001b[?25hdone\n",
            "  Installing backend dependencies ... \u001b[?25l\u001b[?25hdone\n",
            "    Preparing wheel metadata ... \u001b[?25l\u001b[?25hdone\n",
            "\u001b[K     |████████████████████████████████| 167 kB 22.2 MB/s \n",
            "\u001b[K     |████████████████████████████████| 662 kB 43.7 MB/s \n",
            "\u001b[K     |████████████████████████████████| 16.5 MB 72.0 MB/s \n",
            "\u001b[K     |████████████████████████████████| 25.8 MB 1.5 MB/s \n",
            "\u001b[K     |████████████████████████████████| 88 kB 8.8 MB/s \n",
            "\u001b[K     |████████████████████████████████| 1.3 MB 50.7 MB/s \n",
            "\u001b[K     |████████████████████████████████| 56 kB 5.7 MB/s \n",
            "\u001b[K     |████████████████████████████████| 2.0 MB 64.6 MB/s \n",
            "\u001b[K     |████████████████████████████████| 141 kB 70.0 MB/s \n",
            "\u001b[K     |████████████████████████████████| 6.8 MB 58.1 MB/s \n",
            "\u001b[K     |████████████████████████████████| 5.0 MB 79.9 MB/s \n",
            "\u001b[K     |████████████████████████████████| 325 kB 74.5 MB/s \n",
            "\u001b[K     |████████████████████████████████| 3.3 MB 51.4 MB/s \n",
            "\u001b[K     |████████████████████████████████| 1.6 MB 55.5 MB/s \n",
            "\u001b[K     |████████████████████████████████| 1.3 MB 55.6 MB/s \n",
            "\u001b[K     |████████████████████████████████| 1.3 MB 66.2 MB/s \n",
            "\u001b[K     |████████████████████████████████| 26.3 MB 1.4 MB/s \n",
            "\u001b[K     |████████████████████████████████| 15.4 MB 40.2 MB/s \n",
            "\u001b[K     |████████████████████████████████| 102 kB 82.6 MB/s \n",
            "\u001b[K     |████████████████████████████████| 679 kB 71.1 MB/s \n",
            "\u001b[K     |████████████████████████████████| 9.9 MB 53.7 MB/s \n",
            "\u001b[K     |████████████████████████████████| 62 kB 1.8 MB/s \n",
            "\u001b[K     |████████████████████████████████| 4.7 MB 63.0 MB/s \n",
            "\u001b[K     |████████████████████████████████| 296 kB 69.6 MB/s \n",
            "\u001b[K     |████████████████████████████████| 211 kB 66.3 MB/s \n",
            "\u001b[K     |████████████████████████████████| 1.1 MB 77.5 MB/s \n",
            "\u001b[K     |████████████████████████████████| 274 kB 68.6 MB/s \n",
            "\u001b[K     |████████████████████████████████| 271 kB 76.1 MB/s \n",
            "\u001b[K     |████████████████████████████████| 14.9 MB 78.4 MB/s \n",
            "\u001b[K     |████████████████████████████████| 182 kB 69.1 MB/s \n",
            "\u001b[K     |████████████████████████████████| 147 kB 66.0 MB/s \n",
            "\u001b[K     |████████████████████████████████| 82 kB 569 kB/s \n",
            "\u001b[K     |████████████████████████████████| 79 kB 9.5 MB/s \n",
            "\u001b[K     |████████████████████████████████| 209 kB 70.6 MB/s \n",
            "\u001b[K     |████████████████████████████████| 575 kB 70.2 MB/s \n",
            "\u001b[K     |████████████████████████████████| 78 kB 9.1 MB/s \n",
            "\u001b[K     |████████████████████████████████| 55 kB 4.0 MB/s \n",
            "\u001b[K     |████████████████████████████████| 140 kB 70.6 MB/s \n",
            "\u001b[K     |████████████████████████████████| 62 kB 1.7 MB/s \n",
            "\u001b[K     |████████████████████████████████| 1.7 MB 63.1 MB/s \n",
            "\u001b[?25h  Installing build dependencies ... \u001b[?25l\u001b[?25hdone\n",
            "  Getting requirements to build wheel ... \u001b[?25l\u001b[?25hdone\n",
            "  Installing backend dependencies ... \u001b[?25l\u001b[?25hdone\n",
            "    Preparing wheel metadata ... \u001b[?25l\u001b[?25hdone\n",
            "\u001b[K     |████████████████████████████████| 1.7 MB 67.7 MB/s \n",
            "\u001b[K     |████████████████████████████████| 1.1 MB 56.5 MB/s \n",
            "\u001b[?25h  Building wheel for htmlmin (setup.py) ... \u001b[?25l\u001b[?25hdone\n",
            "  Building wheel for databricks-cli (setup.py) ... \u001b[?25l\u001b[?25hdone\n",
            "  Building wheel for pyLDAvis (setup.py) ... \u001b[?25l\u001b[?25hdone\n",
            "  Building wheel for pyod (setup.py) ... \u001b[?25l\u001b[?25hdone\n",
            "  Building wheel for umap-learn (setup.py) ... \u001b[?25l\u001b[?25hdone\n",
            "  Building wheel for pynndescent (setup.py) ... \u001b[?25l\u001b[?25hdone\n",
            "\u001b[31mERROR: pip's dependency resolver does not currently take into account all the packages that are installed. This behaviour is the source of the following dependency conflicts.\n",
            "tensorflow 2.9.2 requires numpy>=1.20, but you have numpy 1.19.5 which is incompatible.\n",
            "jaxlib 0.3.25+cuda11.cudnn805 requires numpy>=1.20, but you have numpy 1.19.5 which is incompatible.\n",
            "jax 0.3.25 requires numpy>=1.20, but you have numpy 1.19.5 which is incompatible.\n",
            "en-core-web-sm 3.4.1 requires spacy<3.5.0,>=3.4.0, but you have spacy 2.3.8 which is incompatible.\n",
            "confection 0.0.3 requires srsly<3.0.0,>=2.4.0, but you have srsly 1.0.6 which is incompatible.\n",
            "cmdstanpy 1.0.8 requires numpy>=1.21, but you have numpy 1.19.5 which is incompatible.\u001b[0m\n"
          ]
        }
      ]
    },
    {
      "cell_type": "markdown",
      "source": [
        "Import Libraries needed"
      ],
      "metadata": {
        "id": "4BjcUD0LeZpw"
      }
    },
    {
      "cell_type": "code",
      "source": [
        "import pandas as pd\n"
      ],
      "metadata": {
        "id": "IIMYXliyXdYz"
      },
      "execution_count": 4,
      "outputs": []
    },
    {
      "cell_type": "code",
      "source": [
        "from google.colab import drive\n",
        "drive.mount('/content/drive')"
      ],
      "metadata": {
        "colab": {
          "base_uri": "https://localhost:8080/"
        },
        "id": "RauRrlloYJ11",
        "outputId": "1258f171-8f30-44d6-9b3e-608466232bc0"
      },
      "execution_count": 6,
      "outputs": [
        {
          "output_type": "stream",
          "name": "stdout",
          "text": [
            "Mounted at /content/drive\n"
          ]
        }
      ]
    },
    {
      "cell_type": "markdown",
      "source": [
        "Train the dbscan model and fit model"
      ],
      "metadata": {
        "id": "lFGQ2BSXed9z"
      }
    },
    {
      "cell_type": "code",
      "source": [
        "# Import the pycaret library and the dataset module\n",
        "from pycaret.datasets import get_data\n",
        "from pycaret import clustering\n",
        "from pycaret.clustering import *\n",
        "\n",
        "# Load the data\n",
        "data = get_data('diamond')\n",
        "\n",
        "df = pd.read_csv(\"/content/drive/MyDrive/Data/Blobs.csv\")\n",
        "\n",
        "dm = setup(data = df, normalize = True)\n",
        "\n",
        "# Create the DBSCAN model\n",
        "dbscan_model = create_model(\"dbscan\")\n",
        "\n",
        "# Fit the model to the data\n",
        "dbscan_model = dbscan_model.fit(df)\n"
      ],
      "metadata": {
        "colab": {
          "base_uri": "https://localhost:8080/",
          "height": 185,
          "referenced_widgets": [
            "b4fe2287eef64916b862e18ce6a59b95",
            "59af5071b9c64f0394fdbdd94b0fe258",
            "285b87a6e36c45808d1603a8aa645598",
            "db27a0a7523c49edb6be661ce94d0677",
            "533bd473b3bf497fb65a9207b1816aef",
            "04b8a0467aab47d38b397e18768dadc3",
            "5eec801e33144c9dbe56a708b64e1dd9",
            "d16023e93b914ec0a3405bc6b02a520d",
            "699f06182212421982f5fdc5cb5bc731"
          ]
        },
        "id": "7y1lTDvYWzVq",
        "outputId": "e509250a-38fa-43a9-b25c-4e64097f5a39"
      },
      "execution_count": 23,
      "outputs": [
        {
          "output_type": "display_data",
          "data": {
            "text/plain": [
              "   Silhouette  Calinski-Harabasz  Davies-Bouldin  Homogeneity  Rand Index  \\\n",
              "0      0.8016          1668.6991          0.2899            0           0   \n",
              "\n",
              "   Completeness  \n",
              "0             0  "
            ],
            "text/html": [
              "\n",
              "  <div id=\"df-b37eb70b-3f26-4c0a-bd95-e48f735918c7\">\n",
              "    <div class=\"colab-df-container\">\n",
              "      <div>\n",
              "<style scoped>\n",
              "    .dataframe tbody tr th:only-of-type {\n",
              "        vertical-align: middle;\n",
              "    }\n",
              "\n",
              "    .dataframe tbody tr th {\n",
              "        vertical-align: top;\n",
              "    }\n",
              "\n",
              "    .dataframe thead th {\n",
              "        text-align: right;\n",
              "    }\n",
              "</style>\n",
              "<table border=\"1\" class=\"dataframe\">\n",
              "  <thead>\n",
              "    <tr style=\"text-align: right;\">\n",
              "      <th></th>\n",
              "      <th>Silhouette</th>\n",
              "      <th>Calinski-Harabasz</th>\n",
              "      <th>Davies-Bouldin</th>\n",
              "      <th>Homogeneity</th>\n",
              "      <th>Rand Index</th>\n",
              "      <th>Completeness</th>\n",
              "    </tr>\n",
              "  </thead>\n",
              "  <tbody>\n",
              "    <tr>\n",
              "      <th>0</th>\n",
              "      <td>0.8016</td>\n",
              "      <td>1668.6991</td>\n",
              "      <td>0.2899</td>\n",
              "      <td>0</td>\n",
              "      <td>0</td>\n",
              "      <td>0</td>\n",
              "    </tr>\n",
              "  </tbody>\n",
              "</table>\n",
              "</div>\n",
              "      <button class=\"colab-df-convert\" onclick=\"convertToInteractive('df-b37eb70b-3f26-4c0a-bd95-e48f735918c7')\"\n",
              "              title=\"Convert this dataframe to an interactive table.\"\n",
              "              style=\"display:none;\">\n",
              "        \n",
              "  <svg xmlns=\"http://www.w3.org/2000/svg\" height=\"24px\"viewBox=\"0 0 24 24\"\n",
              "       width=\"24px\">\n",
              "    <path d=\"M0 0h24v24H0V0z\" fill=\"none\"/>\n",
              "    <path d=\"M18.56 5.44l.94 2.06.94-2.06 2.06-.94-2.06-.94-.94-2.06-.94 2.06-2.06.94zm-11 1L8.5 8.5l.94-2.06 2.06-.94-2.06-.94L8.5 2.5l-.94 2.06-2.06.94zm10 10l.94 2.06.94-2.06 2.06-.94-2.06-.94-.94-2.06-.94 2.06-2.06.94z\"/><path d=\"M17.41 7.96l-1.37-1.37c-.4-.4-.92-.59-1.43-.59-.52 0-1.04.2-1.43.59L10.3 9.45l-7.72 7.72c-.78.78-.78 2.05 0 2.83L4 21.41c.39.39.9.59 1.41.59.51 0 1.02-.2 1.41-.59l7.78-7.78 2.81-2.81c.8-.78.8-2.07 0-2.86zM5.41 20L4 18.59l7.72-7.72 1.47 1.35L5.41 20z\"/>\n",
              "  </svg>\n",
              "      </button>\n",
              "      \n",
              "  <style>\n",
              "    .colab-df-container {\n",
              "      display:flex;\n",
              "      flex-wrap:wrap;\n",
              "      gap: 12px;\n",
              "    }\n",
              "\n",
              "    .colab-df-convert {\n",
              "      background-color: #E8F0FE;\n",
              "      border: none;\n",
              "      border-radius: 50%;\n",
              "      cursor: pointer;\n",
              "      display: none;\n",
              "      fill: #1967D2;\n",
              "      height: 32px;\n",
              "      padding: 0 0 0 0;\n",
              "      width: 32px;\n",
              "    }\n",
              "\n",
              "    .colab-df-convert:hover {\n",
              "      background-color: #E2EBFA;\n",
              "      box-shadow: 0px 1px 2px rgba(60, 64, 67, 0.3), 0px 1px 3px 1px rgba(60, 64, 67, 0.15);\n",
              "      fill: #174EA6;\n",
              "    }\n",
              "\n",
              "    [theme=dark] .colab-df-convert {\n",
              "      background-color: #3B4455;\n",
              "      fill: #D2E3FC;\n",
              "    }\n",
              "\n",
              "    [theme=dark] .colab-df-convert:hover {\n",
              "      background-color: #434B5C;\n",
              "      box-shadow: 0px 1px 3px 1px rgba(0, 0, 0, 0.15);\n",
              "      filter: drop-shadow(0px 1px 2px rgba(0, 0, 0, 0.3));\n",
              "      fill: #FFFFFF;\n",
              "    }\n",
              "  </style>\n",
              "\n",
              "      <script>\n",
              "        const buttonEl =\n",
              "          document.querySelector('#df-b37eb70b-3f26-4c0a-bd95-e48f735918c7 button.colab-df-convert');\n",
              "        buttonEl.style.display =\n",
              "          google.colab.kernel.accessAllowed ? 'block' : 'none';\n",
              "\n",
              "        async function convertToInteractive(key) {\n",
              "          const element = document.querySelector('#df-b37eb70b-3f26-4c0a-bd95-e48f735918c7');\n",
              "          const dataTable =\n",
              "            await google.colab.kernel.invokeFunction('convertToInteractive',\n",
              "                                                     [key], {});\n",
              "          if (!dataTable) return;\n",
              "\n",
              "          const docLinkHtml = 'Like what you see? Visit the ' +\n",
              "            '<a target=\"_blank\" href=https://colab.research.google.com/notebooks/data_table.ipynb>data table notebook</a>'\n",
              "            + ' to learn more about interactive tables.';\n",
              "          element.innerHTML = '';\n",
              "          dataTable['output_type'] = 'display_data';\n",
              "          await google.colab.output.renderOutput(dataTable, element);\n",
              "          const docLink = document.createElement('div');\n",
              "          docLink.innerHTML = docLinkHtml;\n",
              "          element.appendChild(docLink);\n",
              "        }\n",
              "      </script>\n",
              "    </div>\n",
              "  </div>\n",
              "  "
            ]
          },
          "metadata": {}
        },
        {
          "output_type": "stream",
          "name": "stderr",
          "text": [
            "INFO:logs:create_model_container: 1\n",
            "INFO:logs:master_model_container: 1\n",
            "INFO:logs:display_container: 2\n",
            "INFO:logs:DBSCAN(algorithm='auto', eps=0.5, leaf_size=30, metric='euclidean',\n",
            "       metric_params=None, min_samples=5, n_jobs=-1, p=None)\n",
            "INFO:logs:create_model() succesfully completed......................................\n"
          ]
        }
      ]
    },
    {
      "cell_type": "markdown",
      "source": [
        "Plot the model"
      ],
      "metadata": {
        "id": "37v8W2g1ei7L"
      }
    },
    {
      "cell_type": "code",
      "source": [
        "plot_model(dbscan_model)"
      ],
      "metadata": {
        "colab": {
          "base_uri": "https://localhost:8080/",
          "height": 669,
          "referenced_widgets": [
            "c77f474059cf4916aa506a6a5a13223c",
            "40ea51e594714ce6a8550a268f0e43c9",
            "d0a347a6ed13488d95f9bfe7c177e67d"
          ]
        },
        "id": "1q0xH0C0dyqd",
        "outputId": "9a59e689-96a1-421a-d4c6-67f61efd0950"
      },
      "execution_count": 30,
      "outputs": [
        {
          "output_type": "stream",
          "name": "stderr",
          "text": [
            "INFO:logs:Rendering Visual\n"
          ]
        },
        {
          "output_type": "display_data",
          "data": {
            "text/html": [
              "<html>\n",
              "<head><meta charset=\"utf-8\" /></head>\n",
              "<body>\n",
              "    <div>            <script src=\"https://cdnjs.cloudflare.com/ajax/libs/mathjax/2.7.5/MathJax.js?config=TeX-AMS-MML_SVG\"></script><script type=\"text/javascript\">if (window.MathJax) {MathJax.Hub.Config({SVG: {font: \"STIX-Web\"}});}</script>                <script type=\"text/javascript\">window.PlotlyConfig = {MathJaxConfig: 'local'};</script>\n",
              "        <script src=\"https://cdn.plot.ly/plotly-2.8.3.min.js\"></script>                <div id=\"a145b5a4-b8ea-47b3-9dce-22bcdc676d37\" class=\"plotly-graph-div\" style=\"height:600px; width:100%;\"></div>            <script type=\"text/javascript\">                                    window.PLOTLYENV=window.PLOTLYENV || {};                                    if (document.getElementById(\"a145b5a4-b8ea-47b3-9dce-22bcdc676d37\")) {                    Plotly.newPlot(                        \"a145b5a4-b8ea-47b3-9dce-22bcdc676d37\",                        [{\"customdata\":[[8.622185392821123],[7.657501458673575],[8.189046959257753],[7.686796567666898],[9.156683092959971],[7.7440402118056095],[-3.9061218753871],[-5.11071948181469],[5.5054131046997785],[-5.806393009092751],[6.10723360743591],[8.47143046352421],[-4.743604585038662],[10.026165836708966],[-6.5682284058162805],[-3.766829452701764],[5.7577923100345405],[8.99558412443202],[7.217982789557768],[6.698194619395197],[6.79884852641778],[6.944341445163577],[6.6492605835204905],[8.423782206512842],[8.263415695184726],[7.542578188845107],[8.815456625950373],[5.598788697234291],[5.794460064408111],[8.809962126179027],[7.669612704317455],[6.7302987343657055],[-5.123488543935622],[6.872084893182933],[5.867498067335642],[-4.970030239501481],[6.17357365113604],[7.861940632557883],[7.829448164576652],[7.8835714279242035],[5.942055856146273],[7.379562483316606],[8.255057886498266],[7.213336893425732],[8.764907668651523],[6.1599246032641295],[-7.027641625085398],[6.616513156598892],[-4.6357279572370285],[8.697488088714522],[6.1620950286859735],[9.621222051741707],[-4.736709578070003],[7.23721887128027],[7.144610537616682],[6.119032227250539],[4.970850432267156],[7.891672008298327],[8.361865982806295],[-6.212499234781437],[7.669359647087639],[-7.062111270042575],[8.776914076884744],[-4.197484537637312],[6.346814725561926],[-6.11585647195195],[-6.275611592216562],[-4.504565800778664]],\"hovertemplate\":\"Cluster=Cluster -1<br>PCA1=%{x}<br>PCA2=%{y}<br>Feature=%{customdata[0]}<extra></extra>\",\"legendgroup\":\"Cluster -1\",\"marker\":{\"color\":\"#636efa\",\"opacity\":0.5,\"symbol\":\"circle\"},\"mode\":\"markers\",\"name\":\"Cluster -1\",\"orientation\":\"v\",\"showlegend\":true,\"x\":[-0.8706241250038147,-1.537329077720642,-1.6019059419631958,-1.3341857194900513,-1.6220463514328003,-1.4429383277893066,1.4338377714157104,1.596693992614746,-0.4463904798030853,1.7092562913894653,-0.5663429498672485,-0.8376179337501526,1.8080079555511475,-1.7487212419509888,1.9789879322052002,1.5748858451843262,-1.2334225177764893,-1.5539124011993408,-0.7026374936103821,-1.4244736433029175,-0.5231431722640991,-0.3871631622314453,-0.4158853590488434,-0.5874742865562439,-1.5884352922439575,-1.206840991973877,-1.5083600282669067,-1.037196159362793,-0.4640582203865051,-1.7907594442367554,-0.60990971326828,-0.48602622747421265,1.9030706882476807,-0.6111480593681335,-1.1205230951309204,1.6126558780670166,-1.2058372497558594,-1.4029728174209595,-1.4741120338439941,-1.598710298538208,-1.3391691446304321,-0.591048538684845,-0.6664615869522095,-0.6722098588943481,-0.7252803444862366,-0.549505889415741,1.9959489107131958,-0.5717103481292725,1.834147572517395,-0.6092373728752136,-0.3919063210487366,-0.8930078744888306,1.5405417680740356,-0.61598801612854,-1.5431569814682007,-0.521151065826416,-0.43399906158447266,-1.4571254253387451,-1.4862010478973389,1.7592580318450928,-0.5872886180877686,1.984594464302063,-0.8159821629524231,1.6504861116409302,-1.3691990375518799,1.8261821269989014,1.9909874200820923,1.5067838430404663],\"xaxis\":\"x\",\"y\":[0.45681944489479065,-0.4290865957736969,-0.37288275361061096,-0.21928666532039642,-0.17315198481082916,-0.315032035112381,-0.08546921610832214,-0.19632822275161743,0.1728426218032837,-0.24184076488018036,0.1896391212940216,0.45556968450546265,0.09840337187051773,-0.10225801169872284,-0.14521722495555878,0.08722946047782898,-0.5568422675132751,-0.14162349700927734,0.30573490262031555,-0.5342100858688354,0.38999122381210327,0.5590310096740723,0.4632587730884552,0.694886326789856,-0.342513769865036,-0.1247120350599289,-0.13700085878372192,-0.39674562215805054,0.22085373103618622,-0.4206484854221344,0.5010844469070435,0.4115320146083832,0.10714703798294067,0.31862756609916687,-0.41901496052742004,-0.14839830994606018,-0.43478086590766907,-0.24827659130096436,-0.32679903507232666,-0.4390990138053894,-0.6207195520401001,0.4540387988090515,0.5775606036186218,0.33510681986808777,0.634592592716217,0.2184489667415619,-0.23264659941196442,0.2999928891658783,0.1490556001663208,0.7353160381317139,0.3765416443347931,0.6614415645599365,-0.16749583184719086,0.39675524830818176,-0.5514563918113708,0.23751187324523926,0.06376784294843674,-0.29567357897758484,-0.2179090678691864,-0.28411638736724854,0.5236479640007019,-0.2518334984779358,0.5466189980506897,0.06497407704591751,-0.5587778091430664,-0.19523276388645172,-0.0667276680469513,-0.14850488305091858],\"yaxis\":\"y\",\"type\":\"scatter\",\"textposition\":\"top center\"},{\"customdata\":[[-5.869475449590797],[-5.687451909277423],[-4.830746219257764],[-5.195080127059011],[-5.584165230376253],[-5.190066096428387],[-5.157930706187496],[-6.004277622622956],[-5.466288777101785],[-5.329644642207354],[-4.932817707327117],[-5.266285057408791]],\"hovertemplate\":\"Cluster=Cluster 0<br>PCA1=%{x}<br>PCA2=%{y}<br>Feature=%{customdata[0]}<extra></extra>\",\"legendgroup\":\"Cluster 0\",\"marker\":{\"color\":\"#EF553B\",\"opacity\":0.5,\"symbol\":\"circle\"},\"mode\":\"markers\",\"name\":\"Cluster 0\",\"orientation\":\"v\",\"showlegend\":true,\"x\":[1.7697592973709106,1.865719199180603,1.6413925886154175,1.7096450328826904,1.7724146842956543,1.7520800828933716,1.7706514596939087,1.8094679117202759,1.8183263540267944,1.7436860799789429,1.6465214490890503,1.7747399806976318],\"xaxis\":\"x\",\"y\":[-0.19567149877548218,-0.058351390063762665,-0.08801231533288956,-0.10254614800214767,-0.1281864196062088,-0.05897172540426254,-0.033098381012678146,-0.18659356236457825,-0.05549003183841705,-0.0990813821554184,-0.10607699304819107,-0.053630635142326355],\"yaxis\":\"y\",\"type\":\"scatter\",\"textposition\":\"top center\"}],                        {\"template\":{\"data\":{\"bar\":[{\"error_x\":{\"color\":\"#2a3f5f\"},\"error_y\":{\"color\":\"#2a3f5f\"},\"marker\":{\"line\":{\"color\":\"#E5ECF6\",\"width\":0.5},\"pattern\":{\"fillmode\":\"overlay\",\"size\":10,\"solidity\":0.2}},\"type\":\"bar\"}],\"barpolar\":[{\"marker\":{\"line\":{\"color\":\"#E5ECF6\",\"width\":0.5},\"pattern\":{\"fillmode\":\"overlay\",\"size\":10,\"solidity\":0.2}},\"type\":\"barpolar\"}],\"carpet\":[{\"aaxis\":{\"endlinecolor\":\"#2a3f5f\",\"gridcolor\":\"white\",\"linecolor\":\"white\",\"minorgridcolor\":\"white\",\"startlinecolor\":\"#2a3f5f\"},\"baxis\":{\"endlinecolor\":\"#2a3f5f\",\"gridcolor\":\"white\",\"linecolor\":\"white\",\"minorgridcolor\":\"white\",\"startlinecolor\":\"#2a3f5f\"},\"type\":\"carpet\"}],\"choropleth\":[{\"colorbar\":{\"outlinewidth\":0,\"ticks\":\"\"},\"type\":\"choropleth\"}],\"contour\":[{\"colorbar\":{\"outlinewidth\":0,\"ticks\":\"\"},\"colorscale\":[[0.0,\"#0d0887\"],[0.1111111111111111,\"#46039f\"],[0.2222222222222222,\"#7201a8\"],[0.3333333333333333,\"#9c179e\"],[0.4444444444444444,\"#bd3786\"],[0.5555555555555556,\"#d8576b\"],[0.6666666666666666,\"#ed7953\"],[0.7777777777777778,\"#fb9f3a\"],[0.8888888888888888,\"#fdca26\"],[1.0,\"#f0f921\"]],\"type\":\"contour\"}],\"contourcarpet\":[{\"colorbar\":{\"outlinewidth\":0,\"ticks\":\"\"},\"type\":\"contourcarpet\"}],\"heatmap\":[{\"colorbar\":{\"outlinewidth\":0,\"ticks\":\"\"},\"colorscale\":[[0.0,\"#0d0887\"],[0.1111111111111111,\"#46039f\"],[0.2222222222222222,\"#7201a8\"],[0.3333333333333333,\"#9c179e\"],[0.4444444444444444,\"#bd3786\"],[0.5555555555555556,\"#d8576b\"],[0.6666666666666666,\"#ed7953\"],[0.7777777777777778,\"#fb9f3a\"],[0.8888888888888888,\"#fdca26\"],[1.0,\"#f0f921\"]],\"type\":\"heatmap\"}],\"heatmapgl\":[{\"colorbar\":{\"outlinewidth\":0,\"ticks\":\"\"},\"colorscale\":[[0.0,\"#0d0887\"],[0.1111111111111111,\"#46039f\"],[0.2222222222222222,\"#7201a8\"],[0.3333333333333333,\"#9c179e\"],[0.4444444444444444,\"#bd3786\"],[0.5555555555555556,\"#d8576b\"],[0.6666666666666666,\"#ed7953\"],[0.7777777777777778,\"#fb9f3a\"],[0.8888888888888888,\"#fdca26\"],[1.0,\"#f0f921\"]],\"type\":\"heatmapgl\"}],\"histogram\":[{\"marker\":{\"pattern\":{\"fillmode\":\"overlay\",\"size\":10,\"solidity\":0.2}},\"type\":\"histogram\"}],\"histogram2d\":[{\"colorbar\":{\"outlinewidth\":0,\"ticks\":\"\"},\"colorscale\":[[0.0,\"#0d0887\"],[0.1111111111111111,\"#46039f\"],[0.2222222222222222,\"#7201a8\"],[0.3333333333333333,\"#9c179e\"],[0.4444444444444444,\"#bd3786\"],[0.5555555555555556,\"#d8576b\"],[0.6666666666666666,\"#ed7953\"],[0.7777777777777778,\"#fb9f3a\"],[0.8888888888888888,\"#fdca26\"],[1.0,\"#f0f921\"]],\"type\":\"histogram2d\"}],\"histogram2dcontour\":[{\"colorbar\":{\"outlinewidth\":0,\"ticks\":\"\"},\"colorscale\":[[0.0,\"#0d0887\"],[0.1111111111111111,\"#46039f\"],[0.2222222222222222,\"#7201a8\"],[0.3333333333333333,\"#9c179e\"],[0.4444444444444444,\"#bd3786\"],[0.5555555555555556,\"#d8576b\"],[0.6666666666666666,\"#ed7953\"],[0.7777777777777778,\"#fb9f3a\"],[0.8888888888888888,\"#fdca26\"],[1.0,\"#f0f921\"]],\"type\":\"histogram2dcontour\"}],\"mesh3d\":[{\"colorbar\":{\"outlinewidth\":0,\"ticks\":\"\"},\"type\":\"mesh3d\"}],\"parcoords\":[{\"line\":{\"colorbar\":{\"outlinewidth\":0,\"ticks\":\"\"}},\"type\":\"parcoords\"}],\"pie\":[{\"automargin\":true,\"type\":\"pie\"}],\"scatter\":[{\"marker\":{\"colorbar\":{\"outlinewidth\":0,\"ticks\":\"\"}},\"type\":\"scatter\"}],\"scatter3d\":[{\"line\":{\"colorbar\":{\"outlinewidth\":0,\"ticks\":\"\"}},\"marker\":{\"colorbar\":{\"outlinewidth\":0,\"ticks\":\"\"}},\"type\":\"scatter3d\"}],\"scattercarpet\":[{\"marker\":{\"colorbar\":{\"outlinewidth\":0,\"ticks\":\"\"}},\"type\":\"scattercarpet\"}],\"scattergeo\":[{\"marker\":{\"colorbar\":{\"outlinewidth\":0,\"ticks\":\"\"}},\"type\":\"scattergeo\"}],\"scattergl\":[{\"marker\":{\"colorbar\":{\"outlinewidth\":0,\"ticks\":\"\"}},\"type\":\"scattergl\"}],\"scattermapbox\":[{\"marker\":{\"colorbar\":{\"outlinewidth\":0,\"ticks\":\"\"}},\"type\":\"scattermapbox\"}],\"scatterpolar\":[{\"marker\":{\"colorbar\":{\"outlinewidth\":0,\"ticks\":\"\"}},\"type\":\"scatterpolar\"}],\"scatterpolargl\":[{\"marker\":{\"colorbar\":{\"outlinewidth\":0,\"ticks\":\"\"}},\"type\":\"scatterpolargl\"}],\"scatterternary\":[{\"marker\":{\"colorbar\":{\"outlinewidth\":0,\"ticks\":\"\"}},\"type\":\"scatterternary\"}],\"surface\":[{\"colorbar\":{\"outlinewidth\":0,\"ticks\":\"\"},\"colorscale\":[[0.0,\"#0d0887\"],[0.1111111111111111,\"#46039f\"],[0.2222222222222222,\"#7201a8\"],[0.3333333333333333,\"#9c179e\"],[0.4444444444444444,\"#bd3786\"],[0.5555555555555556,\"#d8576b\"],[0.6666666666666666,\"#ed7953\"],[0.7777777777777778,\"#fb9f3a\"],[0.8888888888888888,\"#fdca26\"],[1.0,\"#f0f921\"]],\"type\":\"surface\"}],\"table\":[{\"cells\":{\"fill\":{\"color\":\"#EBF0F8\"},\"line\":{\"color\":\"white\"}},\"header\":{\"fill\":{\"color\":\"#C8D4E3\"},\"line\":{\"color\":\"white\"}},\"type\":\"table\"}]},\"layout\":{\"annotationdefaults\":{\"arrowcolor\":\"#2a3f5f\",\"arrowhead\":0,\"arrowwidth\":1},\"autotypenumbers\":\"strict\",\"coloraxis\":{\"colorbar\":{\"outlinewidth\":0,\"ticks\":\"\"}},\"colorscale\":{\"diverging\":[[0,\"#8e0152\"],[0.1,\"#c51b7d\"],[0.2,\"#de77ae\"],[0.3,\"#f1b6da\"],[0.4,\"#fde0ef\"],[0.5,\"#f7f7f7\"],[0.6,\"#e6f5d0\"],[0.7,\"#b8e186\"],[0.8,\"#7fbc41\"],[0.9,\"#4d9221\"],[1,\"#276419\"]],\"sequential\":[[0.0,\"#0d0887\"],[0.1111111111111111,\"#46039f\"],[0.2222222222222222,\"#7201a8\"],[0.3333333333333333,\"#9c179e\"],[0.4444444444444444,\"#bd3786\"],[0.5555555555555556,\"#d8576b\"],[0.6666666666666666,\"#ed7953\"],[0.7777777777777778,\"#fb9f3a\"],[0.8888888888888888,\"#fdca26\"],[1.0,\"#f0f921\"]],\"sequentialminus\":[[0.0,\"#0d0887\"],[0.1111111111111111,\"#46039f\"],[0.2222222222222222,\"#7201a8\"],[0.3333333333333333,\"#9c179e\"],[0.4444444444444444,\"#bd3786\"],[0.5555555555555556,\"#d8576b\"],[0.6666666666666666,\"#ed7953\"],[0.7777777777777778,\"#fb9f3a\"],[0.8888888888888888,\"#fdca26\"],[1.0,\"#f0f921\"]]},\"colorway\":[\"#636efa\",\"#EF553B\",\"#00cc96\",\"#ab63fa\",\"#FFA15A\",\"#19d3f3\",\"#FF6692\",\"#B6E880\",\"#FF97FF\",\"#FECB52\"],\"font\":{\"color\":\"#2a3f5f\"},\"geo\":{\"bgcolor\":\"white\",\"lakecolor\":\"white\",\"landcolor\":\"#E5ECF6\",\"showlakes\":true,\"showland\":true,\"subunitcolor\":\"white\"},\"hoverlabel\":{\"align\":\"left\"},\"hovermode\":\"closest\",\"mapbox\":{\"style\":\"light\"},\"paper_bgcolor\":\"white\",\"plot_bgcolor\":\"#E5ECF6\",\"polar\":{\"angularaxis\":{\"gridcolor\":\"white\",\"linecolor\":\"white\",\"ticks\":\"\"},\"bgcolor\":\"#E5ECF6\",\"radialaxis\":{\"gridcolor\":\"white\",\"linecolor\":\"white\",\"ticks\":\"\"}},\"scene\":{\"xaxis\":{\"backgroundcolor\":\"#E5ECF6\",\"gridcolor\":\"white\",\"gridwidth\":2,\"linecolor\":\"white\",\"showbackground\":true,\"ticks\":\"\",\"zerolinecolor\":\"white\"},\"yaxis\":{\"backgroundcolor\":\"#E5ECF6\",\"gridcolor\":\"white\",\"gridwidth\":2,\"linecolor\":\"white\",\"showbackground\":true,\"ticks\":\"\",\"zerolinecolor\":\"white\"},\"zaxis\":{\"backgroundcolor\":\"#E5ECF6\",\"gridcolor\":\"white\",\"gridwidth\":2,\"linecolor\":\"white\",\"showbackground\":true,\"ticks\":\"\",\"zerolinecolor\":\"white\"}},\"shapedefaults\":{\"line\":{\"color\":\"#2a3f5f\"}},\"ternary\":{\"aaxis\":{\"gridcolor\":\"white\",\"linecolor\":\"white\",\"ticks\":\"\"},\"baxis\":{\"gridcolor\":\"white\",\"linecolor\":\"white\",\"ticks\":\"\"},\"bgcolor\":\"#E5ECF6\",\"caxis\":{\"gridcolor\":\"white\",\"linecolor\":\"white\",\"ticks\":\"\"}},\"title\":{\"x\":0.05},\"xaxis\":{\"automargin\":true,\"gridcolor\":\"white\",\"linecolor\":\"white\",\"ticks\":\"\",\"title\":{\"standoff\":15},\"zerolinecolor\":\"white\",\"zerolinewidth\":2},\"yaxis\":{\"automargin\":true,\"gridcolor\":\"white\",\"linecolor\":\"white\",\"ticks\":\"\",\"title\":{\"standoff\":15},\"zerolinecolor\":\"white\",\"zerolinewidth\":2}}},\"xaxis\":{\"anchor\":\"y\",\"domain\":[0.0,1.0],\"title\":{\"text\":\"PCA1\"}},\"yaxis\":{\"anchor\":\"x\",\"domain\":[0.0,1.0],\"title\":{\"text\":\"PCA2\"}},\"legend\":{\"title\":{\"text\":\"Cluster\"},\"tracegroupgap\":0},\"margin\":{\"t\":60},\"plot_bgcolor\":\"rgb(240,240,240)\",\"title\":{\"text\":\"2D Cluster PCA Plot\"},\"height\":600},                        {\"responsive\": true}                    ).then(function(){\n",
              "                            \n",
              "var gd = document.getElementById('a145b5a4-b8ea-47b3-9dce-22bcdc676d37');\n",
              "var x = new MutationObserver(function (mutations, observer) {{\n",
              "        var display = window.getComputedStyle(gd).display;\n",
              "        if (!display || display === 'none') {{\n",
              "            console.log([gd, 'removed!']);\n",
              "            Plotly.purge(gd);\n",
              "            observer.disconnect();\n",
              "        }}\n",
              "}});\n",
              "\n",
              "// Listen for the removal of the full notebook cells\n",
              "var notebookContainer = gd.closest('#notebook-container');\n",
              "if (notebookContainer) {{\n",
              "    x.observe(notebookContainer, {childList: true});\n",
              "}}\n",
              "\n",
              "// Listen for the clearing of the current output cell\n",
              "var outputEl = gd.closest('.output');\n",
              "if (outputEl) {{\n",
              "    x.observe(outputEl, {childList: true});\n",
              "}}\n",
              "\n",
              "                        })                };                            </script>        </div>\n",
              "</body>\n",
              "</html>"
            ]
          },
          "metadata": {}
        },
        {
          "output_type": "stream",
          "name": "stderr",
          "text": [
            "INFO:logs:Visual Rendered Successfully\n",
            "INFO:logs:plot_model() succesfully completed......................................\n"
          ]
        }
      ]
    },
    {
      "cell_type": "markdown",
      "source": [
        "#As the plot is not displaying in the github, attaching below"
      ],
      "metadata": {
        "id": "zpab3VPyjacE"
      }
    },
    {
      "cell_type": "markdown",
      "source": [
        "![newplot.png](data:image/png;base64,iVBORw0KGgoAAAANSUhEUgAABIYAAAJYCAYAAAAXC+1lAAAAAXNSR0IArs4c6QAAIABJREFUeF7svQuMXNWZ7/tVdbXdbtvYxsY2xmAwL5uHeSQGEx4hIWcyAzc3EhqS0Yw0k8sweXA1ikIS5FhKdJVIxiIJKLpSnoST0dWJboLEPaMcyJkzJCEQwIkT87bNy9hgG/x2+9l2d1Vd7TLV1Ku7an9r7b2/VfUrCSV0r2+tb//+u/34sfbauXK5XBY+EIAABCAAAQhAAAIQgAAEIAABCEAAAj1HIIcY6rnMuWAIQAACEIAABCAAAQhAAAIQgAAEIFAhgBjiRoAABCAAAQhAAAIQgAAEIAABCEAAAj1KADHUo8Fz2RCAAAQgAAEIQAACEIAABCAAAQhAADHEPQABCEAAAhCAAAQgAAEIQAACEIAABHqUAGKoR4PnsiEAAQhAAAIQgAAEIAABCEAAAhCAAGKIewACEIAABCAAAQhAAAIQgAAEIAABCPQoAcRQjwbPZUMAAhCAAAQgAAEIQAACEIAABCAAAcQQ9wAEIAABCEAAAhCAAAQgAAEIQAACEOhRAoihHg2ey4YABCAAAQhAAAIQgAAEIAABCEAAAogh7gEIQAACEIAABCAAAQhAAAIQgAAEINCjBBBDPRo8lw0BCEAAAhCAAAQgAAEIQAACEIAABBBD3AMQgAAEIAABCEAAAhCAAAQgAAEIQKBHCSCGejR4LhsCEIAABCAAAQhAAAIQgAAEIAABCCCGuAcgAAEIQAACEIAABCAAAQhAAAIQgECPEkAM9WjwXDYEIAABCEAAAhCAAAQgAAEIQAACEEAMcQ9AAAIQgAAEIAABCEAAAhCAAAQgAIEeJYAYMhj8fT9+SNY9u1G+v+ZLMmvGdIMd9nZLDz/6hPzg3/5dfnTvl2XxogW9DYOrhwAEIAABCEAAAhCAAAQgAIGgCfScGFr3/Cb5zBfX1IX2rbtvl1tvvqHua9Ff/r9+74Mtw/3Z91bK8suWxA5+/9AhuXPl/fLCxs11tf/897fIXZ+9bexrSYuhrMRGK/bRRd/ysRXyza/cLgMDk5qYtsphwbzZ40qZ6viJxowX3HiZN+bjwi/pbGPflBRAAAIQgAAEIAABCEAAAhCAQE8T6CkxVBUTtSJo89Yd8rm7vyt/c9OKOjkz3l/+q3MsW7o41o6eqnRolAxVWRTdhdUdQknLAxex4fLTUmVXK9ZaXX+0RvXre/YNNUmgKstGoTc8fEK+8Z0H5a3tu2TvviH5wj99skn4TdR/Ky7V++OKS88fk1cu/JLO1iUfaiEAAQhAAAIQgAAEIAABCECg9wj0lBh6+ZU3ZcrA5KbHf1r9RX+iv/yPJzPGu31aCanGsf/t4cfk5puurjw6lrQ8cBEbLj8ircRQNF9VvlRFTlXwvL1917jyLap57c3t8vEbl4+1VJ3n61/6J/kfjz1d+fp4O5FaXUc7GVgVWi78ks7WJR9qIQABCEAAAhCAAAQgAAEIQKD3CPSUGBov3rhiKJqnE9kTjetEcjT21SgPqsJj9ap/qXuErSqobvvEjXU7Y6L6n/78kbFpa3c3jfe4VO0unsZHvlrtjqr2eN//9X/K/T95SB55bK20e3xrPDFUvY7lVyyt7NrqlO1E3H731LOxzwEaT/g0iqvxxjWybXxErjGXqP92zHrvlySuGAIQgAAEIAABCEAAAhCAAATSJNDzYmg8cdNuV0hVZpx5xtwJd6WM96jaRCG7iKHG2ur1RetVd89MdG1R/a9/s7bu8a1W46uSI47Y6FQMteqh3Q9Fo1xqlDnt6qPvu4ih8bg37npix1AnSTAGAhCAAAQgAAEIQAACEIAABNIi0PNiqCor4h4w3OlOII2g0IqhRjlSexP9x+Pr5MMrLqsc8NxOgIy3M6m6oyeaVyM4xhNDjTuEfM0dd552O4HGe5SsU+Gl5ZbWLwasAwEIQAACEIAABCAAAQhAAAK9R6CnxVBV2sw5dUbTWTbtdgxZFEPVnqLHulq9aa16e08kQB761eMtz/WJJMu7u/aO7TqKK12itVsJlFaHO2vmblUznrAZ78e8FZdW4rBxXPTvrbi12q2lubbe+2WJK4YABCAAAQhAAAIQgAAEIACBtAj0rBiaSApF8NuJIauPktXKoepN1Pi413jX1uoMnNobsfbMHI3gGO919Y0SK+6jZNUsXti4ueXPTeNusInE0NfvfbDp27XnL7W6NyZi0fg9Dbe0fjFgHQhAAAIQgAAEIAABCEAAAhDoPQI9KYbaSaFOxFCnByR3urOo9tbTPkrW6vZtda2aHUONc2sER6c7eDplW+2p3ZlJ657dOO7bzWqvq50MHG89dgz13i+cXDEEIAABCEAAAhCAAAQgAIFuIdBzYqgqHRrfGNUY6ESSoNUjQhPdEJ2IjifWviCXLj2n5evqxzunqPGtZNG/v7jxTblhxbK6dhqvJepn1eqf1B0wHRV0Km6isUmKoU5kWvVar7p8iXzjOyd3+bR6NX0n7DsRTBMJpDhnDI0nkbrlFxSuAwIQgAAEIAABCEAAAhCAAATCItBTYmi8g6ZbRTaeGKrO0eoV7hNFX32VeeNjTVW5E9V+f82XWoqhViKq9vGp6qNYrQ6fblU70YHY1cfJGh+fiq77yT++WHmdfNJiKJq/ei179g01Cawqy+i6L7/4PPnc3d+VL/zTJ+XWm29oiiCOxNPuGKryqH2b23hyK458C+uXErqFAAQgAAEIQAACEIAABCAAgRAJ9JQYaneGTq20qcqHVqE2SpNOgx/vLJxGWdRqN05jbSSmVn/tX2TVPT+R2z5x45gUqUqfHTv3jrXV6oydxvN+aq+p1VlAjecUJbljqJZnqxxqe+nkPCIX4RNHGjb2Ot6utNpxjVw7vZcYBwEIQAACEIAABCAAAQhAAAIQ8EGgp8SQD2DMAQEIQAACEIAABCAAAQhAAAIQgAAEuoUAYqhbkuQ6IAABCEAAAhCAAAQgAAEIQAACEIBATAKIoZjAGA4BCEAAAhCAAAQgAAEIQAACEIAABLqFAGKoW5LkOiAAAQhAAAIQgAAEIAABCEAAAhCAQEwCiKGYwBgOAQhAAAIQgAAEIAABCEAAAhCAAAS6hQBiqFuS5DogAAEIQAACEIAABCAAAQhAAAIQgEBMAoihmMAYDgEIQAACEIAABCAAAQhAAAIQgAAEuoUAYqhbkuQ6IAABCEAAAhCAAAQgAAEIQAACEIBATAKIoZjAGA4BCEAAAhCAAAQgAAEIQAACEIAABLqFAGKoW5LkOiAAAQhAAAIQgAAEIAABCEAAAhCAQEwCiKGYwBgOAQhAAAIQgAAEIAABCEAAAhCAAAS6hQBiqFuS5DogAAEIQAACEIAABCAAAQhAAAIQgEBMAoihmMAYDgEIQAACEIAABCAAAQhAAAIQgAAEuoUAYqhbkuQ6IAABCEAAAhCAAAQgAAEIQAACEIBATAKIoZjAGA4BCEAAAhCAAAQgAAEIQAACEIAABLqFAGKoW5LkOiAAAQhAAAIQgAAEIAABCEAAAhCAQEwCiKGYwBgOAQhAAAIQgAAEIAABCEAAAhCAAAS6hQBiqFuS5DogAAEIQAACEIAABCAAAQhAAAIQgEBMAoihmMAYDgEIQAACEIAABCAAAQhAAAIQgAAEuoUAYqhbkuQ6IAABCEAAAhCAAAQgAAEIQAACEIBATAKIoZjAGA4BCEAAAhCAAAQgAAEIQAACEIAABLqFAGKoW5LkOiAAAQhAAAIQgAAEIAABCEAAAhCAQEwCiKGYwBgOAQhAAAIQgAAEIAABCEAAAhCAAAS6hQBiqFuS5DogAAEIQAACEIAABCAAAQhAAAIQgEBMAoihmMAYDgEIQAACEIAABCAAAQhAAAIQgAAEuoUAYqhbkuQ6IAABCEAAAhCAAAQgAAEIQAACEIBATAKIoZjAGA4BCEAAAhCAAAQgAAEIQAACEIAABLqFAGKoW5LkOiAAAQhAAAIQgAAEIAABCEAAAhCAQEwCiKGYwBgOAQhAAAIQgAAEIAABCEAAAhCAAAS6hQBiqFuS5DogAAEIQAACEIAABCAAAQhAAAIQgEBMAoihmMAahw8NDY19KZfLyfTp0+XgwYOOs1KeNoF8Pi9Tp06VQ4cOpb006zkS6OvrkylTpsjhw4cdZ6I8bQJklzZxf+tNmzZNovyin7tisehvYmZKnEB/f79E/xw9ejTxtVjALwGy88szzdkmTZpU+TXz2LFjaS7LWh4ITJ48WaK/4w0PD3uYLdspZsyYkW0DrG6aAGLIMR7EkCNAI+WIISNBKNpALiigGSkhOyNBKNpADCmgGSlBLhgJQtEG2SmgGSlBDBkJQtEGYkgBjZIgCSCGHGNDDDkCNFKOGDIShKIN5IICmpESsjMShKINxJACmpES5IKRIBRtkJ0CmpESxJCRIBRtIIYU0CgJkkBPiqF1z2+Sz3xxTSWwZUsXy/fXfElmzZg+boD3/fgh+enPH2k5HjEU5H3f1DRiKNwckQtkFy6BcDtHDIWbHXKB7MIlEG7niKFws0MMhZsdnccj0HNiaPPWHbJqzQOyeuUdsnjRAnn40Sdk7foN8s2v3C4DA5Oa6DV+v/HfEUPxbjiroxFDVpNp3xdiqD0jqyPIzmoy7ftCDLVnZHUEYshqMu37Irv2jKyOQAxZTaZ9X4ih9owY0R0Eek4MRWJny7adctdnb6sk2CiKGmONdgtFn+r4aLfRfT/85dguI8RQd/wgIIbCzRG5QHbhEgi3c8RQuNkhF8guXALhdo4YCjc7xFC42dF5PAI9J4YaRc/+oUNy58r75a7Pf0qWX7akiV4kjj5393flb25aUZFDUf3ZC+fJrTffUBlb+xar6MT66M1WvB0p3k1oYXQkhqI3Wx05csRCO/QQg0AkhqLftHnDTgxoRoaSnZEgFG0MDg5W3rAT/dzxVjIFwAxLCoVC5a1kvB0pwxCUS5OdEpyBsuhnLvo1sxvebGUAZ6otRFIv+jve8ePHU103icWit2fzgcB4BHpSDNWKnXZiaHj4hHzjOw/K0MEj8oc/vdh0JlGpVKpjGwmGxq9x+4VBgOzCyKlVl2RHduESCLPz6Gcu+vD7XXj5RX/BiT7lcjm85nu8Y7IL9wYgO7KzQKD6e3cWvTQ+dZNFD6w5MYGeFEMRkuqjYe3EUOMOoehRtId+9TiPknXZTxaPkoUbKI+SkV24BMLtnEfJws2OR8nILlwC4XbOo2ThZsejZJ1lV91M8chja+sKvnX37ZUnbXyLId/zdXaV3T2q58RQnDOGqjf4bZ+4cewxs8YziThjqDt+QBBD4eaIGCK7cAmE2zliKNzsEENkFy6BcDtHDIWbHWKofXaNR69UK6INGKvueUC++oVPy94DB+vO6W0/68QjEEOuBJvre04MtXsrWeOOoGjH0Lu79o69tYwdQ/5vQgszIoYspKDrATGk42ahiuwspKDrATGk42ahCjFkIQVdD2Sn42ahCjFkIQVdD4ihiblVN1LMnzt77ImcVhWNIqeV2Gn8e3qrXUjRDqTLLz6vcgbwjp17x5b657+/ZWz96O/rX7/3wbHv/ex7K8c2eVTXjc4XXrX6J5U5qruadHdI91T1nBiKootuiM98cU0lxWVLF489Fhb9e6P4abwhG8ezY6g7fhgQQ+HmiFwgu3AJhNs5Yijc7JALZBcugXA7RwyFmx1iaOLsqruFVq/6l5YvcqpWa8RQq5dG/ddf/E+58x8/KS++srnlDqTo7/Jr128Y29TR2F/VA9zysRVjY8K9O/123pNiyCdCxJBPmtnNhRjKjr3ryoghV4LZ1ZNdduxdV0YMuRLMrh4xlB1715XJzpVgdvWIoezYu66MGJqYYCRaop03P7r3y7J40YJxB8cVQwvmzam8AGrFlReNvQ28dvJWO45qH12r7aVWMPEI2vh5IoYcf7VADDkCNFKOGDIShKIN5IICmpESsjMShKINxJACmpES5IKRIBRtkJ0CmpESxJCRIBRtIIayEUOR2Kl9JKxxh894j6I1PmJW7b76qBliCDGk+GWgsxLEUGecrI9CDFlPaPz+kAtkFy6BcDtHDIWbHXKB7MIlEG7niKFws0MMTZxdko+SVVduJYhaPUrWeEZRq84RQ4ihxH41QgwlhjbViRFDqeL2uhhiyCvOVCcju1Rxe10MMeQVZ6qTIYZSxe11MbLzijPVyRBDqeL2uhhiaGKc7Q6f/o/H18n555zR9FayTg6fbly5tmb/gUPy7R/8QlZ/7Q6ZNWN6ZWj0KNmdK++X6GDp5Zctadk4Yggx5PUXiNrJEEOJoU11YsRQqri9LoZc8Ioz1cnILlXcXhdDDHnFmepkyIVUcXtdjOy84kx1MsRQqri9LoYYao9zvNfVR2f7/Po3ayvnDzW+rr5xp1FVMD374muV8bNmTpd7/u//Jl/7138YEz+1B0vv2Lmn8mayxkOva9esnjMUyaC3t++qnFWEGEIMtb+jlSMQQ0pwxsoQQ8YCidEOciEGLGNDyc5YIDHaQQzFgGVsKHLBWCAx2iG7GLCMDUUMGQskRjuIoc5gtXq1fO3bvFsJmdo3hS+YN1u+8oW/k//6i1/L6pV3VA6yjiTPT3/+yFgDrd4mXn0t/USvq4/mrh6OjRhCDHV2RytGIYYU0AyWIIYMhtJhS8iFDkEZHEZ2BkPpsCXEUIegDA5DLhgMpcOWyK5DUAaHIYYMhtJhS4ihDkExLHgCvJXMMULEkCNAI+WIISNBKNpALiigGSkhOyNBKNpADCmgGSlBLhgJQtEG2SmgGSlBDBkJQtEGYkgBjZIgCSCGHGNDDDkCNFKOGDIShKIN5IICmpESsjMShKINxJACmpES5IKRIBRtkJ0CmpESxJCRIBRtIIYU0CgJkgBiyDE2xJAjQCPliCEjQSjaQC4ooBkpITsjQSjaQAwpoBkpQS4YCULRBtkpoBkpQQwZCULRBmJIAY2SIAkghhxjQww5AjRSjhgyEoSiDeSCApqRErIzEoSiDcSQApqREuSCkSAUbZCdApqREsSQkSAUbSCGFNAoCZIAYsgxNsSQI0Aj5YghI0Eo2kAuKKB1UFIqixw8mJOyiJwyrSx9fR0UxRxCdjGBGRqOGDIURsxWkAsxgRkaTnaGwojZCmIoJjBDwxFDhsKglUQJIIYc8SKGHAEaKUcMGQlC0QZyQQGtTcmefXl5YUOfjI6cHJjvE7lkSVHmzy15XYzsvOJMdTLEUKq4vS6GXPCKM9XJyC5V3F4XQwx5xZnqZIihVHGzWIYEEEOO8BFDjgCNlCOGjAShaAO5oIDWpuSP6wsyNJSrGzU4KHLd1e+ZIk9Lkp0nkBlMgxjKALqnJZELnkBmMA3ZZQDd05KIIU8gM5gGMZQBdJbMhABiyBE7YsgRoJFyxJCRIBRtIBcU0NqUPPZEv5SKzYM+esOIFDw+UkZ2/rNLa0bEUFqk/a+DXPDPNK0ZyS4t0v7XQQz5Z5rWjIihtEizTtYEEEOOCSCGHAEaKUcMGQlC0QZyQQGtTcnjT/XLiRMNg3Ii/+XDI5Kr30jktDjZOeHLtBgxlCl+p8WRC074Mi0mu0zxOy2OGHLCl2kxYihT/IktPjx8Qr7xnQdlxZUXya0335DYOiFNjBhyTAsx5AjQSDliyEgQijaQCwpobUo2vdYnb23L1406fX5JLl3aYhuRw/Jk5wAv41LEUMYBOCyPXHCAl3Ep2WUcgMPyiCEHeBmXIoYyDsBx+XXPb5LPfHHN2CwL5s2WH937ZVkwb44XMXTfjx+qzH3XZ29z7LTz8ocffUK2bNvpfU3EUOcZtByJGHIEaKQcMWQkCEUbyAUFtA5KNm/tk/0HTr6VbOYpZTnvHL9SKGqB7DoIwugQxJDRYDpoC7nQASSjQ8jOaDAdtIUY6gCS0SGIoWSDOXpM5NDhsuTzIrNn5Sr/6+sTCZQf/Nu/V0TQ4kULKtNu3rpDHnvyL/KPf/vx4MRQreT657+/BTHk60bxNQ9iyBfJbOdBDGXL32V15IILvWxryS5b/i6rI4Zc6GVbi1zIlr/L6mTnQi/bWsRQtvxdVkcMudCbuPa1zWXZ+Gr0nyBPfiZPErnqyrzMmum+5v6hQ3Lnyvvlrs9/SpZftqRpwsZHySKJtHb9BvnmV26XgYFJFYH07R/8QlZ/7Q6ZNWO6RN//+r0Pjs3zs++trPz/2t1It3xsRaU++kSPqT3y2NrK///W3bePPa4W7TA6cuSYHDpytPL92u91etXsGOqUVMrjEEMpA09oOcRQQmBTmBa5kALkhJYgu4TApjAtYigFyAktgVxICGwK05JdCpATWgIxlBDYFKZFDCUDuVgUefSxkpTf90KVhU6fl5PlV7gfaBntrrnvh7+U76/5UkXsNH7iiKH9Bw7VSaJIGr325nb5+I3LpfFRsuq88+fOruzoiQTVqnsekK9+4dOVXUvR+F//Zm3dLqa4hBFDcYmlNB4xlBLohJdBDCUMOMHpkQsJwk14arJLGHCC0yOGEoSb8NTIhYQBJzg92SUIN+GpEUMJA05wesRQMnAPHRb53R9KTZNPnybykevcnyeLxNBDv3p8bAeQixh6fct2WbX6Jy1lTqMYiqTRqjUPyOqVd4w9vhaNOXvhvMquIR9nEiGGkrknnWdFDDkjNDEBYshEDKomkAsqbCaKyM5EDKomEEMqbCaKkAsmYlA1QXYqbCaKEEMmYlA1gRhSYWtbdGxY5D8fbxZD0WNk16/wI4Z87RhqfJRs2dLFYzuRWomhz939Xdmxc28dg+ojY52IoWjMT3/+SKW+dq3qhIihtrdXNgMQQ9lw970qYsg30fTmQy6kx9r3SmTnm2h68yGG0mPteyXkgm+i6c1Hdumx9r0SYsg30fTmQwwlx3rtn8uya0/9s2QXL8nJuWe7P0rm+4yhWgq1cqeVGKo9m6iRXidiqB1xxFA7Qhl9HzGUEXjPyyKGPANNcTrkQoqwReTYcE5yOZGByQ0PhSvaIDsFNCMliCEjQSjaQC4ooBkpITsjQSjaQAwpoBkpQQwlF0SpJBIdQD10MHpTrchps0XOWuguhaodx3krWeOZRJHAWffsxsrOoOhRsuhTPcS6Vu40HlrdeMZQVDfRmUQauoghDbUUahBDKUBOYQnEUAqQE1oCuZAQ2IZpd+7Oy6bX+uT48ZPfmDGjLJcuLcrgFL0gIrt0sktiFcRQElTTmRO5kA7nJFYhuySopjMnYigdzkmsghhKgmp6c9a+4j1adcG82ZWzghbMm9P0uvraR7i+9q//IE+te6nyVrLo8Onax8Oqbx+L3l5W3Zn0wsbNMt5byaprVg+fjvqIDqaO+2m8lqg+ejtaq7euxZ07Gp8rlxvPAtdM07s1iKHuyB4xFG6OyIV0svv90/1jUqi64vx5ZVl20ai6AbJTo8u8EDGUeQTqBpALanSZF5Jd5hGoG0AMqdFlXogYyjwCGkiJAGLIETRiyBGgkXLEkJEgFG0gFxTQYpZEj489+UyhZdVffWQk5mzvDyc7NbrMCxFDmUegbgC5oEaXeSHZZR6BugHEkBpd5oWIocwjoIGUCCCGHEEjhhwBGilHDBkJQtEGckEBLWbJ8PGcPPF0sxiaOlXk2qsQQzFxdsVwxFC4MSIXyC5cAuF2jhgKNzvEULjZ0Xk8AoiheLyaRiOGHAEaKUcMGQlC0QZiSAFNUfLH9QUZGqo/EHDRmSW58LyiYraTJWSnRpd5IWIo8wjUDSCG1OgyLyS7zCNQN4AYUqPLvBAxlHkENJASAcSQI2jEkCNAI+WIISNBKNpALiigKUqOHsvJ62/2ydDBnOTzInNOdZNCiCFFCIZKEEOGwojZCnIhJjBDw8nOUBgxW0EMxQRmaDhiyFAYtJIoAcSQI17EkCNAI+WIISNBKNpADCmgGSkhOyNBKNpADCmgGSlBLhgJQtEG2SmgGSlBDBkJQtEGYkgBjZIgCSCGHGNDDDkCNFKOGDIShKIN5IICmpESsjMShKINxJACmpES5IKRIBRtkJ0CmpESxJCRIBRtIIYU0CgJkgBiyDE2xJAjQCPliCEjQSjaQC4ooBkpITsjQSjaQAwpoBkpQS4YCULRBtkpoBkpQQwZCULRBmJIAY2SIAkghhxjQww5AjRSjhgyEoSijaTlwokTImXJyeRJZUV3lExEIOnsoJ8cAcRQcmyTnhm5kDTh5OYnu+TYJj0zYihpwsnNjxhKji0z2yKAGHLMAzHkCNBIOWLISBCKNpKSC4eP5OTlTScPW44+g4MiSy8YldmzEESKmFqWJJWdr/6YZ3wCiKFw7w7kAtmFSyDczhFD4WaHGAo3u4k6Hx4+Id/4zoOy4sqL5Nabb+jOi4x5VYihmMAahyOGHAEaKUcMGQlC0UZScuHZFwuye0/969mnThW59qoRRZeUtCKQVHbQTp4AYih5xkmtgBhKimzy85Jd8oyTWgExlBTZ5OdFDCXPOMkV1j2/ST7zxTVjSyyYN1t+dO+XZcG8OV7E0H0/fqgy912fvc3rZdT2vWzpYvn+mi/JrBnTva7ROBliyBEvYsgRoJFyxJCRIBRtJCUXfvuHfhlt4YA+ct2I9PcrGqWkiUBS2YE6eQKIoeQZJ7UCciEpssnPS3bJM05qBcRQUmSTnxcxlCzj8pFDUj54QCTfJ/nT5ovk894WfPjRJ+QH//bvFRG0eNGCyrybt+6Qx578i/zj337crBiKely15gFZvfKOSt/Rdaxdv0G++ZXbZWBgkjc+iCHPKBFDnoFmNB1iKCPwHpZNSi48/nS/nDje3OBHrx+RQsFD40whSWUH2uQJIIaSZ5zUCsiFpMgmPy/ZJc84qRUQQ0mRTX5exFByjEc3vSCjL/55bIHc5CnSf+1Nkp8913nR/UOH5M6V98tdn/+ULL9sSdN8jY+SNcqXSM58+we/kNVfu6OyUyf6/tfvfXBsnp99b2Xl/9fuRrrlYysq8ib6RI+pPfLY2sr//9bdt489rhbtMDpy5JiVXcHXAAAgAElEQVQcOnK08v3a71Unj9basm3n2C6kRlHkDGecCdgx5EgWMeQI0Eg5YshIEIo2kpIL0flC29+p/68Wp84qywcvH1V0SUkrAkllB+3kCSCGkmec1ArIhaTIJj8v2SXPOKkVEENJkU1+XsRQQoyLozL8//0/IuX6szv7zlgk/R+6yXnR6FGs+374y3EfwYojhvYfOFQniSJR89qb2+XjNy6XxkfJqvPOnzu7InYiQbXqngfkq1/4dGX3TzT+179ZW7eLqfFiG+dsJ7mcYb03AWLIkSRiyBGgkXLEkJEgFG0kJRdKJZFNr/XJnv35yu9Zs2aU5fzFRZkywOHTiphaliSVna/+mGd8AoihcO8O5ALZhUsg3M4RQ+FmhxhKJrvo8bHj//Fw0+S5U2bK5I/f6rxoJIYe+tXj4z5+FUcMvb5lu6xa/ZOWMqdR4rTa3RONOXvhvMquoU7OJKodH4FADDnfDulMgBhKh3PSqyCGkiac3PzIheTYJj0z2SVNOLn5EUPJsU16ZsRQ0oSTm5/skmOb9MyIoaQJJzc/YigZtuWjR+T4I79omjx6jGzSR/8350V97hhqfJSs9jDoVmLoc3d/V3bs3Ft3DdVHxjoVQ1Fx9UBrxJDz7ZDOBIihdDgnvQpiKGnCyc3fi3KhVBYpjkrwh2D3YnbJ/SSkOzNiKF3ePldDLvikme5cZJcub5+rIYZ80kx3LsRQcrxPPPm/pPTutroFCpddLYULLnZetJ1MibNjqPFtYLVyp5UYqj2bqPFCOhFDnDHkHH82EyCGsuHue1XEkG+i6c3Xa3LhxY0FeefdXAXw5AGR884uyhmnl9ID7nGlXsvOI7rMp0IMZR6BugHkghpd5oVkl3kE6gYQQ2p0mRcihhKMoFSU0Y0vSOnAXsn19Ul+3kLpO+d8bwvGeStZ4w6jSOCse3Zj5Yyi6FGy6FM9xLpW7jQeWt14xlBUN9GZRK0ulreSebsF0p0IMZQu76RWQwwlRTb5eXtJLmze2ievb25+jeeN147IpOTeXplYiL2UXWIQM5oYMZQReA/LIhc8QMxoCrLLCLyHZRFDHiBmNAViKCPwnpaNhE/tm8MWzJtdOStowbw5Ta+rj4TPT3/+SGXlr/3rP8hT616qvJUsOny69vGw6tvHolfHV3cmvbBxs4z3VrLqmtXDp6P5q4+JjXeZtX3XPrrmCUvLaTh82pEuYsgRoJFyxJCRIBRt9JJcePbFguzec3K3UO3nA5cVZfap4e0a6qXsFLe26RLEkOl4JmwOuUB24RIIt3PEULjZIYbCzY7O4xFADMXj1TQaMeQI0Eg5YshIEIo2ekkuPPdSQXbtbiGGLh+V2bPCe1taL2WnuLVNlyCGTMeDGAo3HrLr0uwQQ+EGixgKNzs6j0cAMRSPF2LIkZfVcsSQ1WTa99VLcmHrtry88lpfHZS+PpEPXzsihfovtwdnYEQvZWcAt9cWEENecaY6GTuGUsXtdTGy84oz1ckQQ6ni9roYYsgrTiYzTAAx5BgOO4YcARopRwwZCULRRq/JhVff6JN3d+VldFRk6tSyLF5UktNmh/cYWRR1r2WnuL3NliCGzEbTtjHkQltEZgeQndlo2jaGGGqLyOwAxJDZaGjMMwHEkCNQxJAjQCPliCEjQSjaQC4ooBkpITsjQSjaQAwpoBkpQS4YCULRBtkpoBkpQQwZCULRBmJIAY2SIAkghhxjQww5AjRSjhgyEoSiDeSCApqRErIzEoSiDcSQApqREuSCkSAUbZCdApqREsSQkSAUbSCGFNAoCZIAYsgxNsSQI0Aj5YghI0Eo2kAuKKAZKSE7I0Eo2kAMKaAZKUEuGAlC0QbZKaAZKUEMGQlC0QZiSAGNkiAJ9KQYWvf8JvnMF9dUAlu2dLF8f82XZNaM6eMGODx8Qr7xnQflkcfWVsZ86+7b5dabb6j8f8RQkPd9U9OIoXBzRC6QXbgEwu0cMRRudsgFsguXQLidI4bCzQ4xFG52dB6PQM+Joc1bd8iqNQ/I6pV3yOJFC+ThR5+Qtes3yDe/crsMDExqoleVQiuuvGhMBtUOQgzFu+GsjkYMWU2mfV+IofaMrI4gO6vJtO8LMdSekdURiCGrybTvi+zaM7I6AjFkNZn2fSGG2jNiRHcQ6DkxFImgLdt2yl2fva2SYKMoaoy1cXzj9xFD3fGDgBgKN0fkAtmFSyDczhFD4WaHXCC7cAmE2zliKNzsEEPhZkfn8Qj0nBi678cPVQhVxdD+oUNy58r75a7Pf0qWX7akiV40/qc/f2Ts6wvmzZYf3fvlym6j6HP48OGx7+VyORkcHJQjR47ES4HRmROIspsyZYocPXo0815oIB6BSOoNDAyQXTxsJkaTnYkYVE1Ev15GUvbYsWNSLBZVc1CUDYFCoSDRP8PDw9k0wKpqAmSnRpd5YSRko9/zjh8/nnkvNBCPQCT1os+JEyfiFRocHf1HHT4QGI9AT4qhsxfOG3ssbCIxVH2M7LZP3DgmjaIdRA/96vGxc4ka/0Ac/UGZPySH9wMXiaHoN2yyCzO7KL9SqRRe8z3ecZQb2YV5E0S/XlazK5fLYV5Ej3bNz124wZMd2YVLINzOu+nnLvp7Kh8IIIbeIxBnx1ArMdQokniUrDt+uHiULNwceZSM7MIlEG7nPEoWbnY8SkZ24RIIt3MeJQs3Ox4lCzc7Oo9HoOd2DMU9YygSSY07jFbd84B89QufrjxOhhiKd8NZHY0YsppM+74QQ+0ZWR1BdlaTad8XYqg9I6sjEENWk2nfF9m1Z2R1BGLIajLt+0IMtWfEiO4g0HNiqN1byRofFYtebb9q9U/GzhVqfIsZYqg7fhAQQ+HmiFwgu3AJhNs5Yijc7JALZBcugXA7RwyFmx1iKNzs6DwegZ4TQxGeSPZ85otrKqSWLV08dl5Q9O+NYqj6ta/f+2DL8YiheDec1dGIIavJtO8LMdSe0Wub+2THu3kZGRWZOliWc84qyfy52Z/JRHbts7M6AjFkNZn2fSGG2jOyOoLsrCbTvi/EUHtGVkcghqwmQ1++CfSkGPIJETHkk2Z2cyGGsmPvujJyYWKC23bkZcMrzYcNfvhDozJ5craHBpOd692fXT1iKDv2risjF1wJZldPdtmxd10ZMeRKMLt6xFB27Fk5XQKIIUfeiCFHgEbKEUNGglC0gVyYGNqLG/vknXfzTYMuv7Qoc+dku2uI7BQ3vJESxJCRIBRtIBcU0IyUkJ2RIBRtIIYU0IyUIIaMBEEbiRNADDkiRgw5AjRSjhgyEoSiDeSCTgxddklR5p2GGFLccpSICGIo3NsAuUB24RIIt3PEULjZIYbCzY7O4xFADMXj1TQaMeQI0Eg5YshIEIo2EEMTQ3tre142vdr8KNn114zKlAEeJVPccpQghoK+BxBD4cZHduFmhxgKNzvEULjZ0Xk8AoiheLwQQ468rJYjhqwm074vxFB7Rhte7ZPt7+SlXBKZPCCyeFFRzlyQ7W6hqOuksysWRXbvzcvoqMiUKWWZPStbEdY+qXBGsGMonKwaO0UukF24BMLtHDEUbnaIoXCzo/N4BBBD8Xghhhx5WS1HDFlNpn1fScuF9h2EMyISJIWCnX6TzO7I0Zz8+bmCHD/+/vXOn1eWZReN2gEQcCeIoXDDQwyRXbgEwu0cMRRudoihcLOj83gEEEPxeCGGHHlZLUcMWU2mfV9JyoX2qzPChUCS2b3yep9sfbv50O2rPzgqM6azc8glt6gWMeRKMLt6xFB27F1XJjtXgtnVI4ayY++6MmLIlSD1oRBADDkmxRlDjgCNlCOGjAShaCNJuaBoh5IYBJLM7rmXCrJrd66pGwuHbsdAZHYoYshsNG0bQy60RWR2ANmZjaZtY4ihtojMDkAMmY2GxjwTQAw5AkUMOQI0Uo4YMhKEoo0k5YKinaaSHe/mZe/+nJRKOZk+rSznnFWUXLOv8LFUcHMkmd2GV/pk247mHUMfvGJUTp3JjiHXmwUx5Eowu3rkQnbsXVcmO1eC2dUjhrJj77oyYsiVIPWhEEAMOSaFGHIEaKQcMWQkCEUbScoFRTt1JVu35eWV1+rfCDZndlmuXMY5NxGoJLPbt//kGUO1n1NOKcuKD8De9b6O6hFDPihmMwdyIRvuPlYlOx8Us5kDMZQNdx+rIoZ8UGSOEAgghhxTQgw5AjRSjhgyEoSijSTlgqKdupI/ri/I0FDz9qAbPjQqA5PZtZJ0dgeGcrJrz8m3kg0Oipy5oCh99Z7ONeKerUcMhRs9coHswiUQbueIoXCzQwyFmx2dxyOAGIrHq2k0YsgRoJFyxJCRIBRtJC0XFC2NlTz1p345cqR5hg9dNSrTpiKGLGfnknsv1CKGwk0ZMUR24RIIt3PEULjZIYbCzY7O4xFADMXjhRhy5GW1HDFkNZn2fVmWCy0PQM6J3HT9CDtXEn6UrP2dwwgXAoghF3rZ1iKGsuXvsjrZudDLthYxlC1/l9URQy70qA2JAGLIMS12DDkCNFKOGDIShKINy2Jo/1BOnn2xIKMj71/YeYtLsnhRUXGl3VdiObvuo+33ihBDfnmmORtyIU3aftciO78805wNMZQmbb9rIYb88mQ2uwQQQ47ZIIYcARopRwwZCULRhnW5UCyK7B/KS6kkMm2wLIODPEJWjdl6dorbsWdKEEPhRo1cILtwCYTbOWIo3OwQQ+FmR+fxCCCG4vFqGo0YcgRopBwxZCQIRRvIBQU0RUl0gPPrb/bJgYM5yedEZp9alnPPdtv5RHaKIIyUIIaMBKFoAzGkgGakhOyMBKFoAzGkgGakBDFkJAjaSJwAYsgRMWLIEaCRcsSQkSAUbSAXFNAUJetfKMievfVvWFt0ZkkuPE8vh8hOEYSREsSQkSAUbSAXFNCMlJCdkSAUbSCGFNCMlCCGjARBG4kTQAw5IkYMOQI0Uo4YMhKEog3kggJazJJot9Bvn+xvqpoyReT6FTUHKMWcl+xiAjM0HDFkKIyYrSAXYgIzNJzsDIURsxXEUExghoYjhgyFQSuJEkAMOeJFDDkCNFKOGDIShKIN5IICWsyS4ydy8vunCk1VkyaJ3HgtYigmzq4YjhgKN0bkAtmFSyDczhFD4WaHGAo3OzqPRwAxFI9X02jEkCNAI+WIISNBKNpADCmgKUp+/0y/HB+uL5wzuyxXLhtVzHayhOzU6DIvRAxlHoG6AcSQGl3mhWSXeQTqBhBDanSZFyKGMo+ABlIigBhyBI0YcgRopBwxZCQIRRvIBQU0Rck7O/Oy4dU+Kb7ngaLHyJZdNCozTtG/ZY3sFEEYKUEMGQlC0QZyQQHNSAnZGQlC0QZiSAHNSAliyEgQtJE4AcSQI2LEkCNAI+WIISNBKNpALiigdVhSLEnlDWS5986cLpdFDh05+VayaVP1Qqi6PNl1GITBYYghg6F02BJyoUNQBoeRncFQOmwJMdQhKIPDEEMGQ6GlRAgghhyxIoYcARopRwwZCULRBnJBAa1Nyf4DOXnljT45ePCkEZozpyyXXDgq0ZlCPj9k55NmunMhhtLl7XM15IJPmunORXbp8va5GmLIJ81050IMpcub1bIjgBhyZI8YcgRopBwxZCQIRRvIBQW0NiVP/alfjhypH3T6/JJculT/avpWS5Kd/+zSmhExlBZp/+sgF/wzTWtGskuLtP91EEP+maY1I2IoLdKskzUBxJBjAoghR4BGyhFDRoJQtIFcUECboOT48Zz8/unmN5ANDIjccI3+DWSIIb85ZT0bYijrBPTrIxf07LKuJLusE9CvjxjSs8u6EjGUdQKsnxYBxJAjacSQI0Aj5YghI0Eo2kAMKaBNJIbGeTV9dNj09SsQQ35phzsbYijc7JALZBcugXA7RwyFmx1iKNzs6DweAcRQPF5NoxFDjgCNlCOGjAShaAMxpIDWpuSZPxfk0KH3Tpx+b+wZC0py8YU8SuafdpgzIobCzC3qGjFEduESCLdzxFC42SGGws2OzuMRQAzF44UYcuRltRwxZDWZ9n0hhtozijvi4KGcvPpGnxwYykk+LzJndlkuvnBU+vrizjTxeLLzyzPN2RBDadL2uxZiyC/PNGcjuzRp+10LMeSXZ5qzIYbSpM1aWRJADDnSZ8eQI0Aj5YghI0Eo2kAuKKAZKSE7I0Eo2kAMKaAZKUEuGAlC0QbZKaAZKUEMGQlC0QZiSAGNkiAJIIYcY0MMOQI0Uo4YMhKEog3kggKakRKyMxKEog3EkAKakRLkgpEgFG2QnQKakRLEkJEgFG0ghhTQKAmSAGLIMTbEkCNAI+WIISNBKNpALiigGSkhOyNBKNpADCmgGSlBLhgJQtEG2SmgGSlBDBkJQtEGYkgBjZIgCSCGHGNDDDkCNFKOGDIShKIN5IICmpESsjMShKINxJACmpES5IKRIBRtkJ0CmpESxJCRIBRtIIYU0CgJkgBiyDE2xJAjQCPliCEjQSjaQC4ooBkpITsjQSjaQAwpoBkpQS4YCULRBtkpoBkpQQwZCULRBmJIAY2SIAkghhxjQww5AjRSjhgyEoSiDeSCApqREl/ZvflWnwwdzEkuJzJrRknOWlgycoXd2wZiKNxskQtkFy6BcDtHDIWbHWIo3OzoPB4BxFA8Xk2jEUOOAI2UI4aMBKFow5dcUCxNiSMBH9m9tKlPdryTr+vk7LNKcsG5RcfuKJ+IAGIo3PsDMUR24RIIt3PEULjZIYbCzY7O4xFADMXjhRhy5GW1HDFkNZn2ffmQC+1XeX/E5i19su9ATsoiMnNGWc4/530BUSqJ7N6bl5FRkSkDZZk9KxrFZzwCrtmVyyL/+ft+qYRR85k8IPLha0YAnyABxFCCcBOeGjGUMOAEpye7BOEmPDViKGHACU6PGEoQLlObIoAYcoyDHUOOAI2UI4aMBKFow1UuxFly42t98va2+t0p8+eVZdlFozJ8PCfrni3IsWPvzzj3tLJcfslonCVMji0WRaJr37M3L6WyyKyZZblgcVGmDrqJL9fsIgH3uyf7m5j1FURuuh4xlOTNhBhKkm6ycyMXkuWb5OxklyTdZOdGDCXLN8nZEUNJ0mVuSwQQQ45pIIYcARopRwwZCULRhqtciLPk40/1y4kTDRU5kf/y4RF5Y0ufbN5SL42ikcuvGK2IlJA/rR7XmjmzLFdd4Sa9fGT3xDP9MjxcT3fGKWW5+gNuvYWcVxq9I4bSoJzMGsiFZLimMSvZpUE5mTUQQ8lwTWNWxFAalFnDAgHEkGMKiCFHgEbKEUNGglC04UMudLrsY0/0S6nF0TUfvWFENr5akHfezTVNdelFRTl9XtiHIf/+6X45fryZ0keuH5H+Qqf0msf5yG77O3l5eVPf2OT5vMiyi4syd07YzPVU06lEDKXDOYlVkAtJUE1nTrJLh3MSqyCGkqCazpyIoXQ4s0r2BBBDjhkghhwBGilHDBkJQtGGD7nQ6bJ/XF+QoaF6+TM4KHLd1SOy6fU+eevt5h1DVy4rypzZYUuK3z3VLyONO6VE5CPXjUh/85NcneIUX9kdP5GTQ4dyIjmRGaeUnGRVx833+EDEULg3AHKB7MIlEG7niKFws0MMhZsdnccjgBiKx6tpNGLIEaCRcsSQkSAUbfiSC50svWdfXl7c2DcmSfJ9IpcsKcr8uSU5MJSTP62v3z4zbZrIh5aHf9bNcy8VZNfueiE2bVpZPrTc7XGtNLPrJF/GdE4AMdQ5K2sjEUPWEum8H7LrnJW1kYgha4l03g9iqHNWjAybAGLIMT/EkCNAI+WIISNBKNpIWy5Eb8I6eCgn0f9On16WvppNQkMHc7Jz98m3kg0OiCxcUHTaUaPAkUjJ0WO5yuNa+w+clEORFFpyflFOdTw7Ke3sEoHTo5MihsINHrlAduESCLdzxFC42SGGws2OzuMRQAzF49U0GjHkCNBIOWLISBCKNpALCmjKktFRqQgxl8fHapcmO2UQBsoQQwZCULaAGFKCM1BGdgZCULaAGFKCM1CGGDIQAi2kQgAx5IgZMeQI0Eg5YshIEIo2kAsKaEZKyM5IEIo2EEMKaEZKkAtGglC0QXYKaEZKEENGglC0gRhSQKMkSAKIIcfYEEOOAI2UI4aMBKFoA7mggGakhOyMBKFoAzGkgGakBLlgJAhFG2SngGakBDFkJAhFG4ghBTRKgiSAGHKMDTHkCNBIOWLISBCKNpALCmhGSsjOSBCKNhBDCmhGSpALRoJQtEF2CmhGShBDRoJQtIEYUkCjJEgCiCHH2BBDjgCNlCOGjAShaAO5oIBmpITsjAShaAMxpIBmpAS5YCQIRRtkp4BmpAQxZCQIRRuIIQU0SoIkgBhyjA0x5AjQSDliyEgQijaQCwpoRkrIzkgQijYQQwpoRkqQC0aCULRBdgpoRkoQQ0aCULSBGFJAoyRIAoghx9gQQ44AjZQjhowEoWgDuaCAZqSkNrtjwzkZGREZGCjLpH4jDdLGuAQQQ+HeHMgFsguXQLidI4bCzQ4xFG52dB6PAGIoHq+m0YghR4BGyhFDRoJQtIEYUkAzUlLN7slnhmX3ntxYV2efVZILzi0a6ZI2WhFADIV7XyCGyC5cAuF2jhgKNzvEULjZ0Xk8Aj0phtY9v0k+88U1FVLLli6W76/5ksyaMb0tuWrdz763UpZftqQyHjHUFlsQAxBDQcTUsknEUNjZvbNrijz3wvGmi7j6A6My45RyuBfX5Z0jhsINGDFEduESCLdzxFC42SGGws2OzuMR6DkxtHnrDlm15gFZvfIOWbxogTz86BOydv0G+eZXbpeBgUnj0quVSYiheDdZCKMRQyGk1LpHxFDY2b26eYq8sblZDF2ytCgL5pfCvbgu7xwxFG7AiCGyC5dAuJ0jhsLNDjEUbnZ0Ho9Az4mhSARt2bZT7vrsbRVSjaKoFb5ozLd/8Au5+86/k1X3/ETu+vyn2DEU7z4zPxoxZD6icRtEDIWd3RtbpsirrzeLoWUXF2X+XMSQ1XQRQ1aTad8XYqg9I6sjyM5qMu37Qgy1Z2R1BGLIajL05ZtAz4mh+378UIVhVQztHzokd668v0721EKuFUezZk5vGsujZL5vyWzmQwxlw93HqoghHxTfn2PfgZxs29Enw8dFJk+Syq6d02YnI2ii7A4eniJPra0XQ/k+kRuuGeEQar/Rep0NMeQVZ6qTIRdSxe11MbLzijPVyRBDqeL2uhhiyCtOJjNMoCfF0NkL58mtN99QiWUiMRR9b9U9D8hXv/DpymNnrcYePnx4LN5cLieDg4Ny5MgRw5HTWisCkRgaGBiQo0ePAigwApFciH7TJjv34I4ey8kTz/Q1TXTNB4uJnPdTze61N47Jjp35ylvJpkwRWbSwJKfO5Hwh90STm2HKlCkS5Xfs2DEpFjkoPDnS/mcuFAoS/TM8POx/cmZMlADZJYo30ckjqRf9WfP48eYdsokuzOTOBCKpF/0drxuyi/6jDh8IjEegJ8VQBKOTHUPRbqHP3f1d2bFzbxO/6jlDjX8gjv6gzB+Sw/yBI7swc4u6jv6wVSols6slXCrxO9/6tsiLG5vrLjxP5PzF8eerVmx5S2T3XpEoohmnnJyr7z3/RHZ6rllWRrlFf1COfu7KZSRellnEXTvKrZpd3FrGZ0uA7LLl77I62bnQy7Y2yi76dMPvddHfdfhAADH0HgHNGUNVeK12DPEoWXf8cPEoWbg58iiZv+y2vJ2XV19v/kPD2YtKcsFi3a6QzVv75PXN+bomZ88uyweWjVZ2nEQ7T2p3Xvq7GmZKkgCPkiVJN9m5eRwpWb5Jzk52SdJNdm4eJUuWb5Kz8yhZknSZ2xKBntsx1O6tZJE4euhXj7d8hT1iyNKt67cXxJBfnmnOhlzwR3v33rw8+0KzGHJ5Q9gzfy7IoUMn/2tb7efD147K4JQ8YshffKnOhBhKFbfXxZALXnGmOhnZpYrb62KIIa84U50MMZQqbhbLkEDPiaGIde2r55ctXVwngRBDGd6NGS6NGMoQvuPSiCFHgA3lL27sk3fefX+Hz9zTynL5JaPqRZ78Y78ca3F013UrRmX6NMSQGmzGhYihjANwWB654AAv41KyyzgAh+URQw7wMi5FDGUcAMunRqAnxZBPujxK5pNmdnMhhrJj77oyYsiVYHN9dAh1dD7mpEkiUwfdzo959sWC7N5Tv2MoeuvYTdePSKGQ3KNk7+7Ky+69ORkdzVWuYdGZJZk8ye1a/JMOd0bEULjZIRfILlwC4XaOGAo3O8RQuNnReTwCiKF4vJpGI4YcARopRwwZCULRBmJIAS3FkgMHc/L8S4WKaKp+Ljy/WHnzWFLZvbMrLy++XP9I3PTpZbnmg/qdTykiC2IpxFAQMbVsEjFEduESCLdzxFC42SGGws2OzuMRQAzF44UYcuRltRwxZDWZ9n0lJRfar8yIOAT2D0VvsBKZNlXGdu4kld3zLxdk567mc42u/sCozDiFXUNxchtvLGLIB8Vs5kAMZcPdx6pk54NiNnMghrLh7mNVxJAPiswRAgHEkGNK7BhyBGikHDFkJAhFG0nJBUUrlMQkkFR2f36+IPv2NYuhD1w+KrNnIYZixtRyOGLIB8Vs5kAuZMPdx6pk54NiNnMghrLh7mNVxJAPiswRAgHEkGNKiCFHgEbKEUNGglC0kZRcULRCSUwCSWW38bU+eXvb+wdoV9uKDrwenIIYihkTYsgHMENzIBcMhRGzFbKLCczQcMSQoTBitoIYigmM4cESQAw5RocYcgRopBwxZCQIRRtJyQVFK5TEJJBUdtHh2etfKMjRmrehLTqrJBeeW4zZIcPHI8COoXDvDeQC2YVLINzOEUPhZocYCjc7Oo9HADEUj1fTaMSQI0Aj5YghI0Eo2khKLihaoSQmgaSz23cgJ8VirrJLyPXtajEvreuHI4bCjRgxRHbhEgi3c8RQuNkhhsLNjs7jEUAMxeOFGHLkZV3JY0UAACAASURBVLUcMWQ1mfZ9JS0X2nfACC0BstOSy74OMZR9BtoOEENactnXkV32GWg7QAxpyWVfhxjKPgM6SIcAYsiRMzuGHAEaKUcMGQlC0QZyQQHNSAnZGQlC0QZiSAHNSAlywUgQijbITgHNSAliyEgQijYQQwpolARJADHkGBtiyBGgkXLEkJEgFG0gFxTQjJSQnZEgFG0ghhTQjJQgF4wEoWiD7BTQjJQghowEoWgDMaSARkmQBBBDjrEhhhwBGilHDBkJQtEGckEBzUgJ2RkJQtEGYkgBzUgJcsFIEIo2yE4BzUgJYshIEIo2EEMKaJQESQAx5BgbYsgRoJFyxJCRIBRtIBcU0IyUkJ2RIBRtIIYU0IyUIBeMBKFog+wU0IyUIIaMBKFoAzGkgEZJkAQQQ46xIYYcARopRwwZCULRBnJhYmjFosjQwZyURWT6tLJM6ldATqiE7BICm8K0iKEUICe0BHIhIbApTEt2KUBOaAnEUEJgU5gWMZQCZJYwQQAx5BgDYsgRoJFyxJCRIBRtIBfGh7Z7b15e2NAnxdH3x1y8pChnnF5SkPZfQnb+maY1I2IoLdL+10Eu+Gea1oxklxZp/+sghvwzTWtGxFBapFknawKIIccEEEOOAI2UI4aMBKFoA7kwPrQ/ri/I0FCubsDkAZEPXzOiIO2/hOz8M01rRsRQWqT9r4Nc8M80rRnJLi3S/tdBDPlnmtaMiKG0SLNO1gQQQ44JIIYcARopRwwZCULRBnJhfGi/fbJfRmt2C1VHfuS6Eek38EgZ2SlueCMliCEjQSjaQC4ooBkpITsjQSjaQAwpoBkpQQwZCYI2EieAGHJEjBhyBGikHDFkJAhFG8iF8aE98Uy/DA83f/9jN45Ivn4jkYK8ewnZuTPMagbEUFbk3ddFLrgzzGoGssuKvPu6iCF3hlnNgBjKijzrpk0AMeRIHDHkCNBIOWLISBCKNpAL40N79Y0+2fJWvm7A6fNLcunSYlvSB4ZyMnw8J/39ZZk9Kzq62v+H7PwzTWtGxFBapP2vg1zwzzStGckuLdL+10EM+Wea1oyIobRIs07WBBBDjgkghhwBGilHDBkJQtEGcmFiaFvfzsu+A/nKW8lmnlKWxYvaS6HnXy7Izl3vbymaPr0syy8flUJBEdAEJWTnl2easyGG0qTtdy3kgl+eac5GdmnS9rsWYsgvzzRnQwylSZu1siSAGHKkjxhyBGikHDFkJAhFG8gFBbQJSvbtz8mfn2s2QOefW5JzzmovleJ0Q3ZxaNkaixiylUecbpALcWjZGkt2tvKI0w1iKA4tW2MRQ7byoJvkCCCGHNkihhwBGilHDBkJQtEGckEBbYKS7e/k5eVNfU0jzlhQkosvRAz5pR3ubIihcLNDLpBduATC7RwxFG52iKFws6PzeAQQQ/F4NY1GDDkCNFKOGDIShKINxJBUzgLavTcno6M5GZxSlnmnlRQkT5bs3J2X519qFkNnn1WSC85FDKnBdlkhYijcQBFDZBcugXA7RwyFmx1iKNzs6DweAcRQPF6IIUdeVssRQ1aTad9Xr4uhg4dy8qdnC1KqcTanzSnLFZe2eE99e5xSKon84Y/NbzO76gOjlTOKfH56PTufLNOeCzGUNnF/6yGG/LFMeyayS5u4v/UQQ/5Ypj0TYiht4qyXFQHEkCN5dgw5AjRSjhgyEoSijV6XCxtf65O3t9W/eSzCePUHRmWGUuQcG87Jth15OXosJ5MmlWX+aSWZNbNeCkU7i97ZlZeREZHBgbKcubAkp0yLJ456PTvF7W6mBDFkJorYjSAXYiMzU0B2ZqKI3QhiKDYyMwWIITNR0EjCBBBDjoARQ44AjZQjhowEoWij1+XCsy8WZPee998gVkV4+aVFmTtH/0jZRFHs2ZeX9c/XP27WP0nk+hUjUmh+Cm3cqXo9O8XtbqYEMWQmitiNIBdiIzNTQHZmoojdCGIoNjIzBYghM1HQSMIEEEOOgBFDjgCNlCOGjAShaKPX5cKGV/tk2/bmHUNXXTkqM2fE28HTKf7xdilddkkx1vlGvZ5dp7wtjkMMWUyls56QC51xsjiK7Cym0llPiKHOOFkchRiymAo9JUEAMeRIFTHkCNBIOWLISBCKNnpdLhwYysmf1te/Xv7UU8vywct0Zwx1EsFLm/pkxzvNMuqSpUVZML/zXUq9nl0nrK2OQQxZTaZ9X8iF9oysjiA7q8m07wsx1J6R1RGIIavJ0JdvAoghR6KIIUeARsoRQ0aCULSBXBA5fCR6K1leRkel8layM07vXM4okMubb/XJa2+02KUU84BqstPQt1GDGLKRg6YL5IKGmo0asrORg6YLxJCGmo0axJCNHOgieQKIIUfGiCFHgEbKEUNGglC0gVxQQHMsid5c9pcXCrJ///tnG515RkmWXhDvdfZk5xhEhuWIoQzhOy6NXHAEmGE52WUI33FpxJAjwAzLEUMZwmfpVAkghhxxI4YcARopRwwZCULRBnJBAc1TyaHDORkZFRmYfHKnUtwP2cUlZmc8YshOFnE7QS7EJWZnPNnZySJuJ4ihuMTsjEcM2cmCTpIlgBhy5IsYcgRopBwxZCQIRRvIBQU0IyVkZyQIRRuIIQU0IyXIBSNBKNogOwU0IyWIISNBKNpADCmgURIkAcSQY2yIIUeARsoRQ0aCULSBXFBAM1JCdkaCULSBGFJAM1KCXDAShKINslNAM1KCGDIShKINxJACGiVBEkAMOcaGGHIEaKQcMWQkCEUbyAUFNCMlZGckCEUbiCEFNCMlyAUjQSjaIDsFNCMliCEjQSjaQAwpoFESJAHEkGNsiCFHgEbKEUNGglC0gVxQQDNSQnZGglC0gRhSQDNSglwwEoSiDbJTQDNSghgyEoSiDcSQAholQRJADDnGhhhyBGikHDFkJAhFG8gFBTQjJWRnJAhFG4ghBTQjJcgFI0Eo2iA7BTQjJYghI0Eo2kAMKaBREiQBxJBjbIghR4BGyhFDRoJQtIFcUEAzUkJ2RoJQtIEYUkAzUoJcMBKEog2yU0AzUoIYMhKEog3EkAIaJUESQAw5xoYYcgRopBwxZCQIRRvIBQU0IyVkZyQIRRuIIQU0IyXIBSNBKNogOwU0IyWIISNBKNpADCmgURIkAcSQY2yIIUeARsoRQ0aCULSBXFBAM1JCdkaCULSBGFJAM1KCXDAShKINslNAM1KCGDIShKINxJACGiVBEkAMOcaGGHIEaKQcMWQkCEUbyAUFNCMlZGckCEUbiCEFNCMlyAUjQSjaIDsFNCMliCEjQSjaQAwpoFESJAHEkGNsiCFHgEbKEUNGglC0gVxQQDNSQnZGglC0gRhSQDNSglwwEoSiDbJTQDNSghgyEoSiDcSQAholQRJADDnGhhhyBGikHDFkJAhFG8gFBTQjJWRnJAhFG4ghBTQjJcgFI0Eo2iA7BTQjJYghI0Eo2kAMKaBREiQBxJBjbIghR4BGyhFDRoJQtIFcUEDLqKRYEunLv7842WUUhIdlEUMeIGY0BXIhI/AeliU7DxAzmgIxlBF4D8sihjxAZIogCCCGHGNCDDkCNFKOGDIShKIN5IICWsolW7flZcvbfXJ8WKTQL7Lw9JJccG5RyC7lIDwuhxjyCDPlqZALKQP3uBzZeYSZ8lSIoZSBe1wOMeQRJlOZJoAYcowHMeQI0Eg5YshIEIo2kAsKaCmWHDqck2fWFZpWvPSioixckJMpU6bI4cOHU+yIpXwQQAz5oJjNHMiFbLj7WJXsfFDMZg7EUDbcfayKGPJBkTlCIIAYckwJMeQI0Eg5YshIEIo2EEMKaCmWbHsnLxs29TWteNbCkly8RBBDKWbhcynEkE+a6c6FXEiXt8/VyM4nzXTnQgyly9vnaoghnzSZyzIBxJBjOoghR4BGyhFDRoJQtIEYUkBLsWT7O3l5uZUYOrMkF1+IGEoxCq9LIYa84kx1MuRCqri9LkZ2XnGmOhliKFXcXhdDDHnFyWSGCSCGHMNBDDkCNFKOGDIShKINxJACWoolh4/k5Ok/NT9KtuziopxxevtHyYpFkb7mDUcpXgFLtSKAGAr3vkAukF24BMLtHDEUbnaIoXCzo/N4BBBD8Xg1jUYMOQI0Uo4YMhKEog3EkAJagiX7DuRkdDQng1PKMm1qubLSth0nD58+NiwyqV/kjNNLct45Ex8+/dLGPnlnV17KJZHBQZFzzynK6XNLCXbO1HEIIIbi0LI1FjFkK4843ZBdHFq2xiKGbOURpxvEUBxajA2ZAGLIMT3EkCNAI+WIISNBKNpADCmgJVBybDgnf3m+IEePvj95dI7QkvOL4642XnZvbOmTN96sea+9iOTyIh+5dkQKzZuPErgapmxHADHUjpDd7yMX7GbTrjOya0fI7vcRQ3azadcZYqgdIb7fLQQQQ45JIoYcARopRwwZCULRBmJIAS2Bklde75Otb9fLnGiZa68elamDJ3cONX7Gyy4STHv35ZrGL79iVGbNbD1XApfElBMQQAyFe3sgF8guXALhdo4YCjc7xFC42dF5PAKIoXi8mkYjhhwBGilHDBkJQtEGYkgBLYGS9S8UZM/eZplz5bKizJnd+hGw8bIbby7EUALBKadEDCnBGShDDBkIQdkC2SnBGShDDBkIQdkCYkgJjrLgCPSkGFr3/Cb5zBfXVMJatnSxfH/Nl2TWjOktw6sdGw245WMr5JtfuV0GBiZVxiOGgrvnWzaMGAo3R8SQjexe2FCQd3e22OVz5ajMmhFvx9Cbb/XJa2/U7z7qK4jceO2I9DVvSrIBoMe6QAyFGzhygezCJRBu54ihcLNDDIWbHZ3HI9BzYmjz1h2yas0DsnrlHbJ40QJ5+NEnZO36DXWypxZh9P0zz5gryy9bIsPDJ+Qb33lQ5s+dLXd99jbEULx7zfRoxJDpeCZsDjFkI7udu/Py/Ev1rw+bNq0sH1o+Om6DE2W36bWTh08XR0Wiec49uySnjbPzyAaB3uoCMRRu3oghsguXQLidI4bCzQ4xFG52dB6PQM+JoUj0bNm2c0zsNIqidvgaRRI7htoRC+P7iKEwcmrVJWLITna7dudl156cjBRzlXOFFi0syeRJ458JRHZ2sovbCWIoLjE74xFDdrKI2wnZxSVmZzxiyE4WcTtBDMUlxvhQCfScGLrvxw9Vsqru+Nk/dEjuXHm/3PX5T1V2BbX7NNYjhtoRC+P7iKEwckIMhZsT2XVXdoihcPNELpBduATC7RwxFG52iKFws6PzeAR6UgydvXCe3HrzDRVSccRQdN7QfT/8Zd2ZREeOHBkjnsvlZMqUKXK09n3N8fJgdEYEIjE0MDBAdhnxd1k2yi76TfvYsWMu01CbAQGyywC6pyWjXy+jHV/Dw8NSLBY9zco0aRAoFAqV7I4fP57GcqzhkQDZeYSZ8lSRkI1+z+PnLmXwHpaLsov+jnfixAkPs2U7xdSpU7NtgNVNE+hJMRQlEnfHUCSFVq3+ifzo3i9XziaqfkZH68/PiH7Tbvya6TuA5sYIRH9Q5i844d0Q0W/W0R+2yC797A4dFnl7u8ixYZHJk0TOOF1k1szO+yC7zllZGxn9ehnlF/3clcvjPy5orW/6kUpu/JoZ5p1AdmHmFnUdZRf9Uyq1fktnuFfW/Z1Hv15Gn27ILvp7Kh8IjEeg58SQ5oyh8aRQBJVHybrjh4tHycLNkXNqssnuxIjIU3/sl5GR+vWvWT4q06d1JgrILpvsfKzKo2Q+KGYzB4+SZcPdx6pk54NiNnPwKFk23H2syqNkPigyRwgEek4MtXsrWSSOHvrV42OPi7V6fKw2WMRQCLd5+x4RQ+0ZWR2BXMgmme3v5uXljfVvIYs6Ofeckpx7dmePFpFdNtn5WBUx5INiNnMgF7Lh7mNVsvNBMZs5EEPZcPexKmLIB0XmCIFAz4mhKJRI9nzmi2sq+SxburjuzKBGMRQdNv3Tnz9Sl+WCebPHHilDDIVwm7fvETHUnpHVEciFbJLZui0vr7zWLIYWnVmSC89DDGWTSnqrIobSY+17JeSCb6LpzUd26bH2vRJiyDfR9OZDDKXHmpWyJdCTYsgncsSQT5rZzYUYyo6968qIIVeCuvpde/Ly3IvNYmjpBUU584zOzlAgOx17C1WIIQsp6HpALui4WagiOwsp6HpADOm4WahCDFlIgR7SIIAYcqSMGHIEaKQcMWQkCEUbyAUFNE8lz75UkN27c2OzzZxZluWXj0ru/S9NuFKc7HbuzsvefTkplqRyhtHZZ3YmnzxdKtM0EEAMhXtLIBfILlwC4XaOGAo3O8RQuNnReTwCiKF4vJpGI4YcARopRwwZCULRRhy5oJiekjYEDgzl5PiJnPT3l+XUmZ0dOl2dstPstu3Iy4ZX6ncnnTanLFdcWv9WSMJKjwBiKD3WvldCDPkmmt58ZJcea98rIYZ8E01vPsRQeqxZKVsCiCFH/oghR4BGyhFDRoJQtNGpXFBMTUnCBDrNbt1zBdm/v3kb0vXXjMqUgXgyKuFL6pnpEUPhRo1cILtwCYTbOWIo3OwQQ+FmR+fxCCCG4vFqGo0YcgRopBwxZCQIRRudygXF1JQkTKDT7J5e1y+HDzc3c83y0cpjZXzSJ4AYSp+5rxURQ75Ipj8P2aXP3NeKiCFfJNOfBzGUPnNWzIYAYsiRO2LIEaCRcsSQkSAUbXQqFxRTU5IwgU6ze+6lguyqOcuo2tZHrh+R/kLCTTJ9SwKIoXBvDOQC2YVLINzOEUPhZocYCjc7Oo9HADEUj1fTaMSQI0Aj5YghI0Eo2uhULiimpiRhAp1mt/9ATta/WJBizZFC5ywqyfmLiwl3yPTjEUAMhXtvIIbILlwC4XaOGAo3O8RQuNnReTwCiKF4vBBDjrysliOGrCbTvq9O5UL7mRiRNoE42Y2MiOw7kJdSSWTa1DKPkKUdVsN6iKGMA3BYHjHkAC/jUrLLOACH5RFDDvAyLkUMZRwAy6dGADHkiJodQ44AjZQjhowEoWgjjlxQTE9JggTILkG4CU+NGEoYcILTIxcShJvw1GSXMOAEp0cMtYd76EhO9u7Ny2hRZOpgWU6fV2pflMIIxFAKkFnCBAHEkGMMiCFHgEbKEUNGglC0gVxQQDNSQnZGglC0gRhSQDNSglwwEoSiDbJTQDNSghiaOIi9+3Pyl+fqDw2ce1pZLr+k5hnyjLJEDGUEnmVTJ4AYckSOGHIEaKQcMWQkCEUbyAUFNCMlZGckCEUbiCEFNCMlyAUjQSjaIDsFNCMliKGJg3hhQ0He3ZlrGvShq0Yrj49n+UEMZUmftdMkgBhypI0YcgRopBwxZCQIRRvIBQU0IyVkZyQIRRuIIQU0IyXIBSNBKNogOwU0IyWIoYmDWPdcQfbvbxZDH7xiVE6diRjydRvPmDHD11TM04UEEEOOoSKGHAEaKUcMGQlC0QZyQQHNSAnZGQlC0QZiSAHNSAlywUgQijbITgHNSAliaOIgXtzQJ+/szDcNuvbq0cp5Q1l+2DGUJX3WTpMAYsiRNmLIEaCRcsSQkSAUbSAXFNCMlJCdkSAUbSCGFNCMlCAXjAShaIPsFNCMlCCGJg5i3/6c/LnhjKF5c8ty2cWcMeTzFmbHkE+a3TcXYsgxU8SQI0Aj5YghI0Eo2kAuKKAZKSE7I0Eo2kAMKaAZKUEuGAlC0QbZKaAZKUEMtQ/iyNGc7NmXk2IxV9klNO803krWnlq8EYiheLx6bTRiyDFxxJAjQCPliCEjQSjaQC4ooBkpITsjQSjaQAwpoBkpQS4YCULRBtkpoBkpQQwZCULRBo+SKaBREiQBxJBjbIghR4BGyhFDRoJQtIFcUEAzUkJ2RoJQtIEYUkAzUoJcMBKEog2yU0AzUoIYMhKEog3EkAIaJUESQAw5xoYYcgRopBwxZCQIRRvIBQU0IyVkZyQIRRuIIQU0IyXIBSNBKNogOwU0IyWIISNBKNpADCmgURIkAcSQY2yIIUeARsoRQ0aCULSBXFBAM1JCdkaCULSBGFJAM1KCXDAShKINslNAM1KCGDIShKINxJACGiVBEkAMOcaGGHIEaKQcMWQkCEUbyAUFNCMlZGckCEUbiCEFNCMlyAUjQSjaIDsFNCMliCEjQSjaQAwpoFESJAHEkGNsiCFHgEbKEUNGglC0gVxQQDNSQnZGglC0gRhSQDNSglwwEoSiDbJTQDNSghgyEoSiDcSQAholQRJADDnGhhhyBGikHDFkJAhFG8gFBTQjJWRnJAhFG4ghBTQjJcgFI0Eo2iA7BTQjJYihZIPYtiMvb23vk+FhkUmTRM5cUJRFZ/p53T1iKNnsmN0OAScxNDx8Qr7xnQflkcfWVq7oW3ffLrfefMPY1W3eukO+/YNfyOqv3SGzZky3c9UeO0EMeYSZ4VSIoQzhOy6NXHAEmGE52WUI33FpxJAjwAzLkQsZwndcmuwcAWZYjhhKDv7QoZz88c+FpgWuvKwoc051l0OIoeSyY2ZbBJzE0MOPPiFbtu2Uuz57m1Ql0fy5syv/Hn0QQ7bCppvxCSCGwr07kAtkFy6BcDtHDIWbHXKB7MIlEG7niKH67PYfyMmJkZwMTC7LjFPKTsFu3ZaXV17ra5pj8dklOe+cotPcUTFiyBkhEwRCQC2GqiLotk/cKMsvW1K53OrXVlx5UWXnEGIokLuANgUxFO5NgBgiu3AJhNs5Yijc7BBDZBcugXA7RwydzK5cFln3XEEOHMiNhTn3tLJcfsmoOtytb+flldebxdA5i0py/mLEUC3YGTNmqDlT2P0E1GJo/9AhWXXPA/LVL3xaFi9aMEYq+vqdK++Xuz7/KZk98xQeJev+e6grrhAxFG6MiCGyC5dAuJ0jhsLNDjFEduESCLdzxNDJ7N7enpeNrzZLnCsuLcppc3SPfUW7j9Y92/wo2eWXFGXuabo5a+80dgyF+3NH5/EIOImhqgCq7hiqLh3tFFq15gH5Pz79N/Lf/+cfOGMoXiaMzoAAYigD6J6WRAx5ApnBNGSXAXRPSyKGPIHMYBrEUAbQPS1Jdp5AZjANYugk9GhnT7TDp/Fz4flFWbRQL3He2HJy3tFRkXyfyFlnlOSCc913C0V9IoYy+IFhyUwIqMVQ42Njjd1H5w99/d4HZdnSxfL9NV/i8OlM4mXRTgkghjolZW8ccsFeJp12RHadkrI3DjFkL5NOO0IudErK3jiys5dJpx25iKFdu/Pyxta8HDmSk0JB5PR5JbnwPD/So9P+fY2LBM4bbzaLoYuXFuWM+XoxVO1vZESkv99XtyfnQQz55clsdgmoxVB0SZH8Wbt+g3zzK7fLwMCkuqusiqO3t+9CDNnNn87eI4AYCvdWQC6QXbgEwu0cMRRudsgFsguXQLida8VQtAPm8af6pdTgTCIx5Ot17GlSPXQ4J8+sq3/sq9Avct1VI5XXzFv8IIYspkJPSRBwEkMTNVQ9aygaw46hJKJjTp8EEEM+aaY7F2IoXd4+VyM7nzTTnQsxlC5vn6shhnzSTHcuskuXt8/VtGJo7/6c/OW55vNzXA9s9nltcefaP5STd3bm5cSJnAwMlGXh6SWZNtXtzWRxe4gzHjEUhxZjQybgXQyte36TfOaLaypMFsybLT+698t1h1OHDKtV70NDQ2NfzuVyMn36dDl48GC3XWbXXw9iKNyIkQtkFy6BcDtHDIWbHXKB7MIlEG7najG0Lyd/eb5ZDJ02pyxXXKp/k1e4JNPvHDGUPnNWzIaANzF0348fkp/+/JGxq/jZ91aOvcY+m0tLZ1XEUDqck14FMZQ04eTmRwwlxzbpmckuacLJzY8YSo5t0jMjhpImnNz8ZJcc26Rn1oqhEyMij/+h+dCc888tyTlnhXnOUNKsfc+PGPJNlPmsEnASQ9XHxV7YuLlyfZEMOu/sM8ZeV9/4tjKrEFz6Qgy50LNTixiyk0XcTpALcYnZGU92drKI2wliKC4xO+ORC3ayiNsJ2cUlZme8VgxFV7Dj3bxEhzYfOyaSy0dPZJTk4iVIobTSRQylRZp1siagFkPjnSFU/fpdn/8UO4ayTpf1OyaAGOoYlbmByAVzkXTcENl1jMrcQMSQuUg6bgi50DEqcwPJzlwkHTfkIoaqixSLIn19HS/ZNHDoYK5yrs+kSWWZcYrdM330V5hMJWIoGa7Mao+Asxg684y5dW8lQwxxxpC927x9R4ih9oysjkAuWE2mfV+a7I4czcmrb/TJ/gO5yn85nXNqSZaeX6y8wpdPegQQQ+mx9r0ScsE30fTmI7v0WPteyYcYculp/QsF2bM3NzYFZxR1ThMx1DkrRoZNQC2GosuufZSsetD0rJnTeZSMw6eD+6lADAUX2VjDGrkQ7tV2V+ea7P70bEEOHHj/D7cRkdPnl+TSpWyrT/PuQAylSdvvWsgFvzzTnI3s0qTtd60sxVD0KNpLG5u3Gi27uCjz55b8XmgXzoYY6sJQuaSWBJzEUO2MHD4twlvJwv0pQwyFm51GLoR7td3VedzsRkdFfvtk8yGckyaJ3HjtSHfBMX41iCHjAU3QHnKB7MIlEG7nWYqh19/sk81b8k3wzltcksWL+I8q7e4qxFA7Qny/Wwh4E0NVILWvq7/lYyvqHjPrFmi118Hh092RKmIo3BzjyoVwr7T7Oo+b3cioyO9aiKH+fpGPXIcYSvMOQQylSdvvWoghvzzTnI3s0qTtd60sxdCWt/Py6uvNO4aWnF+UsxayY6hd0oihdoT4frcQ8C6GqmDGO5y6W8BVrwMx1B2JIobCzTGuXAj3Sruvc012z/y5IIcO1T9KNve0slx+yWj3ATJ8RYghw+G0aQ25QHbhEgi38yzFUHQ231N/KojUnDcdndF33VWjMmUKh1C3u6sQQ+0I8f1uIZCYGOoWQO2uAzHUjlAY30cMhZFTqy41ciHcq+2uzjXZ7R/KyabX+sbk0KxZZbn4wqIM8ofbPqdmPAAAIABJREFUVG8OxFCquL0uhhjyijPVycguVdxeF8tSDEUXcmAoV3nt/fETOZk8uSxnzC/xZrIOE0YMdQiKYcETcBJD1cfGfva9lU2vpp/oe8FTq7kAxFB3pIkYCjdHjVwI92q7q3OX7KLzhnI5t1f3dhfNdK8GMZQub5+rIRd80kx3LrJLl7fP1bIWQz6vpdfmQgz1WuK9e71OYig6cDr63PXZ21oSbPf9bsCOGOqGFEUQQ+Hm6CIXwr3q7uic7MLNETEUbnbIBbILl0C4nSOGws0OMRRudnQej4BaDFXPELrr859q2i1UbSHaNXTfD38p31/zJZk1Y3q8zgIZjRgKJKg2bSKGws0RuUB24RIIt3PEULjZIYbILlwC4XaOGAo3O8RQuNnReTwCTmJo1T0PyFe/8GlZvGhBy1U3b90h3/7BL2T11+5ADMXLhdEpE0AMpQzc43KIIY8wU56K7FIG7nE5xJBHmClPhRhKGbjH5cjOI8yUp0IMpQzc43KIIY8wmco0AbUYGh4+Id/4zoNy2ydunHDH0EO/eryrX1nPjiHT93fHzSGGOkZlbiBywVwkHTdEdh2jMjcQMWQuko4bQi50jMrcQLIzF0nHDSGGOkZlbiBiyFwkNJQQAbUYivp5+NEnZMu2nROeMXT2wnly6803JNR+9tMihrLPwEcHiCEfFLOZA7mQDXcfq5KdD4rZzIEYyoa7j1WRCz4oZjMH2WXD3ceqiCEfFLOZAzGUDXdWTZ+Akxiq7hqK2v7mV26XgYFJlSuofv3t7bu6+nyh6FoRQ+nftEmsiBhKgmo6cyIX0uGcxCpklwTVdOZEDKXDOYlVkAtJUE1nTrJLh3MSqyCGkqCazpyIoXQ4s0r2BJzEULX9aOfQ1+99sO5qvnX37V29U6h6sYih7G9iHx0ghnxQzGYO5EI23H2sSnY+KGYzB2IoG+4+VkUu+KCYzRxklw13H6sihnxQzGYOxFA23Fk1fQJexFD6bdtZETFkJwuXThBDLvSyrUUuZMvfZXWyc6GXbS1iKFv+LqsjF1zoZVtLdtnyd1kdMeRCL9taxFC2/Fk9PQLOYui+Hz8kP/35I5WO//nvbxn3vKH0LindlRBD6fJOajXEUFJkk58XuZA846RWILukyCY/L2IoecZJrYBcSIps8vOSXfKMk1oBMZQU2eTnRQwlz5gVbBBwEkPRI2Rr128YO18okkTdfth0Y2yIIRs3smsXiCFXgtnVIxeyY++6Mtm5EsyuHjGUHXvXlZELrgSzqye77Ni7rowYciWYXT1iKDv2rJwuAbUYavW6+s1bd8i3f/ALWf21O2TWjOnpXkmCq9WeoXTLx1bUHbSNGEoQfIpTI4ZShO15KeSCZ6ApTkd2KcL2vBRiyDPQFKdDLqQI2/NSZOcZaIrTIYZShO15KcSQZ6BMZ5aAWgztHzokq+55QL76hU/L4kULKhfY6mtmr7zDxtY9v0nu++Evx96uFu2Kij53ffa2yv8ihjoEaXwYYsh4QBO0h1wgu3AJhNs5Yijc7JALZBcugXA7RwyFmx1iKNzs6DweAe9i6M6V98tdn/+ULL9sSbxOjI5ufDyuURQhhowGF7MtxFBMYIaGI4YMhRGzFbKLCczQcMSQoTBitoIYignM0HCyMxRGzFYQQzGBGRqOGDIUBq0kSgAxNAHe6uNyK668SG69+YbKyOhxuVVrHpDVK++o7JRCDCV6f6Y2OWIoNdTeF0IueEea2oRklxpq7wshhrwjTW1C5EJqqL0vRHbekaY2IWIoNdTeF0IMeUfKhEYJOImhaHfQCxs3T3hpy5YuHnsMyyiDcdsa7xylWjFULBbr6qO/6DR+LbTr7sV+c7mcRHKI7MJLP8ou+qdUKoXXfI93THbh3gDRr5fVn7tyuRzuhfRg5/zchRs62ZFduATC7Tz6/S76dMOfM6O/p/KBwHgE1GKoF5B2smOoFzhwjRCAAAQgAAEIQAACEIAABCAAAQh0JwHEUJtc250xdPjw4bEZov+SMzg4KEeOHOnOu6WLryrKbsqUKXL06NEuvsruvLTov+QMDAyQXYDxkl2Aob3XcvR7XZRf9GtmN/xX1HCTiN95oVCQ6J/h4eH4xVRkSoDsMsXvtHj0GGD0a+bx48ed5qE4fQJRdtHfE06cOJH+4p5XjB4D5wOB8QgghtrcG7yVrDd+eDhjKNycOaeG7MIlEG7nnDEUbnacU0N24RIIt3POGAo3O84YCjc7Oo9HADHUAa+HH31Cvn7vg5WRt3xshXzzK7fLwMCkyr9z+HQHAAMYghgKIKRxWkQMkV24BMLtHDEUbnaIIbILl0C4nSOGws0OMRRudnQejwBiKB6vptGIIUeARsoRQ0aCULSBGFJAM1JCdkaCULSBGFJAM1KCGDIShKINslNAM1KCGDIShKINxJACGiVBEkAMOcaGGHIEaKQcMWQkCEUbyAUFNCMlZGckCEUbiCEFNCMlyAUjQSjaIDsFNCMliCEjQSjaQAwpoFESJAHEkGNsiCFHgEbKEUNGglC0gVxQQDNSQnZGglC0gRhSQDNSglwwEoSiDbJTQDNSghgyEoSiDcSQAholQRJADDnGhhhyBGikHDFkJAhFG8gFBTQjJWRnJAhFG4ghBTQjJcgFI0Eo2iA7BTQjJT0lhl76i8jO7SLFosis2SJLlolMn2kkifhtIIbiM6MiTAKIIcfcEEOOAI2UI4aMBKFoA7mggGakhOyMBKFoAzGkgGakBLlgJAhFG2SngGakpGfE0IZnpfzGxjrquVNmiXz4b4wkEb8NxFB8ZlSESQAx5JgbYsgRoJFyxJCRIBRtIBcU0IyUkJ2RIBRtIIYU0IyUIBeMBKFog+wU0IyU9IwYevxRKR860EQ9d9P/LjI4zUga8dpADMXjxehwCSCGHLNDDDkCNFKOGDIShKIN5IICmpESsjMShKINxJACmpES5IKRIBRtkJ0CmpGSnhFDv/0fUj5ysFkMffQTIlOnG0kjXhuIoXi8GB0uAcSQY3aIIUeARsoRQ0aCULSBXFBAM1JCdkaCULSBGFJAM1KCXDAShKINslNAM1LSM2LouWek/PabddRzkwdE/upWI0nEbwMxFJ8ZFWESQAw55oYYcgRopBwxZCQIRRvIBQU0IyVkZyQIRRuIIQU0IyXIBSNBKNogOwU0IyU9I4aGj4qsf1rKe3dVyOemDIpc/AGR0880kkT8NhBD8ZlRESYBxJBjboghR4BGyhFDRoJQtIFcUEAzUkJ2RoJQtIEYUkAzUoJcMBKEog2yU0AzUtIzYqjKe+NzInt2ihQKIrPmiCy5rHUSIyMiRw+JFPrNPmqGGDLyQ0QbiRNADDkiRgw5AjRSjhgyEoSiDeSCApqRErIzEoSiDcSQApqREuSCkSAUbZCdApqRkq4XQ0cPi5TLJ+XOy+ulvHlTHfncgrNEPnBdfRqvvSzlTc+PfS136mkiyz8sMmlSc2rR3LvfFSmOnlzjlJmpJYsYSg01C2VMADHkGABiyBGgkXLEkJEgFG0gFxTQjJSQnZEgFG0ghhTQjJQgF4wEoWiD7BTQjJR0rRjat0fk+bVSPnzywOnclKkn30oW7QBq+ORu+TuRfP7kV48dlfJj/715zLlLRS66ov7rh4ZE1v5OytFjau99couXiFx8ZSrpIoZSwcwiBggghhxDQAw5AjRSjhgyEoSiDeSCApqRErIzEoSiDcSQApqREuSCkSAUbZCdApqRkq4VQ08/Nnae0Bjqt98QOfPcZunz138r0v/ebqDd70p57W+bx5w2X2TFR+u//vwfpfzWG81jb/qkyODUxBNGDCWOmAWMEEAMOQaBGHIEaKQcMWQkCEUbyAUFNCMlZGckCEUbiCEFNCMlyAUjQSjaIDsFNCMl3SqGyo/8vyKlUj3lSOIsPOf93UHv7SSSj33y/XH7dkv5qf9slj3zF4osv6H+663kUzTnNTeJzJmXSMKvvtEn+w7kKk/HnTanIEvOFxkdGU5krTQnnTFjRprLsVZgBBBDjoEhhhwBGilHDBkJQtEGckEBzUgJ2RkJQtEGYkgBzUgJcsFIEIo2yE4BzUhJ14qhXz8UGZN6ykcOS27mqVIeOXHy67m85C6/+qQsqv385t+lfPRI3Zdyy64SWXRe/bh1T0j53W3NEumGvxaZcar3hDe80ifbdrz3yJuI9BUKMn+uyMUXHvO+VtoTIobSJh7Weoghx7wQQ44AjZQjhowEoWgDuaCAZqSE7IwEoWgDMaSAZqQEuWAkCEUbZKeAZqSkW8WQPPuMlLe9WS93ol0/H7xeZP+ekwdSz5jV8swhOXhA5PUNItEZQv39J19pf86FzYlt3yLl9U/XrxG96ey6v0ok3cef6pcT7zmtaIFIDOVyObnxQ0fHjkhKZOEUJkUMpQA54CUQQ47hIYYcARopRwwZCULRBnJBAc1ICdkZCULRBmJIAc1ICXLBSBCKNshOAc1ISdeKoXKp8hayyqvpIwk0e67I0itOih6fn3feFtm5XWR0VGT6KSKLl/pf471+f/Nkf+XlZ9VPVQzdsOKoFAo+Lyr9uRBD6TMPaUXEkGNaiCFHgEbKEUNGglC0gVxQQDNSQnZGglC0gRhSQDNSglwwEoSiDbJTQDNS0rViyAhfn22se64g+/fn6sTQtKkiV1/Jo2Q+OTOXPQKIIcdMEEOOAI2UI4aMBKFoA7mggGakhOyMBKFoAzGkgGakBLlgJAhFG2SngOax5NixnJwYFRmYLDJ5UjnWzIihWLgyHXxgKCcvbizIsfc80OBgQS69SGTGdMRQpsGweOIEEEOOiBFDjgCNlCOGjAShaAO5oIBmpITsjAShaAMxpIBmpAS5YCQIRRtkp4DmqeS5lwqya/f7u0jOWliSJecXO549MzEUPeq14y2R48MiA1NEFizquOdeH3jk6Mm3ks0+dVLljKHhYd5K1uv3RLdfP2LIMWHEkCNAI+WIISNBKNpALiigGSkhOyNBKNpADCmgGSlBLhgJQtEG2SmgeSh5e3teNr7a1zTT8itGZdbMznYOZSKGoreFPfm/pHx4aKz36G1hcv1fe6DSO1NMnjwZMdQ7cff0lSKGHONHDDkCNFKOGDIShKIN5IICmpESsjMShKINxJACmpES5IKRIBRtkJ0CmoeSSApFcqjxc9GFRVm4oNTRCpmIoS2vSvnFPzf1l7vimuZXx3d0Fb05CDHUm7n34lUjhhxTRww5AjRSjhgyEoSiDeSCApqRErIzEoSiDcSQApqREuSCkSAUbZCdApqHklff6JMtbzWLoUuWFmXBfMNiaONzUo5eB9/wyS29XOS8izyQEZHjx0SKJZHBqX7mMzgLYshgKLSUCAHEkCPWXhJDR4/lpFQSmTpYltz7j1k7ErRRjhiykYOmC+SChpqNGrKzkYOmC8SQhpqNGuSCjRw0XZCdhpp7zd79OfnLc/XvKc/lRa5fMSoDkw0/SrZ5k5SjV8k3iqHLrhY569zOwUTnE/VPEsnXyLHhYyLrn5Ly3l2VeXKTB0QuvlLkjLM7nzeQkYihQIKiTWcCiCFHhL0gho4N5+T5l/vk4MGTNqivT+TC84uy8PTO/iuJI+JUyhFDqWBOZBHkQiJYU5mU7FLBnMgiiKFEsKYyKXIhFcyJLEJ2iWDtaNJ3duZlx868jJw4eYbzWQuKcuqszqRQtEAmj5INH5Xy738t8v+3d+Yxcl1Xfj6vqjcuzVVcRHFfRGoxtViSaS2WxiMkgQUjgBF5gvwTQ3Fsj/8xLHsMRYAcwAE0gmJrMEDgeDweYRAgA8QKjCSOnAWejCzLMiXK2kVSlEhxF0mJ+9LNXqqCW60mu7q6Wa/Offe9c6u+AoTxkPfce973e1Vd/Pq9+4Yujh1jtSLJzH6R+74g0tXd/Ljf3y7V994RcXsVOfnjZJKTSu71xktS3b+7fo7uHkn+yT9rPm9kIxBDkQVGu2oCiCE1urHCThBDb+8sy+EP6y+hLZVFPn/PsJTa5MohxJDnG6HAcuRCgfA9lyY7T4AFliOGCoTvuTRywRNggeVkVyB8z6ULEUOu54HzIq+8IOL2G6pUJFmwWGTtxrGre670OnNKqr/5VcOIZPMdIqvWizz3rFTPXt7Uenxgct8DIv1zPWnZKkcM2cqDbsIRQAx5su0EMfTiti45d67RAH329hHpn53+tyWeqIOWI4aC4g06OXIhKN6gk5NdULxBJ0cMBcUbdHLkQlC8QScnu6B4g05emBg6e1qqzz3bKHhu3iKyYu30x3zwA6m+9vvGuvGrhp7/31I9faLx7z//RZFZ/UFZ5j05Yihv4qxXFAHEkCf5ThBDL73aJadPN4qhuz4zUttvqB1eiKF4U0QukF28BOLtHDEUb3bIBbKLl0C8nRcmhg7skerrWxsFzqoNIptvnx7oob1SffXF6et2vjF2m9mEV9I/b+w2tTZ7IYbaLFAOZ1oCiCHPk6MTxNCefWV5f0/9rWT9/VX57G0jnvTslCOG7GTRaieIoVaJ2RlPdnayaLUTxFCrxOyMRwzZyaLVTsiuVWJ2xhcnhj6Q6utTXPmzeoPIp64ghi6cl+rf//dGMXTrXSLXrBr78+2viRw9JDI6IjJvocjGT4k4OdRmL8RQmwXK4SCGQp0DnSCGHLvde8vy0XH3VLJE+mdXZN3qisyc0R5XC7njQwyFeoeEnxe5EJ5xqBXILhTZ8PMihsIzDrUCciEU2fDzkl14xqFWKEwMnTsj1X/4n42C55Y7RZY3eYLY4f0iu3eIXDg39lQyd+vZhhtCITI7L2LIbDQ0ljEBrhjyBNopYsgTk/nyThdDoxWRYx+VZGhYpK9XZMmieJ44h1ww//aatkGyizc7xFC82SEXyC5eAvF2XpgYcsjc08PcE8YunJOkp3fsUfWbbooXZs6dI4ZyBs5yhRFADHmiRwx5AjRS3sliyMmgl17tloELl8OYN68qd9wSx62CyAUjbyJFG2SngGakBDFkJAhFG4ghBTQjJWRnJAhFG4WKIUW/3iXuFrPBAZHePpGly72nK3ICxFCR9Fk7TwKIIU/aiCFPgEbKO1kM7T1Qkl3vlxuSuOnG0SiuHEIuGHkTKdogOwU0IyWIISNBKNpALiigGSkhOyNBKNroKDH04t9L9fjRS5SSOfNE7v5HIuUuBbniSxBDxWdAB/kQQAx5ckYMeQI0Ut7JYmjne2XZf7B+c3EXy6YNo7Jyuf1bypALRt5EijbITgHNSAliyEgQijaQCwpoRkrIzkgQijY6Rgwd3i/VP7zQQCi58dMiazYqyBVfghgqPgM6yIcAYsiTM2LIE2CB5SdOJXLow5IMXkykrzeRDev6pK/nbIEdFbP0VE+dc51svmFUli5GDBWTSmesihiKN2fEULzZIRfILl4C8XbeMWJo9w6puqeVTXolazeJ3HBrlAEihqKMjaYVBBBDCmgTSxBDngADlX90vCTDtY2Uq7JgfuPT085fSOR3L12+pDVJEunu6ZFPbz4v/bPb52lrafBeGEjk96901Z42Ov6aNUvkztuHJUnSzFDsGORCsfx9Vic7H3rF1iKGiuXvszpiyIdesbVkVyx/n9U7Rgwd2CPV17c2iiG32XWkTzRDDPmc+dTGRAAx5JkWYsgTYMblIyMiL7/WJefOXTYai66qyi2fqt9I2d065W6hGn+Ni6FVywdkzcrRjLuyP52TQ0ePjT+VrCrLrq5IdyS3giMX7J9f03VIdvFmhxiKNzvkAtnFSyDezjtGDI0Mi/zDs1IdnPBEk1JZkvu+IDKr33yAp84kMjycSF9fVfpnjf2iGDFkPjYazIgAYsgTJGLIE2DG5Xv3l2XX7sb9cm7dPCpXLbx8W9Tk26fGxdDyqwdk/ZrOE0MZx5DrdMiFXHFnuhjZZYoz18kQQ7niznQxxFCmOHOdjOxyxZ3pYk4MnTtfllOnL0p3d1Xmz8326vShIZFTZ0pSrUrtyveZM7KdvyUY7jG3B/ZI7XG37qlk16wS6Z/b0hR5D65URF55vUtOnb78i2X3S9IbN40ihvIOg/UKI4AY8kSPGPIEmHH59l1lOXioUQxdt3FUViy7LIaOflSSN95uvGJo47oLcvUS+/vqZIwt6umQC/HGR3bxZocYijc75ALZxUsg3s537OqTD4+VZMTtcyAic+dW5babR6Tc+JW15YP86OOSvP5OWaoTvr5uXD8qq1bwfTYtzOme0HvbLSNy9ZIecb9AHhwcTDud2XFz59oWdGbBdUhjiCHPoBFDngAzLn//g7Ls2dv4U3aqjZTf3N4lR46O/WbAfeCvXNEjG9edy7gjpgtNALkQmnC4+ckuHNvQMyOGQhMONz9iKBzb0DOTXWjCYeY/cTKR197qlaR0WQy5la5dPyqrM5A3bguFU6fqN4Xs6hb5/N1jEopXcwLvvFuWQ4cb//1ww6ZRWbu6GzHUHCEj2oAAYsgzRMSQJ8CMy8+cS2TrtvrNcfpmiNx1x/CUv5Vxm1BfHHKbVJdkyeKZcvZs5z2VLOMIcp8OuZA78swWJLvMUOY+EWIod+SZLYhcyAxl7hORXe7IM1nw4OGSvPt+T4MYWr6sItdv9N++4LnfdYu7lWzy6947R6S3t8BbyjKhl88k7+4uy779U/9iedUKxFA+KbBK0QQQQ54JIIY8AQYoP332k42UnfDpE3E/eN3Tya70KpVKMmvWLMRQgDxCT4lcCE043PxkF45t6JkRQ6EJh5sfuRCObeiZyS404TDzHzlWknd2Noqh1Ssrcu06fzH0u5e75fz5xt7/+HPDUr68a0KYg2uTWU+eSmTba/W/WO7pEbl7y7DMmtnLFUNtkjOHcWUCiCHPMwQx5AnQSDliyEgQijaQCwpoRkrIzkgQijYQQwpoRkqQC0aCULRBdgpoBkpGRkV+/0qfDA/X30p2x60jMi+DTagnP1DFHfLVSyvyqev8pZMBfLm18PHxkhw5lsjQcCIzZlRre5POnlVl8+ncEmChogkghjwTQAx5AjRSjhgyEoSiDeSCApqRErIzEoSiDcSQApqREuSCkSAUbZCdApqRkqHhHjn0oXvq1ZD09FRl6eKKLJx/+Wp291CUE6eS2lPF5vRXZfnVrW0cfehISU6eTKRSTWRuf4WNpzPMncfVZwiTqUwTQAx5xoMY8gRopBwxZCQIRRvIBQU0IyVkZyQIRRuIIQU0IyXIBSNBKNogOwU0IyXucfXuZ97AwEBDR3v3l2XX7vr9ba5ZVpEbMth/yMjhR90GYijq+Gi+BQKIoRZgTTUUMeQJcJry9/aUxd2T7S6/nT2zKmtWVeSqBa399qSVzhBDrdCyNRa5YCuPVrohu1Zo2RqLGLKVRyvdIBdaoWVrLNnZyqOVbq4khqbbI+j+e4ellMHj7Fvpk7GNBBBDnBWdQgAx5Jk0YsgT4BTl+w+WZOd79bvllbtE7rsz3CZ6iKHsc8xrRuRCXqSzX4fssmea14yIobxIZ78OciF7pnnNSHZ5kc5+nSuJIZ4qlj3vLGdEDGVJk7ksE0AMeaaDGPIEOEX56293ybGPkoa/+fTNI3X3Y2e5MmIoS5r5zoVcyJd3lquRXZY0850LMZQv7yxXQy5kSTPfucguX95ZrnYlMfTSq11y+nT99173C9E/vmc4yxaYS0kAMaQER1l0BBBDnpEhhjwBTlH+2ltd8tHHjWLo1ptGg91OhhjKPse8ZkQu5EU6+3XILnumec2IGMqLdPbrIBeyZ5rXjGSXF+ns17mSGHJbJ7z5Tv2V8uvXVmTtKp4qln0Src+IGGqdGRVxEkAMeeaGGPIEOEX5VI/ddMPuvWtEensuP8Ehy5URQ1nSzHcu5EK+vLNcjeyypJnvXIihfHlnuRpyIUua+c5FdvnyznK1K4kht87AYCKnTrunion0z67KnNlhvu9meUzquU5+LLLrbZEzJ0W6ukWuXiGy6Sb1dKELEUOhCTO/FQKIIc8kEEOeAKcpf3N7lxw5OnbVUE+PyPo1o7J8GZtPh6Ed96zIhXjzI7t4s0MMxZsdcoHs4iUQb+fNxFC8R6bo/Nf/TaoDF+oKk+tuFll/vWKy8CWIofCMWcEGgY4UQ7/41fPy2JNP1xJ44P4t8oPvPiR9fT1TJrLtjZ3ylW89cenvJo9HDIU7kUdHRdx/TgyFfnHFUGjC4eZHLoRjG3pmsgtNONz8iKFwbEPPjBgKTTjc/GQXjm3omTtODJ09LZIkIrPn1KM9dVyqv/0/DbgHZi2V85vvl57eqsztt3W1FGIo9LuD+a0Q6Dgx5ETPUz/5ufz4iW/L/Ln98tRPn6ll8fDXHpwyEyeRVlyzWG6/aZMMDg7J93/4tCxdvPDSeMSQlVPZrw/EkB+/IquRC0XS91ub7Pz4FVmNGCqSvt/ayAU/fkVWk12R9P3WzloMHThUkn0HyzI4OPYL1BXLKrLGwp5ERw+JvPGyVC8O1IAlM2eL3PJZkQWLxgCe/FiqL/zfOpgfHinJidJiObz2H9f+fNFVVbnlUyN+wDOsRgxlCJOpTBPoODHkRNDq5UvkS1/4XC2YyaKoWVpOFG19dfulq4wQQ82IxfH3iKE4cpqqS+QC2cVLIN7OEUPxZodcILt4CcTbeZZi6MzZRLa+0tUA45bNo7JoYbhtF1LRf+5ZqbqrhSa8koWLRe68f+xPRoal+r//q0h17Kqgs2cTOfZxIqevul6OX/3pS1WbbxiVpYsLPpZPukEMpUqeQW1AoKPE0PgVP1tuvf6SGNqz77A8+sTP5PFHviprVy1rGunkK4wQQ02RRTEAMRRFTFM2iRgiu3gJxNs5Yije7BBDZBcvgXg7z1IM7T9Ukp276p9i5sisWVWRDWsLfJLZyIhU/9fPG0MqlSV54E8u//n+3SI7Xpfq0EU5cTKRQ6PL5djKe6RS6r40xtJT2RBD8b7v6Lw1Ah0phh784n21W8PcqxUxNNXVRQMDY5dKjr8toqaAAAAgAElEQVT6+vpk0F3XySsqAkmSiPvgJ7uoYqs167JzX7guXrwYX/Md3jHZxXsCuM9LJ9Td+65SsfFb3Xhp5tu5k+nuv6GhoXwXZjVvAmTnjbCwCVx27jNzeHjYu4e9BxLZ8e7YA1omvtaursrG9QXuz1OpyMj/+M8NfSU9PVL+wgQxND5i4Lx8cKhbdu7ta6i5flNVVi0v8FgmdNTV1VX7rplFdt7he04wY8YMzxkob2cCbSOGnOD5+vd+JIePHm/Ia/N1a2t7Cs3o7a3tEaS5YshJoUcf/2v5qye/U3dl0cQvVu5Dw/0mji9b8b1lXHbug78dPvTjo+/Xsfui5b5wkZ0fxyKqya4I6tms6X7WjX9Rrn5yS0A2MzNLaALufef+Gxmxs4dH6GNul/nJLt4k3fcU95mZxfvu5CmRF7c1iqFP31SVpYuLZTS69R+kcnh/XROl1RukfOudUzZ27rzIb16sP5ZSSeTeO6sy04jDcNm516h7Ik7kL/eLVF4QmI5A24ihtBFr9hiaTgq5NbmVLC152+O4lcx2PlfqjlvJyC5eAvF2zq1k8WbHrWRkFy+BeDvP8lYyR+GD/WXZd6Ak7sK/ri6RFdcUfBvZeDROOO94TeTER2NPJVu4ROSGW68Y3KnTiRw+UpKLQ+7q/apcs7Qic+fYuFrINc6tZPG+7+i8NQIdJ4aaPZXMbS79zC+fu/TUsmabUyOGWjvhrI4eF0PHj5+Vox+VZGg4kb7eqixbWqn9XCviNTwiUqkk0ttj54djERyarYkYakbI7t+Tnd1smnWGGGpGyO7fI4bsZtOsM7JrRsju32cthsaP1F3E8skFLXYPPvLOEEORB0j7qQl0nBhyZJz8eezJp2uQHrh/y6UnjI3/3UQx5K4w+pu/e7YO6LIlCy/dUoYYSn2umR5Yuzy7PEt+/ZtBGZqwVU1/f1U+e1u+l9sPDYu8tb1Ljp8YM1J9fSIb14/KkkXs4zHVSYRcMP3WumJzZBdvdoiheLNDLpBdvATi7TyUGIqXSDydI4biyYpO/Qh0pBjyQ1ZfjRjKkmZxczkx9OGxWfLGW40bh+f9yMzt75bl4OFSHYzuHpE/ust/w8LiCIdbGbkQjm3omckuNOFw8yOGwrENPTNiKDThcPOTXTi2oWdGDIUmHG5+xFA4tsxsiwBiyDMPxJAnQCPlTgx9cGCmvLur8clWmzaMysrl+V2t8+K2Ljl3rvH+tTvvGJHZs7itbPIpg1ww8iZStEF2CmhGShBDRoJQtIFcUEAzUkJ2RoJQtIEYUkAzUoIYMhIEbQQngBjyRIwY8gRopNzSFUNbX+mSM2cbxdBdnxmRWTMRQ4ghI2+aDNpADGUAsaApEEMFgc9gWeRCBhALmoLsCgKfwbKIoQwgFjCF20u7u7tXensTGRxsvKuggJa8lpw7d65XPcXtTQAx5JkvYsgToJFyS3sMvbenLB/sq7+VbNYskbvu4FayqU4X5IKRN5GiDbJTQDNSghgyEoSiDeSCApqRErIzEoSiDcSQAlqBJUNDiby1o1zb77Pc1SWzZoqsXXVRFl+V3x0EIQ4fMRSCavvMiRjyzBIx5AnQSLm1p5LtfK8sx46XpDIqMqe/KuvXjNb+L69GAsiFeM8Ksos3O8RQvNkhF8guXgLxdo4Yiiu7t3eW5fCHY7+kdWIoSRIpl4bl3jvj/iUtYiiu8zDvbhFDnsQRQ54AjZSPi6GzZ88a6Yg20hJALqQlZW8c2dnLJG1HiKG0pOyNQwzZyyRtR2SXlpS9cbGKoVOnE7k4lEhPd1Xmz+ucX1D+7uVuOX9+7DwaF0Mjw8Ny95YRmTkjXg6IIXufDZY6Qgx5poEY8gRopBwxZCQIRRvIBQU0IyVkZyQIRRuIIQU0IyXIBSNBKNogOwU0IyUxiqFX3+ySj49f3vNy/vyq3H7ziBGiYdt4cVu3nDvXKIbu+eyIzOhDDIWlz+xFEUAMeZJHDHkCNFIeQgy5DaTPnkskSUTmz63KjIh/w2AkpinbQC5YTufKvZFdvNkhhuLNDrlAdvESiLfz2MTQ0Y9K8sbb5Qbg128aleVXx73PTpqz6N33y7LvQP2tZH29Q3Ln7XGLMa4YSpN+545BDHlmjxjyBGikPGsxtHtvWXZ/UL+B9E03jsqSRe3/wzTvSJELeRPPbj2yy45l3jMhhvImnt16iKHsWOY9E9nlTTy79WITQx/sL8t7u+u/xzoaa1ZVZMPa0ezAGJzp9JlEBi8mNTE0cDGRUtIl8+aKrF4xKP2z471ayKFGDBk84Qy1hBjyDAMx5AnQSHnWYujXz3fXNo6e+Jo3ryp33BL3bxqMxFXXBnLBYirpeiK7dJwsjkIMWUwlXU/IhXScLI4iO4uppOspNjF08HBJtr/beMXQhnUVWbOyfcXQWzu65MMjl2+f6++vyl13lKWnh8fVpzvTGRUzAcSQZ3qIIU+ARsqzFEPutwzPv9jVcGS9vRL90wyMxIUYshiEoifEkAKakRLEkJEgFG0gFxTQjJSQnZEgFG3EJoYuXkzkhZe7ZHTi7zMTkbvuGJFZM+O+ama6+E6eTmTbq43f36/bWJYNa0UGBwcVydsq4YohW3lY6wYx5JkIYsgToJHyLMXQ6KjI3z/f3XBks2dXo7832UhciCGLQSh6QgwpoBkpQQwZCULRBnJBAc1ICdkZCULRRmxiyB2i2yfz0JGSOEnU01OVZUsqMndOe0ohd7yHj5Tk7R2NV0mtWlGWm25EDClOe0oiI4AY8gwMMeQJ0Eh5lmLIHdI7O8ty6MP6e7M3rh+VVSvYYyjryJELWRPNbz6yy4911ishhrImmt98yIX8WGe9EtllTTS/+WIUQ/nRsbHSsY9L8vpbjWJo3dqy3LARMWQjJboISQAx5EkXMeQJ0Eh51mLIHdbBD0ty9uzYU8kWzKvKYjaeDpI2ciEI1lwmJbtcMAdZBDEUBGsukyIXcsEcZBGyC4I1l0kRQ7lg9lqkWhV54aVuGRion+auz5Rk4QL2GPKCS3EUBBBDnjEhhjwBGikPIYaMHFrbt4FciDdisos3O8RQvNkhF8guXgLxdo4YiiO7gcFEDhwqifu/3d3V2tOEly3tkSRBDMWRIF36EEAM+dATEcSQJ0Aj5YghI0Eo2kAuKKAZKSE7I0Eo2kAMKaAZKUEMGQlC0QbZKaAZKUEMGQlC0UZvby9iSMGNkvgIIIY8M0MMeQI0Uo4YMhKEog3kggKakRKyMxKEog3EkAKakRLkgpEgFG2QnQKakRLEkJEgFG0ghhTQKImSAGLIMzbEkCdAI+WIISNBKNpALiigGSkhOyNBKNpADCmgGSlBLhgJQtEG2SmgGSlBDBkJQtEGYkgBjZIoCSCGPGNDDHkCNFKOGDIShKIN5IICmpESsjMShKINxJACmpES5IKRIBRtkJ0CmpGSdhdDgxcTOXi4JBcGEun5ZG+e+fPa49H2iCEjbyLaCE4AMeSJGDHkCdBIOWLISBCKNpALCmhGSsjOSBCKNhBDCmhGSpALRoJQtEF2CmhGStpZDLmnef3u5W65cKEe9u23jsj8ufHLIcSQkTcRbQQngBjyRIwY8gRopBwxZCQIRRvIBQU0IyVkZyQIRRuIIQU0IyXIBSNBKNogOwU0IyXtLIaOfVyS198qN5BetaIiG9ePGklA3wZiSM+OyrgIIIY880IMeQI0Up5GDLnfiJw7n0iSiMyeFf9vQIyg924DueCNsLAJyK4w9N4LI4a8ERY2AXKhMPTeC5OdN8LCJmhnMXT4SEne3tEohpYtrciN1yGGCjvpplh47ty5ltqhF2MEEEOegSCGPAEaKW8mhj48WpLtu8oyOjLW8MyZIpuvH5E5/QiioiNELhSdgH59stOzK7oSMVR0Avr1kQt6dkVXkl3RCejXb2cxdPJUItte62qAs25NRdatRgzpz5rsKxFD2TNtpxkRQ55pIoY8ARopbyaGnnuxW4Yu1je76Kqq3PKpT0yRkePoxDaQC/GmTnbxZocYijc75ALZxUsg3s7bWQy5VN7c3iVHjiaXApo9W+S2m4elpzvezMY751ay+DPkCNIRQAyl4zTtKMSQJ0Aj5VcSQ+5JC8+/2PibkN4+kXs/O2zkCDq3DeRCvNmTXbzZIYbizQ4xRHbxEoi383YXQy6ZU6cTGRhMpLtb5KoFlXjDmtQ5YqhtouRAmhBADHmeIoghT4BGyq8khoaGRZ57ofFXHu52srs/gxgqOkLkQtEJ6NcnOz27oisRQ0UnoF8fMaRnV3Ql2RWdgH79ThBDejq2KxFDtvOhu+wIIIY8WSKGPAEaKW92K9krb3TJiROXL5F1ba9eWZFr18V/77SRCNRtIBfU6AovJLvCI1A3gBhSoyu8ELlQeATqBshOja7wQsRQ4RGoG0AMqdFRGBkBxJBnYIghT4BGypuJIXfV0O4PynL6TCJJSWTWTJEF88Yuk3UbUPOUsuKCRC4Ux953ZbLzJVhcPWKoOPa+KyMXfAkWV092xbH3XRkx5EuwuHrEUHHsWTlfAoghT96IIU+ARsqbiaGJbR76sCTv7Kx/LOemDaOycnn73E9tJJZUbSAXUmEyOYjsTMaSqinEUCpMJgchF0zGkqopskuFyeQgxJDJWFI1hRhKhYlBbUAAMeQZImLIE6CR8lbE0O9e7pbz5+sb7+0VufdO9hsqIk7kQhHUs1mT7LLhWMQsiKEiqGezJnIhG45FzEJ2RVDPZk3EUDYci5gFMVQEddYsggBiyJM6YsgToJHyVsTQr3/TLZUpLg76488NS7n+QiIjR9febSAX4s2X7OLNDjEUb3bIBbKLl0C8nSOG4s0OMRRvdnTeGgHEUGu8GkYjhjwBGimfSgzt2l2Wj08kUqkkMndORdavqciMvqr85vfdcnGwvnEnhJwY4pU/AeRC/syzWpHssiKZ/zyIofyZZ7UiYigrkvnPQ3b5M89qRcRQViTznwcxlD9zViyGAGLIkztiyBOgkfLJYujd98uy70Cprrt586pyxy0j8v4HZdmzt/7vVq2oyMb1PKGsiDiRC0VQz2ZNssuGYxGzIIaKoJ7NmsiFbDgWMQvZFUE9mzURQ9lwLGIWxFAR1FmzCAKIIU/qiCFPgEbKJ4uhF17qlgsXGpu7964R6e2pyodHS3LqdCJVEZk3pyrLlrLxdFFRIheKIu+/Ltn5MyxqBsRQUeT910Uu+DMsagayK4q8/7qIIX+GRc2AGCqKPOvmTQAx5EkcMeQJ0Ej5ZDH0/O+7ZXDS7WKu1Xs+O1K7nYyXHQLIBTtZtNoJ2bVKzM54xJCdLFrtBLnQKjE748nOThatdoIYapWYnfGIITtZ0ElYAoghT76IIU+AyvJqVeTCQFLb7Lmv11/UTBZDb7zTJUePJXXd8eQxZViBy5ALgQEHnJ7sAsINPDViKDDggNMjFwLCDTw12QUGHHB6xFBAuIGnRgwFBsz0ZggghjyjQAx5AlSU7z9Ykl17ylL5ZEufBQuqcvMNI9LVpZjsk5LJYuj8hUTe2lGWM2fG5FBPr8h1G0ZlySJuGdNTDlOJXAjDNY9ZyS4PymHWQAyF4ZrHrMiFPCiHWYPswnDNY1bEUB6Uw6yBGArDlVntEUAMeWaCGPIE2GL50LDIcy90N1StWlmRjev0mz9P97j6wcFEKlWRmTP8r0pq8VAZnpIAciElKIPDyM5gKClbQgylBGVwGHLBYCgpWyK7lKAMDkMMGQwlZUuIoZSgGBY9AcSQZ4SIIU+ALZafPJXIttcaLw1aML8qt9080uJsl4dPJ4bUE1KYGwHkQm6oM1+I7DJHmtuEiKHcUGe+EHIhc6S5TUh2uaHOfCHEUOZIc5sQMZQbahYqmABiyDMAxJAnwBbLT59J5KU/NIqhqxZW5dbNiKEWcbbFcORCvDGSXbzZIYbizQ65QHbxEoi3c8RQvNkhhuLNjs5bI4AYao1Xw2jEkCdARfnzW7tlcKC+cOOGUVm1XL//D1cMKYIwUoJcMBKEog2yU0AzUoIYMhKEog3EkAKakRKyMxKEog3EkAKakRLEkJEgaCM4AcSQJ2LEkCdARfmZs4ns2VeWc+cT6SpXZfGiqqxdpd9fyLWAGFIEYaQEuWAkCEUbZKeAZqQEMWQkCEUbyAUFNCMlZGckCEUbiCEFNCMliCEjQdBGcAKIIU/EiCFPgEbKEUNGglC0gVxQQDNSQnZGglC0gRhSQDNSglwwEoSiDbJTQDNSghgyEoSiDcSQAholURJADHnGhhjyBGikHDFkJAhFG8gFBTQjJWRnJAhFG4ghBTQjJcgFI0Eo2iA7BTQjJYghI0Eo2kAMKaBREiUBxJBnbIghT4Atlo+MipRLIknSYmGT4YihbHnmORtyIU/a2a5FdtnyzHM2xFCetLNdC7mQLc88ZyO7PGlnuxZiKFueec6GGMqTNmsVSQAx5EkfMeQJMGX5kWMlef+Dsly4ICKJyNLFVdl8vf4pZJOXRQylDMLgMOSCwVBStkR2KUEZHIYYMhhKypaQCylBGRxGdgZDSdkSYiglKIPDEEMGQ6GlIAQQQ55YEUOeAFOUj1ZE/uGFbqlM2l96zeqKbFjjt+n0+PKIoRRBGB2CXDAaTIq2yC4FJKNDEENGg0nRFnIhBSSjQ8jOaDAp2kIMpYBkdAhiyGgwtJU5AcSQJ1LEkCfAFOWnTify8qtdDSPnz6/K7Tdnc9UQYihFEEaHIBeMBpOiLbJLAcnoEMSQ0WBStIVcSAHJ6BCyMxpMirYQQykgGR2CGDIaDG1lTgAx5IkUMeQJMEX56TOJvPSHRjG0YH5VbkMMpSDY3kOQC/HmS3bxZocYijc75ALZxUsg3s4RQ/FmhxiKNzs6b40AYqg1Xg2jEUOeAFOUV6siz73YLcND9YPXr6nI2tXcSpYCYVsPQS7EGy/ZxZsdYije7BBDZBcvgXg7RwzFmx1iKN7s6Lw1Aoih1nghhjx5acs/PlGS3XtLcvZcIl1lkSWLK3LdhmykkOuJW8m0yRRfh1woPgNtB2SnJVd8HWKo+Ay0HSCGtOSKryO74jPQdoAY0pIrvg4xVHwGdJAPgY4UQ7/41fPy2JNP1wg/cP8W+cF3H5K+vp6mxLe9sVO+8q0n5G//8hG5/aZNtfFcMdQUWxQDEENRxDRlk8gFsouXQLydI4bizQ65QHbxEoi3c8RQvNkhhuLNjs5bI9BxYsjJnad+8nP58RPflvlz++Wpnz5TI/bw1x68IrlxKeQGIYZaO8liGI0YspeSu4Vwx3tlOX6iJO5/z5tblWvXjUpfb7WuWcSQvezSdkR2aUnZG4cYspdJ2o4QQ2lJ2RtHdvYySdsRYigtKXvjEEP2MqGjMAQ6Tgw5EbR6+RL50hc+VyM6WRRNhXnPvsPy7//jf5HvffOfy6N//tfy8De+zBVDYc7HwmZFDBWGftqF33m3LIcOl+r+fqoNx5EL9rJL2xHZpSVlbxxiyF4maTtCLqQlZW8c2dnLJG1HiKG0pOyNQwzZy4SOwhDoKDE0ODgk3//h07Ll1usviSEnfR594mfy+CNflbWrljVQnvj38+f1yzcf+QvEUJhzsdBZEUOF4p9ycbfh+NDFxr/6/D3D0jXhIXXIBXvZpe2I7NKSsjcOMWQvk7QdIRfSkrI3juzsZZK2I8RQWlL2xiGG7GVCR2EIdKQYevCL91264udKYujk6bPy6J//TP7sT/+kJo3c/z9ZDA0MDFxKJkkScR8eg4ODYdJi1mAEyC4YWvXEv/5NSYaHG8vvv7ci3d2X/9xJPfdl+eLFKSySenUK8yBAdnlQDrOG+1nn8nPvu0qlEmYRZg1CwAlZ99/Q0KRHfQZZjUmzJEB2WdLMd66urq7aZybvu3y5Z7Gay879O2F4qi+lWSyQ4xwzZszIcTWWio1A24ghJ3i+/r0fyeGjxxsy2Hzd2tqeQjN6e1u6YuhKc47vMzT5A979RoAP/djeBlL7wHcf/O3woR8f/ak73vZ6Isc+qv+72bNE7r2zfo8hsos3cbKLNzsnY8e/KFfdJmC8oiHg/nHq/hsZGYmmZxodI0B28Z4JLjv3mTk6mt0TdeOlEVfnTsi6Vztk5/6dygsC0xFoGzGUNmLNHkPjc091xRBPJUtL3vY4biWzl8+584m8vbMsZ84kteZmzhS5bsOILFzA5tP20tJ1xK1kOm4WqriVzEIKuh64HUnHzUIV2VlIQdcDt5LpuFmo4lYyCynQQx4EOk4MNXsqmXuU/TO/fO7SU8smhoAYyuOULGYNxFC23AcHExm8KLVbvmbN9Lua4OJQUnsq2eSnkY13jFzINrs8ZyO7PGlnuxZiKFueec6GXMiTdrZrkV22PPOcDTGUJ+1s10IMZcuT2ewS6Dgx5KJw8uexJ5+upfLA/VvkB999SPr6xi6t6zQx5K5o3bOvLGfOJlIqiVy1oCIrrum8/SIQQ9l9SG3fVZaDhy4/TWzRVVW55VPhbllALmSXXd4zkV3exLNbDzGUHcu8Z0Iu5E08u/XILjuWec+EGMqbeHbrIYayY8lMtgl0pBjKMpLYbyX7wxtdcvzE2K06468N6yqyZmVn3QONGMrmXXHiZCKvvD7hkWGfTHvdxlFZsSyMcEQuZJNdEbOQXRHUs1kTMZQNxyJmQS4UQT2bNckuG45FzIIYKoJ6NmsihrLhyCz2CSCGPDOKWQwNXkzk+Rcb/xE/Z05Vtnw63BUenshV5W6/mkpVpH9WVZJ6D1abDzGkwtpQdOBQSXbsGtukb+Jr5fKKbNoQRjYiF7LJrohZyK4I6tmsiRjKhmMRsyAXiqCezZpklw3HImZBDBVBPZs1EUPZcGQW+wQQQ54ZxSyGzl9I5HcvNYoht8nv3Z+Z4jnhnqyKKD99JpE3t3fJwMDY6uUukeuvHZWrl9RfvYIYyiadw0dK8vaORjG0ZlVFNqxFDGVDuX1mQQzFmyViKN7skAtkFy+BeDtHDMWbHWIo3uzovDUCiKHWeDWMjlkMuQ19//75bqlMusNn8aKq3Hxje1wx9OqbXfLx8fpLhHr7RO79bL34QgyJfHi0JAODiXR1VWXxVdVpN3u+0lvGXYX2261dUp10Tt12y4gsmOe3CfV06yIXPD/ECiwnuwLhey6NGPIEWGA5YqhA+J5Lk50nwALLEUMFwvdcGjHkCZDyaAgghjyjilkMuUPfd7Ak7753+QqP3l6pSaG5c8L8I94TtzjxMDQk0tsj0tvbvMfnftddGz/5de9dI9Lbc7m+08WQ2xfI7Q80/nJXVn3m1hGZPas548lsT55K5MDhsgwMivR0iyxbWpEli8LsL+TWRi74vquKqye74tj7rowY8iVYXD1yoTj2viuTnS/B4uoRQ8Wx910ZMeRLkPpYCCCGPJOKXQy5w3ePAz933u2zIzJ/busiwBNh6vK3dpTlwyOXn3Z1zbKK3LDxyrcn/XZr96XbyCYu9Pl7hqVrwl10nSyGptswevXKily7LsztX6lDTzEQuZACktEhZGc0mBRtIYZSQDI6BLlgNJgUbZFdCkhGhyCGjAaToi3EUApIDGkLAoghzxjbQQx5Isil3N3m9Nb2xr1rbtk8KosWTn81yrvvl2XfgcsyyTV71cKq3Lq5/la5ThZD07FduqQqm6+3f0shciGXt2CQRcguCNZcJkUM5YI5yCLIhSBYc5mU7HLBHGQRxFAQrLlMihjKBTOLGCCAGPIMATHkCTBl+Xt7yvLBvnrB40qvXVeR1SuvfFXL7r1lOX5i7Klk8+ZUZf2a0bqrhdw8nSyGprtiaNXKimzkiqGUZyjDNAQQQxpqNmoQQzZy0HSBXNBQs1FDdjZy0HSBGNJQs1GDGLKRA12EJ4AY8mSMGPIEmLJ8z76yvL+nUQxtunZUVl7jv39NJ4shF8G217rE7Q00/iqVx/YY6p9t99bC8V6RCynfRAaHkZ3BUFK2hBhKCcrgMOSCwVBStkR2KUEZHIYYMhhKypYQQylBMSx6AoghzwgRQ54AU5a7x86/9IcJmwJ9UnfnHboNkicv2+liyPE4dKQkAwOJdH/yVLIZM+xLIdc3ciHlm8jgMLIzGErKlhBDKUEZHIZcMBhKypbILiUog8MQQwZDSdkSYiglKIZFTwAx5BkhYsgTYAvlRz8qyaEPS3JxSKSvV2T5ssoV9xdqYeqOvpWsFU4WxyIXLKaSrieyS8fJ4ijEkMVU0vWEXEjHyeIosrOYSrqeEEPpOFkchRiymAo9hSCAGPKkihjyBGiknCuGjAShaAO5oIBmpITsjAShaAMxpIBmpAS5YCQIRRtkp4BmpAQxZCQIRRuIIQU0SqIkgBjyjA0x5AnQSDliyEgQijaQCwpoRkrIzkgQijYQQwpoRkqQC0aCULRBdgpoRkoQQ0aCULSBGFJAoyRKAoghz9gQQ54AjZQjhowEoWgDuaCAZqSE7IwEoWgDMaSAZqQEuWAkCEUbZKeAZqQEMWQkCEUbiCEFNEqiJIAY8owNMeQJ0Eg5YshIEIo2kAsKaEZKyM5IEIo2EEMKaEZKkAtGglC0QXYKaEZKEENGglC0gRhSQKMkSgKIIc/YEEOeAI2UI4aMBKFoA7mggGakhOyMBKFoAzGkgGakBLlgJAhFG2SngGakBDFkJAhFG4ghBTRKoiSAGPKMDTHkCdBIOWLISBCKNpALCmhGSsjOSBCKNhBDCmhGSpALRoJQtEF2CmhGShBDRoJQtIEYUkCjJEoCiCHP2BBDngCNlCOGjAShaAO5oIBmpITsjAShaAMxpIBmpAS5YCQIRRtkp4BmpAQxZCQIRRuIIQU0SqIkgBjyjA0x5AnQSDliyEgQijaQCwpoRkrIzkgQijYQQwpoRkqQC0aCULRBdgpoRkoQQ0aCULSBGFJAoyRKAoghz9gQQ54AjZQjhowEoWgDuaCAZqSE7IwEoWgDMaSAZqQEuWAkCEUbZKeAZqQEMWQkCEUbiCEFNGUL1doAACAASURBVEqiJIAY8owNMeQJ0Eg5YshIEIo2kAsKaEZKyM5IEIo2EEMKaEZKkAtGglC0QXYKaEZKEENGglC0gRhSQKMkSgKIIc/YEEOeAI2UI4aMBKFoA7mggGakhOyMBKFoAzGkgGakBLlgJAhFG2SngGakBDFkJAhFG4ghBTRKoiSAGPKMDTHkCdBIOWLISBCKNpALCmhGSsjOSBCKNhBDCmhGSpALRoJQtEF2CmhGShBDRoJQtIEYUkCjJEoCiCHP2BBDngCNlCOGjAShaAO5oIBmpITsjAShaAMxpIBmpAS5YCQIRRtkp4BmpAQxZCQIRRuIIQU0SqIkgBjyjA0x5AnQSDliyEgQijaQCwpoRkrIzkgQijYQQwpoRkqQC0aCULRBdgpoRkoQQ0aCULSBGFJAoyRKAoghz9gQQ54AjZQjhowEoWgDuaCAZqSE7IwEoWgDMaSAZqQEuWAkCEUbZKeAZqQEMWQkCEUbiCEFNEqiJIAY8owNMeQJ0Eg5YshIEIo2kAsKaEZKyM5IEIo2EEMKaEZKkAtGglC0QXYKaEZKEENGglC0gRhSQKMkSgKIIc/YEEOeAI2UI4aMBKFoA7mggGakhOyMBKFoAzGkgGakBLlgJAhFG2SngGakBDFkJAhFG4ghBTRKoiSAGPKMDTHkCdBIOWLISBCKNpALCmhGSsjOSBCKNhBDCmhGSpALRoJQtEF2CmhGShBDRoJQtIEYUkCjJEoCiCHP2BBDngCNlCOGjAShaAO5oIBmpITsjAShaAMxpIBmpAS5YCQIRRtkp4BmpAQxZCQIRRuIIQU0SqIkgBjyjA0x5AnQSDliyEgQijaQCwpoRkrIzkgQijYQQwpoRkqQC0aCULRBdgpoRkoQQ0aCULSBGFJAoyRKAoghz9gQQ54AjZQjhowEoWgDuaCAZqSE7IwEoWgDMaSAZqQEuWAkCEUbZKeAZqQEMWQkCEUbiCEFNEqiJIAY8owNMeQJ0Eg5YshIEIo2kAsKaEZKyM5IEIo2EEMKaEZKkAtGglC0QXYKaEZKEENGglC0gRhSQKMkSgKIIc/YEEOeAI2U+4qhQ0dKcuJkSSoVkTmzq7Jm1aiRI2v/NpAL8WZMdvFmhxiKNzvkAtnFSyDezhFD8WaHGIo3OzpvjQBiqDVeDaMRQ54AjZT7iKG9+8uya3ep7kgWL6rKzTeOGDm69m4DuRBvvmQXb3aIoXizQwyRXbwE4u0cMRRvdoiheLOj89YIIIZa44UY8uRltdxHDP3+lS45ezZpOLT77h6Wnm6rR9w+fSEX4s2S7OLNDjEUb3aIIbKLl0C8nSOG4s0OMRRvdnTeGgHEUGu8EEOevKyW+4ih327tloGBxiO7e8uIzJxRtXrIbdMXciHeKMku3uwQQ/Fmhxgiu3gJxNs5Yije7BBD8WZH560RQAy1xgsx5MnLarmPGPrDm11y/Hj9FUOlssgf3zMsSeOFRFYRRNsXciHa6ITs4s0OMRRvdoghsouXQLydI4bizQ4xFG92dN4aAcRQa7wQQ5688i4/cqwk584nUi6LLFxQqW0MPdXLRwydOJnIa293yeiELYWuXTcqq1dW8j7cjlwPuRBv7GQXb3aIoXizQwyRXbwE4u0cMRRvdoiheLOj89YIIIZa44UY8uSVZ/mb27vkyNH6S3Zu+dSoLLqqUdj4iCF3TCMjIqdOl6RSFZk9q8otZDkGjVzIEXbGS5FdxkBznA4xlCPsjJdCDGUMNMfpyC5H2BkvhRjKGGiO0yGGcoTNUoUSQAx54uepZJ4AA5UPDCby2993Ncy+aFFVbpniaWG+YkhzGCdOJTI8nEhfX1Xm9uezF9HhIyU5cKgkgxcT6e2pyjXLKrJiWdxXNiEXNGefjRqys5GDpgvEkIaajRrkgo0cNF2QnYaajRrEkI0cNF0ghjTUqImRAGLIMzXEkCfAQOWnzyTy0h8axdCcOVXZ8unGx8jnKYZGR0W2vd4lZ85cvppp6ZKqbL4+7OPtz5xNZOsrjUxuu2VEFszLR0yFiBu5EIJqPnOSXT6cQ6yCGApBNZ85kQv5cA6xCtmFoJrPnIihfDiHWAUxFIIqc1okgBjyTAUx5AkwUPl0VwwtXlSVmwu+YmjvgbLser/UcOSfvnlEFs4PJ2j2HSzJu++VG9Zdt6Yi61aPBkoi/LTIhfCMQ61AdqHIhp8XMRSecagVkAuhyIafl+zCMw61AmIoFNnw8yKGwjNmBRsEEEOeOSCGPAEGLH97R1ncrVMTX7duHpWrFma/x1Arh7H93bIcPNwohq7fOCrLA97WtfdASXa93yiG1q6uyPo1iKFWMmRsNgQQQ9lwLGIWxFAR1LNZE7mQDcciZiG7IqhnsyZiKBuORcyCGCqCOmsWQQAx5EkdMeQJMHD5sY9Kcu6CeypZtXY1jtsYeqpXnreS7dpdlr37G8XQ5htGZenicPv9HD+ZyB9eb7yV7KYbR2XJonDrBo6YR56HBhxwfsRQQLiBp0YMBQYccHrkQkC4gacmu8CAA06PGAoIN/DUiKHAgJneDAHEkGcUiCFPgEbK8xRDp04n8vKr9YKmt1fk7s8MS7nxgp5MCe3a84mU+sSPrVxekU0b4r1ayMFBLmR6iuQ6GdnlijvTxRBDmeLMdTLkQq64M12M7DLFmetkiKFccWe6GGIoU5xMZpgAYsgzHMSQJ0Aj5XmKIXfIJ04mcuRYSYaGE5nRV63dQjZrZrj9hSZirlZFLg4l0tNdlVLjhUtGEknfBnIhPStrI8nOWiLp+0EMpWdlbSRywVoi6fshu/SsrI1EDFlLJH0/iKH0rBgZNwHEkGd+iCFPgEbK8xZDRg67LdpALsQbI9nFmx1iKN7skAtkFy+BeDtHDMWbHWIo3uzovDUCiKHWeDWMRgx5AjRSjhgyEoSiDeSCApqRErIzEoSiDcSQApqREsSQkSAUbZCdApqREsSQkSAUbSCGFNAoiZIAYsgzNsSQJ0Aj5YghI0Eo2kAuKKAZKSE7I0Eo2kAMKaAZKUEuGAlC0QbZKaAZKUEMGQlC0QZiSAGNkigJIIY8Y0MMeQI0Uo4YMhKEog3kggKakRKyMxKEog3EkAKakRLkgpEgFG2QnQKakRLEkJEgFG0ghhTQKImSQEeKoV/86nl57Mmna4E9cP8W+cF3H5K+vp5pAxwcHJLv//BpefbXW2tj/t33HpIvfeFztf+NGIryvG9oGjEUb47IBbKLl0C8nSOG4s0OuUB28RKIt3PEULzZIYbizY7OWyPQcWJo2xs75amf/Fx+/MS3Zf7cfnnqp8/UiD38tQenJDcuhbbcev0lGTRxIGKotRPO6mjEkNVkmveFGGrOyOoIsrOaTPO+EEPNGVkdgRiymkzzvsiuOSOrIxBDVpNp3hdiqDkjRrQHgY4TQ04ErV6+5JLkmSyKJsfqri7ae/DotOIIMdQebwTEULw5IhfILl4C8XaOGIo3O+QC2cVLIN7OEUPxZocYijc7Om+NQEeJoamu/tmz77A8+sTP5PFHviprVy1roOdE0t/83bOX/nzZkoXyV09+59JYxFBrJ5zV0Yghq8k07wsx1JyR1RFkZzWZ5n0hhpozsjoCMWQ1meZ9kV1zRlZHIIasJtO8L8RQc0aMaA8CHSmGHvzifXL7TZtqCV5JDI2LpInj3RVEz/zyuUu3og0ODtadCe7D4+LFi+1xdnTQUSRJIu6HNtnFF7qTel1dXTI0NBRf8x3eMdnFewK4z0uXn3vfVSqVeA+kAzt3QtZlNzw83IFHH/chk128+ZFdvNm575juNTIyEu9BfNJ5X19f9MfAAYQj0DZiyAmer3/vR3L46PEGWpuvW1sTOTN6e2ubSE/cL6hVMXTy9Fn55iN/IQ9/48s1uTRRJCAXwp2ooWd22bnfxCEXQpPOfn6yy55pXjOSXV6ks1/HfV6OywXEUPZ8Q87ocnP/SEUMhaQcZm6yC8M1j1nde879zGsHuZAHL0trtFN27gIGXhCYjkDbiKG0Ebe6x9Dk8U4MPfrnP5M/+9M/qd1Oxq1kacnbHsetZLbzuVJ33I5EdvESiLdzbiWLNztuRyK7eAnE2zm3ksWbHbeSxZsdnbdGoOPEULOnkk2+VcyNf/Txv760r5D7+62vbr/0iHvEUGsnnNXRiCGryTTvCzHUnJHVEWRnNZnmfSGGmjOyOgIxZDWZ5n2RXXNGVkcghqwm07wvxFBzRoxoDwIdJ4ZcbE7uPPbk07UEH7h/yyXJM/53E/cQmjx+/LY096h790IMtccbwZIY+mB/WU6cTKQqIvPmVGX9mtH2gBzoKJALgcDmMC3Z5QA50BKIoUBgc5gWuZAD5EBLkF0gsDlMixjKAXKgJRBDgcAyrTkCHSmGskwBMZQlzeLmsiKG3n2/LPsOlOpALF1Slc3Xx7/hXah0kQuhyIafl+zCMw61AmIoFNnw8yIXwjMOtQLZhSIbfl7EUHjGoVZADIUiy7zWCCCGPBNBDHkCNFJuRQz95sVumeqhdvffOyylel9khFzxbSAXis9A2wHZackVX4cYKj4DbQfIBS254uvIrvgMtB0ghrTkiq9DDBWfAR3kQwAx5MkZMeQJ0Ei5FTH0/37bLVM9DfOP7hmW7rGnZfKaRAC5EO8pQXbxZocYijc75ALZxUsg3s4RQ/FmhxiKNzs6b40AYqg1Xg2jEUOeAI2UWxFDL7/WJadOJXVU+maIfG7LsBFS9tpALtjLJG1HZJeWlL1xiCF7maTtCDGUlpS9cWRnL5O0HSGG0pKyNw4xZC8TOgpDADHkyRUx5AnQSLkVMXT8RCJv7uiS4aExMElJ5MZNo3L1kooRUvbaQC7YyyRtR2SXlpS9cYghe5mk7Qi5kJaUvXFkZy+TtB0hhtKSsjcOMWQvEzoKQwAx5MkVMeQJ0Ei5FTHkcFSrIqfPjD2VrH92VbrKRiAZbQO5YDSYFG2RXQpIRocghowGk6It5EIKSEaHkJ3RYFK0hRhKAcnoEMSQ0WBoK3MCiCFPpIghT4BGyi2JISNIomkDuRBNVA2Nkl282SGG4s0OuUB28RKIt3PEULzZIYbizY7OWyOAGGqNV8NoxJAnQCPliCEjQSjaQC4ooBkpITsjQSjaQAwpoBkpQQwZCULRBtkpoBkpQQwZCULRBmJIAY2SKAkghjxjQwx5AjRSjhgyEoSiDeSCApqRErIzEoSiDcSQApqREuSCkSAUbZCdApqREsSQkSAUbSCGFNAoiZIAYsgzNsSQJ0Aj5YghI0Eo2kAuKKAZKSE7I0Eo2kAMKaAZKUEuGAlC0QbZKaAZKUEMGQlC0QZiSAGNkigJIIY8Y0MMeQI0Uo4YMhKEog3kggKakRKyMxKEog3EkAKakRLkgpEgFG2QnQKakRLEkJEgFG0ghhTQKImSAGLIMzbEkCdAI+WIISNBKNpALiigGSkhOyNBKNpADCmgGSlBLhgJQtEG2SmgGSlBDBkJQtEGYkgBjZIoCSCGPGNDDHkCNFKOGDIShKIN5IICmpESsjMShKINxJACmpES5IKRIBRtkJ0CmpESxJCRIBRtIIYU0CiJkgBiyDM2xJAnQCPliCEjQSjaQC4ooBkpITsjQSjaQAwpoBkpQS4YCULRBtkpoBkpQQwZCULRBmJIAY2SKAkghjxjQwx5AjRSjhgyEoSiDeSCApqRErIzEoSiDcSQApqREuSCkSAUbZCdApqREsSQkSAUbSCGFNAoiZIAYsgzNsSQJ0Aj5YghI0Eo2kAuKKAZKSE7I0Eo2kAMKaAZKUEuGAlC0QbZKaAZKUEMGQlC0QZiSAGNkigJIIY8Y0MMeQI0Uo4YMhKEog3kggKakRKyMxKEog3EkAKakRLkgpEgFG2QnQKakRLEkJEgFG0ghhTQKImSAGLIMzbEkCdAI+WIISNBKNpALiigGSkhOyNBKNpADCmgGSlBLhgJQtEG2SmgGSlBDBkJQtEGYkgBjZIoCSCGPGNDDHkCNFKOGDIShKIN5IICmpESsjMShKINxJACmpES5IKRIBRtkJ0CmpESxJCRIBRtIIYU0CiJkgBiyDM2xJAnQCPliCEjQSjaQC4ooBkpITsjQSjaQAwpoBkpQS4YCULRBtkpoBkpQQwZCULRBmJIAY2SKAkghjxjQwx5AjRSjhgyEoSiDeSCApqRErIzEoSiDcSQApqREuSCkSAUbZCdApqREsSQkSAUbSCGFNAoiZIAYsgzNsSQJ0Aj5YghI0Eo2kAuKKAZKSE7I0Eo2kAMKaAZKUEuGAlC0QbZKaAZKUEMGQlC0QZiSAGNkigJIIY8Y0MMeQI0Uo4YMhKEog3kggKakRKyMxKEog3EkAKakRLkgpEgFG2QnQKakRLEkJEgFG0ghhTQKImSAGLIMzbEkCdAI+WIISNBKNpALiigGSkhOyNBKNpADCmgGSlBLhgJQtEG2SmgGSlBDBkJQtEGYkgBjZIoCSCGPGNDDHkCNFKOGDIShKIN5IICmpESsjMShKINxJACmpES5IKRIBRtkJ0CmpESxJCRIBRtIIYU0CiJkgBiyDM2xJAnQCPliCEjQSjaQC4ooBkpITsjQSjaQAwpoBkpQS4YCULRBtkpoBkpQQwZCULRBmJIAY2SKAkghjxjQwx5AjRSjhgyEoSiDeSCApqRErIzEoSiDcSQApqREuSCkSAUbZCdApqREsSQkSAUbSCGFNAoiZIAYsgzNsSQJ0Aj5YghI0Eo2kAuKKAZKSE7I0Eo2kAMKaAZKUEuGAlC0QbZKaAZKUEMGQlC0QZiSAGNkigJIIY8Y0MMeQI0Uo4YMhKEog3kggKakRKyMxKEog3EkAKakRLkgpEgFG2QnQKakRLEkJEgFG0ghhTQKImSAGIoythoGgIQgAAEIAABCEAAAhCAAAQgAAEI+BNADPkzZAYIQAACEIAABCAAAQhAAAIQgAAEIBAlAcRQlLHRNAQgAAEIQAACEIAABCAAAQhAAAIQ8CeAGPJnyAwQgAAEIAABCEAAAhCAAAQgAAEIQCBKAoihQLHt2XdYvv69H8nho8drK2y+bq38+Ilvy/y5/YFWZFotgZOnz8qjf/4z+bM//RNZu2rZtNO4cd985C/kzR17Lo1ZtmSh/NWT37linbYv6vQE0maqX4FKHwLb3tgpX/nWE6k+Gyd/lvJ56kM+m9pW8stmRWZplUArGfGzrVW6xY13n4f//j/+F3n833yV75PFxXDFldNmxM82owFOaGvi56j74wfu3yI/+O5D0tfXY795OoSAggBiSAEtTYn7MDlw6Jh86Qufqw1/6qfPyJFjx/lASQMvpzGDg0Py/R8+Lc/+equkETzjX54f/saX5fabNuXUJcu0QqDVTFuZm7HZEHBfhh994mfy+CNfrQnVX/zqedn66vZpPxsnj8+mC2bREmg1P+061OkJtJoRP9v0rPOqnCjv+EVjXtRbW6fVjPjZ1hrfIka77ycrrllc+84//v1y6eKF8vDXHiyiHdaEQHACiKHgiMcWcKLoqZ/8nKuGcuLdyjJpry7hy3MrVIsdmzbTYrvszNXdF629B49e+mLV7Mtxs7/vTIrFHXWr+RXXaeeu3GpG/GyL51xJezVKPEfUfp2mzYifbfFl3+wXWfEdER1DoJ4AYiinM4IPk5xAK5ZJKxEmX26f5iojRTuUZEAgbaYZLMUULRJwV0+61/hv3Jr9o5TbclsEHHh4q/kFbofppyDQakb8bIvnNEorHeI5ovbrNG1G/GyLL/vJn63xHQEdQ+DKBBBDOZwh/FYgB8geS2glgpN9z/zyOa4C82AfqlSbaah+mPcyAffFavXyJZdus20mhiaz47bcYs8m3/yK7b4zVvfNiJ9tds+TtNLB7hG0f2fajPjZZvvc4M4P2/nQXTYEEEMtcpy4h8lUpX/7l4/U7T8z/huBxx/91+xL0yJr7fBWM9JKBG2d9rg6uW6qTRrHeUy13wLZ5H+2pM2o1asZJh+J9kt3/kTac0Xf/NqTiq2j8s2Iz09beU7shs8/u9mMd6bNSFtnn0j8HTop9Ojjf83DZuKPkiNoQgAxFPAUQQoFhJvh1Novwdq6DFtnqmkIkI3dU6PV/U8QQ7ay9M3P1tG0Zze+GfH5afe8QB7YzQYxZD8bTYdIIQ01amIlgBgKlBy3jwUCG2Da6b4ET76c3v1wcK/xJ5Kxb1SAMDKakn/YZAQywDTNnpg0+X33f57bJhvWXFN7gpl7cY9/gFBamLJZfi1MxdBABJplxM+2QOBzmBYxlANkzyWmy4ifbZ5gCyjn9rECoLNkoQQQQ4Hwux8Ajz35dMPsk281C7Q806YgMNUtZw/cv+XSY7Mn/xBno8AUUAse0izTgttj+U8IuC9bX/nWE7X/b/KtgFP9o3V8rBs/8T0K0GIIXCm/Yjpi1ckEWnmP8bPN/vkzeYNw1/G/+hcP8NhsQ9E1y4ifbYbCStmK+0XU3/zds3WjefBMSngMi5IAYijK2GgaAhCAAAQgAAEIQAACEIAABCAAAQj4E0AM+TNkBghAAAIQgAAEIAABCEAAAhCAAAQgECUBxFCUsdE0BCAAAQhAAAIQgAAEIAABCEAAAhDwJ4AY8mfIDBCAAAQgAAEIQAACEIAABCAAAQhAIEoCiKEoY6NpCEAAAhCAAAQgAAEIQAACEIAABCDgTwAx5M+QGSAAAQhAAAIQgAAEIAABCEAAAhCAQJQEEENRxkbTEIAABCAAAQhAAAIQgAAEIAABCEDAnwBiyJ8hM0AAAhCAAAQgAAEIQAACEIAABCAAgSgJIIaijI2mIQABCEAAAhCAAAQgAAEIQAACEICAPwHEkD9DZoAABCAAAQhAAAIQgAAEIAABCEAAAlESQAxFGRtNQwACEIAABCAAAQhAAAIQgAAEIAABfwKIIX+GzAABCEAAAhCAAAQgAAEIQAACEIAABKIkgBiKMjaahgAEIAABCEAAAhCAAAQgAAEIQAAC/gQQQ/4MmQECEIAABCAAAQhAAAIQgAAEIAABCERJADEUZWw0DQEIQAACEIAABCAAAQhAAAIQgAAE/AkghvwZMgMEIAABCEAAAhCAAAQgAAEIQAACEIiSAGIoythoGgIQgAAEIAABCEAAAhCAAAQgAAEI+BNADPkzZAYIQAACEIAABERkcHBIvv/Dp+XZX2+t4/HvvveQfOkLn6v7s6d++oz8zd89W/dn/+pfPCAPf+3Buj/7xa+el8eefFqm+ruJA924ra9ulx989yHp6+shDwhAAAIQgAAEIACBlAQQQylBMQwCEIAABCAAgSsTGBdDSxcvvCR49uw7LF//3o/kT//lP63JoZOnz8o3H/kLWXHN4jqJM1774Bfvk9tv2lRbaPzPTp85L2fOnpcfP/FtmT+3f1rB9MD9WxBDnKQQgAAEIAABCECgRQKIoRaBMRwCEIAABCAAgakJTCWG3Eh3ddCRY8dr0ubH/+m/X/rfza7scVLp0Sd+Jt/5xpflqZ/8XJw0mnzl0XgnXDHEWQkBCEAAAhCAAAR0BBBDOm5UQQACEIAABCAwiUAzMfTw174s3/63/+GKgmfilE727D14tHb10US5NJVQQgxxOkIAAhCAAAQgAAEdAcSQjhtVEIAABCAAAQikEEPb3tgpX/nWE/K3f/mILJw3p3Zb2eOP/utLt4tNB3H8lrOHv/Hl2tjxq4cef+SrsnbVsoYyxBCnIwQgAAEIQAACENARQAzpuFEFAQhAAAIQgMA0Ymjy5tNOCo3LnbRiyAkld/vY+L5C41cjbbn1+ilvJ0MMcTpCAAIQgAAEIAABHQHEkI4bVRCAAAQgAAEITCOGJm4+PXHI+FVAV9oraHz8VE8tc3+3+bq1U25CjRjidIQABCAAAQhAAAI6AoghHTeqIAABCEAAAhBoUQy54VfaK8hdJeRe61dfU3ty2fhtZOPLjD/hbKpb0RBDnI4QgAAEIAABCEBARwAxpONGFQQgAAEIQAACCjE03ePqndh57Mmna3sRHTh0TJ755XMNVwZNt7m1awMxxOkIAQhAAAIQgAAEdAQQQzpuVEEAAhCAAAQgoBBD4yWTbxVbtmSh/NWT35FlS66S7//waZnudjQngCZKo6luOXvg/i3yg+8+JFM9vYzQIAABCEAAAhCAAATqCSCGOCMgAAEIQAACEIAABCAAAQhAAAIQgECHEkAMdWjwHDYEIAABCEAAAhCAAAQgAAEIQAACEEAMcQ5AAAIQgAAEIAABCEAAAhCAAAQgAIEOJYAY6tDgOWwIQAACEIAABCAAAQhAAAIQgAAEIIAY4hyAAAQgAAEIQAACEIAABCAAAQhAAAIdSgAx1KHBc9gQgAAEIAABCEAAAhCAAAQgAAEIQAAxxDkAAQhAAAIQgAAEIAABCEAAAhCAAAQ6lABiqEOD57AhAAEIQAACEIAABCAAAQhAAAIQgABiiHMAAhCAAAQgAAEIQAACEIAABCAAAQh0KAHEUIcGz2FDAAIQgAAEIAABCEAAAhCAAAQgAAHEEOcABCAAAQhAAAIQgAAEIAABCEAAAhDoUAKIoQ4NnsOGAAQgAAEIQAACEIAABCAAAQhAAAKIIc4BCEAAAhCAAAQgAAEIQAACEIAABCDQoQQQQx0aPIcNAQhAAAIQgAAEIAABCEAAAhCAAAQQQ5wDEIAABCAAAQhAAAIQgAAEIAABCECgQwkghjo0eA4bAhCAAAQgAAEIQAACEIAABCAAAQgghjgHIAABCEAAAhCAAAQgAAEIQAACEIBAhxJADHVo8Bw2BCAAAQhAAAIQgAAEIAABCEAAAhBADHEOQAACEIAABCAAAQhAAAIQgAAEIACBDiWAGOrQ4DlsCEAAAhCAAAQgAAEIQAACEIAABCCAGOIcgAAEIAABCEAAAhCAAAQgAAEIQAACHUoAMdShwXPYEIAABCAAAQhAAAIQgAAEIAABCEAAMcQ5AAEIQAACEIAABCAAAQhAAAIQgAAEvkM4hwAAAdVJREFUOpQAYqhDg+ewIQABCEAAAhCAAAQgAAEIQAACEIAAYohzAAIQgAAEIAABCEAAAhCAAAQgAAEIdCgBxFCHBs9hQwACEIAABCAAAQhAAAIQgAAEIAABxBDnAAQgAAEIQAACEIAABCAAAQhAAAIQ6FACiKEODZ7DhgAEIAABCEAAAhCAAAQgAAEIQAACiCHOAQhAAAIQgAAEIAABCEAAAhCAAAQg0KEEEEMdGjyHDQEIQAACEIAABCAAAQhAAAIQgAAEEEOcAxCAAAQgAAEIQAACEIAABCAAAQhAoEMJIIY6NHgOGwIQgAAEIAABCEAAAhCAAAQgAAEIIIY4ByAAAQhAAAIQgAAEIAABCEAAAhCAQIcSQAx1aPAcNgQgAAEIQAACEIAABCAAAQhAAAIQQAxxDkAAAhCAAAQgAAEIQAACEIAABCAAgQ4lgBjq0OA5bAhAAAIQgAAEIAABCEAAAhCAAAQggBjiHIAABCAAAQhAAAIQgAAEIAABCEAAAh1KADHUocFz2BCAAAQgAAEIQAACEIAABCAAAQhAADHEOQABCEAAAhCAAAQgAAEIQAACEIAABDqUAGKoQ4PnsCEAAQhAAAIQgAAEIAABCEAAAhCAwP8HlrxfEcxIEXsAAAAASUVORK5CYII=)"
      ],
      "metadata": {
        "id": "zFRa2JyejLs4"
      }
    },
    {
      "cell_type": "code",
      "source": [],
      "metadata": {
        "id": "jwbHque1hzUj"
      },
      "execution_count": null,
      "outputs": []
    }
  ]
}
