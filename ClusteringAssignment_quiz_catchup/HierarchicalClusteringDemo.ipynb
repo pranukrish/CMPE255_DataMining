{
  "nbformat": 4,
  "nbformat_minor": 0,
  "metadata": {
    "colab": {
      "provenance": [],
      "authorship_tag": "ABX9TyMHFeWpcxcHPruIH7jEhumL",
      "include_colab_link": true
    },
    "kernelspec": {
      "name": "python3",
      "display_name": "Python 3"
    },
    "language_info": {
      "name": "python"
    }
  },
  "cells": [
    {
      "cell_type": "markdown",
      "metadata": {
        "id": "view-in-github",
        "colab_type": "text"
      },
      "source": [
        "<a href=\"https://colab.research.google.com/github/pranukrish/CMPE255_DataMining/blob/main/ClusteringAssignment_quiz_catchup/HierarchicalClusteringDemo.ipynb\" target=\"_parent\"><img src=\"https://colab.research.google.com/assets/colab-badge.svg\" alt=\"Open In Colab\"/></a>"
      ]
    },
    {
      "cell_type": "markdown",
      "source": [
        "Part (b)\n",
        "#Hierarchical clustering Implementation - Agglomerative Clustering\n"
      ],
      "metadata": {
        "id": "gkvGEUihK8Gj"
      }
    },
    {
      "cell_type": "markdown",
      "source": [
        "# Import Libraries"
      ],
      "metadata": {
        "id": "qf1kjnFDl2cU"
      }
    },
    {
      "cell_type": "code",
      "execution_count": 1,
      "metadata": {
        "id": "Zojtqx9mQswd"
      },
      "outputs": [],
      "source": [
        "import numpy as np\n",
        "import pandas as pd\n",
        "import matplotlib.pyplot as plt\n",
        "%matplotlib inline\n",
        "import scipy.cluster.hierarchy as shc\n",
        "from scipy.spatial.distance import squareform, pdist\n",
        "from sklearn.cluster import AgglomerativeClustering \n",
        "from scipy.cluster.hierarchy import dendrogram, linkage\n",
        "from matplotlib import pyplot as plt"
      ]
    },
    {
      "cell_type": "markdown",
      "source": [
        "# Define Data Points and plot them"
      ],
      "metadata": {
        "id": "o_NhZHYol6ET"
      }
    },
    {
      "cell_type": "code",
      "source": [
        "X = np.array([[12,3],[16,19],[23,13],[20,23],[8,20],[16,9],[1,23],[25,20],[18,6],[5,28]])\n",
        "\n",
        "df = pd.DataFrame(np.array([[12,3],[16,19],[23,13],[20,23],[8,20],[16,9],[1,23],[25,20],[18,6],[5,28]]),\n",
        "                   columns=['x', 'y'])\n",
        "\n",
        "labels = range(1, 10)\n",
        "plt.figure(figsize=(10, 7))\n",
        "plt.subplots_adjust(bottom=0.1)\n",
        "plt.scatter(X[:,0],X[:,1], label='True Position')\n",
        "for label, x, y in zip(labels, X[:, 0], X[:, 1]):\n",
        "  plt.annotate(\n",
        "              label,\n",
        "              xy=(x, y), xytext=(-3, 3),\n",
        "              textcoords='offset points', ha='right', va='bottom')\n",
        "plt.show()"
      ],
      "metadata": {
        "colab": {
          "base_uri": "https://localhost:8080/",
          "height": 441
        },
        "id": "aj3WF_40dN-p",
        "outputId": "01348a96-dc21-4cb5-ad47-ac6ff4970110"
      },
      "execution_count": 8,
      "outputs": [
        {
          "output_type": "display_data",
          "data": {
            "text/plain": [
              "<Figure size 720x504 with 1 Axes>"
            ],
            "image/png": "[encoded data removed]"
          },
          "metadata": {
            "needs_background": "light"
          }
        }
      ]
    },
    {
      "cell_type": "markdown",
      "source": [
        "# Apply Agglomerative Clustering"
      ],
      "metadata": {
        "id": "f7izrvhKmBsk"
      }
    },
    {
      "cell_type": "code",
      "source": [
        "clustering = AgglomerativeClustering(n_clusters=4).fit(X)\n",
        "clustering\n",
        "AgglomerativeClustering()\n",
        "clustering.fit_predict(X, y=None)"
      ],
      "metadata": {
        "colab": {
          "base_uri": "https://localhost:8080/"
        },
        "id": "M1Rd0A0ROPgS",
        "outputId": "9c2e3acc-7e09-436d-8079-8af483a86082"
      },
      "execution_count": 19,
      "outputs": [
        {
          "output_type": "execute_result",
          "data": {
            "text/plain": [
              "array([2, 3, 1, 3, 0, 2, 0, 1, 2, 0])"
            ]
          },
          "metadata": {},
          "execution_count": 19
        }
      ]
    },
    {
      "cell_type": "code",
      "source": [
        "clustering.fit_predict(X, y=None)"
      ],
      "metadata": {
        "colab": {
          "base_uri": "https://localhost:8080/"
        },
        "id": "vkDfOf3CiOc8",
        "outputId": "8d04596f-fb4a-4f94-a492-0b835a6758fe"
      },
      "execution_count": 4,
      "outputs": [
        {
          "output_type": "execute_result",
          "data": {
            "text/plain": [
              "array([0, 0, 0, 0, 1, 0, 1, 0, 0, 1])"
            ]
          },
          "metadata": {},
          "execution_count": 4
        }
      ]
    },
    {
      "cell_type": "markdown",
      "source": [
        "Plotting the clusters"
      ],
      "metadata": {
        "id": "9kMvuTIHQOrP"
      }
    },
    {
      "cell_type": "code",
      "source": [
        "colors = ['b', 'g', 'r','y','c','m','k']\n",
        "markers = ['o', 'v', 's','+','*','D','x']\n",
        "\n",
        "plt.plot()\n",
        "for i, l in enumerate(clustering.labels_):\n",
        "    plt.plot(df.x[i], df.y[i], color=colors[l], marker=markers[l],ls='None')\n",
        "    #plt.scatter(df.x,df.y)\n"
      ],
      "metadata": {
        "colab": {
          "base_uri": "https://localhost:8080/",
          "height": 265
        },
        "id": "m0Y1DvQhMcXE",
        "outputId": "db78c025-a78b-439f-ec3b-243ffbbbc2cd"
      },
      "execution_count": 23,
      "outputs": [
        {
          "output_type": "display_data",
          "data": {
            "text/plain": [
              "<Figure size 432x288 with 1 Axes>"
            ],
            "image/png": "[encoded data removed]"
          },
          "metadata": {
            "needs_background": "light"
          }
        }
      ]
    },
    {
      "cell_type": "markdown",
      "source": [
        "# Single Link Cluster"
      ],
      "metadata": {
        "id": "VV0ePIPsC2DI"
      }
    },
    {
      "cell_type": "code",
      "source": [
        "\n",
        "print (\"\\n single link cluster \\n\")\n",
        "linked = linkage(X, 'single')\n",
        "labelList = range(1, 11)\n",
        "plt.figure(figsize=(10, 7))\n",
        "dendrogram(linked,\n",
        "orientation='top',\n",
        "labels=labelList,\n",
        "distance_sort='descending',\n",
        "show_leaf_counts=True)\n",
        "plt.show()\n"
      ],
      "metadata": {
        "colab": {
          "base_uri": "https://localhost:8080/",
          "height": 483
        },
        "id": "aCNywZ6Hd4CP",
        "outputId": "ec51360d-d339-4126-b5c0-aa2b883e3e2d"
      },
      "execution_count": null,
      "outputs": [
        {
          "output_type": "stream",
          "name": "stdout",
          "text": [
            "\n",
            " single link cluster \n",
            "\n"
          ]
        },
        {
          "output_type": "display_data",
          "data": {
            "text/plain": [
              "<Figure size 720x504 with 1 Axes>"
            ],
            "image/png": "[encoded data removed]"
          },
          "metadata": {
            "needs_background": "light"
          }
        }
      ]
    },
    {
      "cell_type": "markdown",
      "source": [
        "# Complete Link Cluster"
      ],
      "metadata": {
        "id": "rjohe8w1-HBo"
      }
    },
    {
      "cell_type": "code",
      "source": [
        "print (\"\\n complete link cluster \\n\")\n",
        "linked_complete = linkage(X, 'complete')\n",
        "labelList = range(1, 12)\n",
        "plt.figure(figsize=(10, 7))\n",
        "dendrogram(linked_complete,\n",
        "orientation='top',\n",
        "labels=labelList,\n",
        "distance_sort='descending',\n",
        "show_leaf_counts=True)\n",
        "plt.show()"
      ],
      "metadata": {
        "colab": {
          "base_uri": "https://localhost:8080/",
          "height": 483
        },
        "id": "pfCe3T6j-Fik",
        "outputId": "bd90570f-f226-466a-b8c9-d777dd61a7a6"
      },
      "execution_count": null,
      "outputs": [
        {
          "output_type": "stream",
          "name": "stdout",
          "text": [
            "\n",
            " complete link cluster \n",
            "\n"
          ]
        },
        {
          "output_type": "display_data",
          "data": {
            "text/plain": [
              "<Figure size 720x504 with 1 Axes>"
            ],
            "image/png": "[encoded data removed]"
          },
          "metadata": {
            "needs_background": "light"
          }
        }
      ]
    },
    {
      "cell_type": "markdown",
      "source": [
        "# Average link cluster"
      ],
      "metadata": {
        "id": "0nKQT8M5C_E6"
      }
    },
    {
      "cell_type": "code",
      "source": [
        "print (\"\\n average link cluster \\n\")\n",
        "linked_average = linkage(X, 'average')\n",
        "labelList = range(1, 12)\n",
        "plt.figure(figsize=(10, 7))\n",
        "dendrogram(linked_complete,\n",
        "orientation='top',\n",
        "labels=labelList,\n",
        "distance_sort='descending',\n",
        "show_leaf_counts=True)\n",
        "plt.show() "
      ],
      "metadata": {
        "colab": {
          "base_uri": "https://localhost:8080/",
          "height": 483
        },
        "id": "aLKgLbSpeJDr",
        "outputId": "0405d97a-159b-45ac-d1f9-3a0f715c3972"
      },
      "execution_count": null,
      "outputs": [
        {
          "output_type": "stream",
          "name": "stdout",
          "text": [
            "\n",
            " average link cluster \n",
            "\n"
          ]
        },
        {
          "output_type": "display_data",
          "data": {
            "text/plain": [
              "<Figure size 720x504 with 1 Axes>"
            ],
            "image/png": "[encoded data removed]"
          },
          "metadata": {
            "needs_background": "light"
          }
        }
      ]
    }
  ]
}