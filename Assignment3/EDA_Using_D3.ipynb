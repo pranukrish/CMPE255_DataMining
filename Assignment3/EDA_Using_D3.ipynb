{
  "nbformat": 4,
  "nbformat_minor": 0,
  "metadata": {
    "colab": {
      "provenance": [],
      "collapsed_sections": [],
      "include_colab_link": true
    },
    "kernelspec": {
      "name": "python3",
      "display_name": "Python 3"
    },
    "language_info": {
      "name": "python"
    }
  },
  "cells": [
    {
      "cell_type": "markdown",
      "metadata": {
        "id": "view-in-github",
        "colab_type": "text"
      },
      "source": [
        "<a href=\"https://colab.research.google.com/github/pranukrish/CMPE255_DataMining/blob/main/Assignment3/EDA_Using_D3.ipynb\" target=\"_parent\"><img src=\"https://colab.research.google.com/assets/colab-badge.svg\" alt=\"Open In Colab\"/></a>"
      ]
    },
    {
      "cell_type": "markdown",
      "source": [
        "# This Colab is to perform EDA of dataset of EPL Matches happened until now and use d3js to visualise data also making it interactive"
      ],
      "metadata": {
        "id": "3ygMtP7lR11f"
      }
    },
    {
      "cell_type": "markdown",
      "source": [
        "#1. Import Dataset"
      ],
      "metadata": {
        "id": "DTJzga1yR4B1"
      }
    },
    {
      "cell_type": "code",
      "execution_count": null,
      "metadata": {
        "colab": {
          "base_uri": "https://localhost:8080/",
          "height": 90
        },
        "id": "rXGyybhJ71wk",
        "outputId": "67962aa4-eba0-441a-bdb5-6c85721341fb"
      },
      "outputs": [
        {
          "output_type": "display_data",
          "data": {
            "text/plain": [
              "<IPython.core.display.HTML object>"
            ],
            "text/html": [
              "\n",
              "     <input type=\"file\" id=\"files-073476c9-0de0-4ee2-b66d-84e0ccf226ea\" name=\"files[]\" multiple disabled\n",
              "        style=\"border:none\" />\n",
              "     <output id=\"result-073476c9-0de0-4ee2-b66d-84e0ccf226ea\">\n",
              "      Upload widget is only available when the cell has been executed in the\n",
              "      current browser session. Please rerun this cell to enable.\n",
              "      </output>\n",
              "      <script>// Copyright 2017 Google LLC\n",
              "//\n",
              "// Licensed under the Apache License, Version 2.0 (the \"License\");\n",
              "// you may not use this file except in compliance with the License.\n",
              "// You may obtain a copy of the License at\n",
              "//\n",
              "//      http://www.apache.org/licenses/LICENSE-2.0\n",
              "//\n",
              "// Unless required by applicable law or agreed to in writing, software\n",
              "// distributed under the License is distributed on an \"AS IS\" BASIS,\n",
              "// WITHOUT WARRANTIES OR CONDITIONS OF ANY KIND, either express or implied.\n",
              "// See the License for the specific language governing permissions and\n",
              "// limitations under the License.\n",
              "\n",
              "/**\n",
              " * @fileoverview Helpers for google.colab Python module.\n",
              " */\n",
              "(function(scope) {\n",
              "function span(text, styleAttributes = {}) {\n",
              "  const element = document.createElement('span');\n",
              "  element.textContent = text;\n",
              "  for (const key of Object.keys(styleAttributes)) {\n",
              "    element.style[key] = styleAttributes[key];\n",
              "  }\n",
              "  return element;\n",
              "}\n",
              "\n",
              "// Max number of bytes which will be uploaded at a time.\n",
              "const MAX_PAYLOAD_SIZE = 100 * 1024;\n",
              "\n",
              "function _uploadFiles(inputId, outputId) {\n",
              "  const steps = uploadFilesStep(inputId, outputId);\n",
              "  const outputElement = document.getElementById(outputId);\n",
              "  // Cache steps on the outputElement to make it available for the next call\n",
              "  // to uploadFilesContinue from Python.\n",
              "  outputElement.steps = steps;\n",
              "\n",
              "  return _uploadFilesContinue(outputId);\n",
              "}\n",
              "\n",
              "// This is roughly an async generator (not supported in the browser yet),\n",
              "// where there are multiple asynchronous steps and the Python side is going\n",
              "// to poll for completion of each step.\n",
              "// This uses a Promise to block the python side on completion of each step,\n",
              "// then passes the result of the previous step as the input to the next step.\n",
              "function _uploadFilesContinue(outputId) {\n",
              "  const outputElement = document.getElementById(outputId);\n",
              "  const steps = outputElement.steps;\n",
              "\n",
              "  const next = steps.next(outputElement.lastPromiseValue);\n",
              "  return Promise.resolve(next.value.promise).then((value) => {\n",
              "    // Cache the last promise value to make it available to the next\n",
              "    // step of the generator.\n",
              "    outputElement.lastPromiseValue = value;\n",
              "    return next.value.response;\n",
              "  });\n",
              "}\n",
              "\n",
              "/**\n",
              " * Generator function which is called between each async step of the upload\n",
              " * process.\n",
              " * @param {string} inputId Element ID of the input file picker element.\n",
              " * @param {string} outputId Element ID of the output display.\n",
              " * @return {!Iterable<!Object>} Iterable of next steps.\n",
              " */\n",
              "function* uploadFilesStep(inputId, outputId) {\n",
              "  const inputElement = document.getElementById(inputId);\n",
              "  inputElement.disabled = false;\n",
              "\n",
              "  const outputElement = document.getElementById(outputId);\n",
              "  outputElement.innerHTML = '';\n",
              "\n",
              "  const pickedPromise = new Promise((resolve) => {\n",
              "    inputElement.addEventListener('change', (e) => {\n",
              "      resolve(e.target.files);\n",
              "    });\n",
              "  });\n",
              "\n",
              "  const cancel = document.createElement('button');\n",
              "  inputElement.parentElement.appendChild(cancel);\n",
              "  cancel.textContent = 'Cancel upload';\n",
              "  const cancelPromise = new Promise((resolve) => {\n",
              "    cancel.onclick = () => {\n",
              "      resolve(null);\n",
              "    };\n",
              "  });\n",
              "\n",
              "  // Wait for the user to pick the files.\n",
              "  const files = yield {\n",
              "    promise: Promise.race([pickedPromise, cancelPromise]),\n",
              "    response: {\n",
              "      action: 'starting',\n",
              "    }\n",
              "  };\n",
              "\n",
              "  cancel.remove();\n",
              "\n",
              "  // Disable the input element since further picks are not allowed.\n",
              "  inputElement.disabled = true;\n",
              "\n",
              "  if (!files) {\n",
              "    return {\n",
              "      response: {\n",
              "        action: 'complete',\n",
              "      }\n",
              "    };\n",
              "  }\n",
              "\n",
              "  for (const file of files) {\n",
              "    const li = document.createElement('li');\n",
              "    li.append(span(file.name, {fontWeight: 'bold'}));\n",
              "    li.append(span(\n",
              "        `(${file.type || 'n/a'}) - ${file.size} bytes, ` +\n",
              "        `last modified: ${\n",
              "            file.lastModifiedDate ? file.lastModifiedDate.toLocaleDateString() :\n",
              "                                    'n/a'} - `));\n",
              "    const percent = span('0% done');\n",
              "    li.appendChild(percent);\n",
              "\n",
              "    outputElement.appendChild(li);\n",
              "\n",
              "    const fileDataPromise = new Promise((resolve) => {\n",
              "      const reader = new FileReader();\n",
              "      reader.onload = (e) => {\n",
              "        resolve(e.target.result);\n",
              "      };\n",
              "      reader.readAsArrayBuffer(file);\n",
              "    });\n",
              "    // Wait for the data to be ready.\n",
              "    let fileData = yield {\n",
              "      promise: fileDataPromise,\n",
              "      response: {\n",
              "        action: 'continue',\n",
              "      }\n",
              "    };\n",
              "\n",
              "    // Use a chunked sending to avoid message size limits. See b/62115660.\n",
              "    let position = 0;\n",
              "    do {\n",
              "      const length = Math.min(fileData.byteLength - position, MAX_PAYLOAD_SIZE);\n",
              "      const chunk = new Uint8Array(fileData, position, length);\n",
              "      position += length;\n",
              "\n",
              "      const base64 = btoa(String.fromCharCode.apply(null, chunk));\n",
              "      yield {\n",
              "        response: {\n",
              "          action: 'append',\n",
              "          file: file.name,\n",
              "          data: base64,\n",
              "        },\n",
              "      };\n",
              "\n",
              "      let percentDone = fileData.byteLength === 0 ?\n",
              "          100 :\n",
              "          Math.round((position / fileData.byteLength) * 100);\n",
              "      percent.textContent = `${percentDone}% done`;\n",
              "\n",
              "    } while (position < fileData.byteLength);\n",
              "  }\n",
              "\n",
              "  // All done.\n",
              "  yield {\n",
              "    response: {\n",
              "      action: 'complete',\n",
              "    }\n",
              "  };\n",
              "}\n",
              "\n",
              "scope.google = scope.google || {};\n",
              "scope.google.colab = scope.google.colab || {};\n",
              "scope.google.colab._files = {\n",
              "  _uploadFiles,\n",
              "  _uploadFilesContinue,\n",
              "};\n",
              "})(self);\n",
              "</script> "
            ]
          },
          "metadata": {}
        },
        {
          "output_type": "stream",
          "name": "stdout",
          "text": [
            "Saving EPL_Matches.csv to EPL_Matches.csv\n",
            "User uploaded file \"EPL_Matches.csv\" with length 551078 bytes\n"
          ]
        }
      ],
      "source": [
        "from google.colab import files\n",
        "\n",
        "uploaded = files.upload()\n",
        "\n",
        "for fn in uploaded.keys():\n",
        "  print('User uploaded file \"{name}\" with length {length} bytes'.format(\n",
        "      name=fn, length=len(uploaded[fn])))"
      ]
    },
    {
      "cell_type": "markdown",
      "source": [
        "#2. Import required libraries"
      ],
      "metadata": {
        "id": "XU70Cbc5YPar"
      }
    },
    {
      "cell_type": "code",
      "source": [
        "from string import Template\n",
        "from IPython.display import HTML\n",
        "import pandas as pd\n"
      ],
      "metadata": {
        "id": "hYt2PtX977oe"
      },
      "execution_count": null,
      "outputs": []
    },
    {
      "cell_type": "markdown",
      "source": [
        "#3. Defining a method to pre-run in every cell to use d3"
      ],
      "metadata": {
        "id": "U6egbO0JYTdA"
      }
    },
    {
      "cell_type": "code",
      "source": [
        "def load_d3_in_cell_output():\n",
        "  display(HTML(\"<script src='https://d3js.org/d3.v7.min.js'></script>\"))\n",
        "\n",
        "get_ipython().events.register('pre_run_cell', load_d3_in_cell_output)"
      ],
      "metadata": {
        "id": "Y7hD0jj3YSa3"
      },
      "execution_count": null,
      "outputs": []
    },
    {
      "cell_type": "markdown",
      "source": [
        "#4. Load data into a dataframe"
      ],
      "metadata": {
        "id": "iJHMj1fYYYLC"
      }
    },
    {
      "cell_type": "code",
      "source": [
        "df = pd.read_csv(\"EPL_Matches.csv\")\n",
        "temp = df.groupby('Home')['HomeGoals'].sum()\n",
        "\n",
        "HomeGoals = temp.tolist()"
      ],
      "metadata": {
        "colab": {
          "base_uri": "https://localhost:8080/",
          "height": 17
        },
        "id": "6DZbwyZF-Vae",
        "outputId": "c3c18fee-3801-41f7-de22-b25727c1a315"
      },
      "execution_count": null,
      "outputs": [
        {
          "output_type": "display_data",
          "data": {
            "text/plain": [
              "<IPython.core.display.HTML object>"
            ],
            "text/html": [
              "<script src='https://d3js.org/d3.v7.min.js'></script>"
            ]
          },
          "metadata": {}
        }
      ]
    },
    {
      "cell_type": "markdown",
      "source": [
        "#5. Plotting an interactive Bar chart of number of homegoals made by each team"
      ],
      "metadata": {
        "id": "eCGzuk7LYewF"
      }
    },
    {
      "cell_type": "code",
      "source": [
        "head_and_style = '''\n",
        "<head>\n",
        "  <style>\n",
        "  div.bar {\n",
        "    display: inline-block;\n",
        "    width: 20px;\n",
        "    height: 75px;\n",
        "    background-color: teal;\n",
        "    margin-right: 2px;\n",
        "}\n",
        "</style>\n",
        "</head>\n",
        "'''\n",
        "\n",
        "combined_html = Template('''\n",
        "$head_and_style\n",
        "<script>\n",
        "  var dataset = $data;\n",
        "  var margin = {top: 20, right: 30, bottom: 50, left: 100},\n",
        "    width = 960 - margin.left - margin.right,\n",
        "    height = 500 - margin.top - margin.bottom;\n",
        "\n",
        " var svg =  d3.select(\"body\")\n",
        "  .attr(\"width\", width + margin.left + margin.right)\n",
        "    .append(\"g\")\n",
        "  \n",
        "    .selectAll()\n",
        "    .data(dataset)\n",
        "    .enter()\n",
        "    .append(\"div\")\n",
        "    .attr(\"class\", \"bar\")\n",
        "    .on('mouseover', function (actual, i) {\n",
        "        d3.select(this).transition()\n",
        "               .duration('50')\n",
        "               .style('opacity', '.85')\n",
        "               .style('background-color', 'red')\n",
        "    \n",
        "    svg.append(\"text\")\n",
        "   .attr(\"transform\", \"translate(\" + (w/2) + \" ,\" + (h-10) + \")\")\n",
        "   .style(\"text-anchor\", \"middle\")\n",
        "   .text(\"Year\");\n",
        "               \n",
        "\n",
        "      })\n",
        "      .on('mouseout', function (actual, i) {\n",
        "        d3.select(this).transition()\n",
        "               .duration('50')\n",
        "               .style('opacity', '1')\n",
        "               .style('background-color', 'teal')\n",
        "               \n",
        "\n",
        "      })\n",
        "    .style(\"height\", function(d) { return d * 0.25 + \"px\"; });\n",
        "\n",
        "\n",
        "    \n",
        "</script>\n",
        "''')\n",
        "\n",
        "HTML(combined_html.substitute({'head_and_style' : \n",
        "                                head_and_style, 'data' : HomeGoals}))"
      ],
      "metadata": {
        "colab": {
          "base_uri": "https://localhost:8080/",
          "height": 325
        },
        "id": "65Nzl9AL-6KP",
        "outputId": "db7c7f03-cb04-4896-a8f3-24809f336c8c"
      },
      "execution_count": null,
      "outputs": [
        {
          "output_type": "display_data",
          "data": {
            "text/plain": [
              "<IPython.core.display.HTML object>"
            ],
            "text/html": [
              "<script src='https://d3js.org/d3.v7.min.js'></script>"
            ]
          },
          "metadata": {}
        },
        {
          "output_type": "execute_result",
          "data": {
            "text/plain": [
              "<IPython.core.display.HTML object>"
            ],
            "text/html": [
              "\n",
              "\n",
              "<head>\n",
              "  <style>\n",
              "  div.bar {\n",
              "    display: inline-block;\n",
              "    width: 20px;\n",
              "    height: 75px;\n",
              "    background-color: teal;\n",
              "    margin-right: 2px;\n",
              "}\n",
              "</style>\n",
              "</head>\n",
              "\n",
              "<script>\n",
              "  var dataset = [1154, 684, 25, 162, 545, 30, 319, 136, 46, 22, 104, 161, 41, 199, 1121, 219, 271, 157, 881, 380, 26, 107, 125, 404, 435, 1156, 957, 1214, 393, 831, 240, 115, 67, 184, 194, 71, 117, 234, 628, 248, 336, 179, 25, 995, 180, 295, 730, 169, 218, 181];\n",
              "  var margin = {top: 20, right: 30, bottom: 50, left: 100},\n",
              "    width = 960 - margin.left - margin.right,\n",
              "    height = 500 - margin.top - margin.bottom;\n",
              "\n",
              " var svg =  d3.select(\"body\")\n",
              "  .attr(\"width\", width + margin.left + margin.right)\n",
              "    .append(\"g\")\n",
              "  \n",
              "    .selectAll()\n",
              "    .data(dataset)\n",
              "    .enter()\n",
              "    .append(\"div\")\n",
              "    .attr(\"class\", \"bar\")\n",
              "    .on('mouseover', function (actual, i) {\n",
              "        d3.select(this).transition()\n",
              "               .duration('50')\n",
              "               .style('opacity', '.85')\n",
              "               .style('background-color', 'red')\n",
              "    \n",
              "    svg.append(\"text\")\n",
              "   .attr(\"transform\", \"translate(\" + (w/2) + \" ,\" + (h-10) + \")\")\n",
              "   .style(\"text-anchor\", \"middle\")\n",
              "   .text(\"Year\");\n",
              "               \n",
              "\n",
              "      })\n",
              "      .on('mouseout', function (actual, i) {\n",
              "        d3.select(this).transition()\n",
              "               .duration('50')\n",
              "               .style('opacity', '1')\n",
              "               .style('background-color', 'teal')\n",
              "               \n",
              "\n",
              "      })\n",
              "    .style(\"height\", function(d) { return d * 0.25 + \"px\"; });\n",
              "\n",
              "\n",
              "    \n",
              "</script>\n"
            ]
          },
          "metadata": {},
          "execution_count": 5
        }
      ]
    },
    {
      "cell_type": "code",
      "execution_count": null,
      "metadata": {
        "colab": {
          "base_uri": "https://localhost:8080/",
          "height": 412
        },
        "outputId": "4122db53-6cc9-434b-80da-e6ae342e8429",
        "id": "fRFKj6XnZJnu"
      },
      "outputs": [
        {
          "output_type": "display_data",
          "data": {
            "text/plain": [
              "<IPython.core.display.HTML object>"
            ],
            "text/html": [
              "<script src='https://d3js.org/d3.v7.min.js'></script>"
            ]
          },
          "metadata": {}
        },
        {
          "output_type": "execute_result",
          "data": {
            "text/plain": [
              "<IPython.core.display.HTML object>"
            ],
            "text/html": [
              "\n",
              "<div style=\"width:300px; height:300px;\">\n",
              "        <center>\n",
              "            <h1 style=\"color:green\">\n",
              "                GeeksforGeeks\n",
              "            </h1> \n",
              "  \n",
              "            <h2>\n",
              "                d3.pie()\n",
              "            </h2> \n",
              "        </center>\n",
              "  \n",
              "        <svg width=\"300\" height=\"300\" radius = \"200\">\n",
              "        </svg>\n",
              "  \n",
              "    </div>\n",
              "    <script> \n",
              "        var data = [22, 25, 25, 26, 30];\n",
              "        var data_labels = ['Brentford', 'Swindon Town', 'Barnsley', 'Huddersfield', 'Blackpool'];\n",
              "  \n",
              "        // Selecting SVG using d3.select()\n",
              "        var svg = d3.select(\"svg\");\n",
              "  \n",
              "        let g = svg.append(\"g\")\n",
              "               .attr(\"transform\", \"translate(150,120)\");\n",
              "          \n",
              "        // Creating Pie generator\n",
              "        var pie = d3.pie();\n",
              "  \n",
              "        // Creating arc\n",
              "        var arc = d3.arc()\n",
              "                    .innerRadius(0)\n",
              "                    .outerRadius(100);\n",
              "  \n",
              "        // Grouping different arcs\n",
              "        var arcs = g.selectAll(\"arc\")\n",
              "                    .data(pie(data))\n",
              "                    .enter()\n",
              "                    .append(\"g\");\n",
              "                    \n",
              "  \n",
              "        // Appending path \n",
              "        arcs.append(\"path\")\n",
              "            .attr(\"fill\", (data, i)=>{\n",
              "                let value=data.data;\n",
              "                return d3.schemeSet3[i];\n",
              "            })\n",
              "            .attr(\"d\", arc);\n",
              "          \n",
              "            \n",
              "        // Adding data to each arc\n",
              "        arcs.append(\"text\")\n",
              "            .attr(\"transform\",(d)=>{ \n",
              "                    return \"translate(\"+ \n",
              "                    arc.centroid(d) + \")\"; \n",
              "            \n",
              "            })\n",
              "            .attr(\"text-anchor\",\"middle\")\n",
              "            .text(function(d, i){\n",
              "            \tconsole.log(d);\n",
              "            \t\n",
              "               return data_labels[i] + d.data; \n",
              "               })\n",
              "            .style(\"font-size\",10)\n",
              "               \n",
              "\n",
              "    </script> \n",
              "\n"
            ]
          },
          "metadata": {},
          "execution_count": 7
        }
      ],
      "source": [
        "new_html = Template('''\n",
        "<div style=\"width:300px; height:300px;\">\n",
        "        <center>\n",
        "            <h1 style=\"color:green\">\n",
        "                GeeksforGeeks\n",
        "            </h1> \n",
        "  \n",
        "            <h2>\n",
        "                d3.pie()\n",
        "            </h2> \n",
        "        </center>\n",
        "  \n",
        "        <svg width=\"300\" height=\"300\" radius = \"200\">\n",
        "        </svg>\n",
        "  \n",
        "    </div>\n",
        "    <script> \n",
        "        var data = $data;\n",
        "        var data_labels = $data_labels;\n",
        "  \n",
        "        // Selecting SVG using d3.select()\n",
        "        var svg = d3.select(\"svg\");\n",
        "  \n",
        "        let g = svg.append(\"g\")\n",
        "               .attr(\"transform\", \"translate(150,120)\");\n",
        "          \n",
        "        // Creating Pie generator\n",
        "        var pie = d3.pie();\n",
        "  \n",
        "        // Creating arc\n",
        "        var arc = d3.arc()\n",
        "                    .innerRadius(0)\n",
        "                    .outerRadius(100);\n",
        "  \n",
        "        // Grouping different arcs\n",
        "        var arcs = g.selectAll(\"arc\")\n",
        "                    .data(pie(data))\n",
        "                    .enter()\n",
        "                    .append(\"g\");\n",
        "                    \n",
        "  \n",
        "        // Appending path \n",
        "        arcs.append(\"path\")\n",
        "            .attr(\"fill\", (data, i)=>{\n",
        "                let value=data.data;\n",
        "                return d3.schemeSet3[i];\n",
        "            })\n",
        "            .attr(\"d\", arc);\n",
        "          \n",
        "            \n",
        "        // Adding data to each arc\n",
        "        arcs.append(\"text\")\n",
        "            .attr(\"transform\",(d)=>{ \n",
        "                    return \"translate(\"+ \n",
        "                    arc.centroid(d) + \")\"; \n",
        "            \n",
        "            })\n",
        "            .attr(\"text-anchor\",\"middle\")\n",
        "            .text(function(d, i){\n",
        "            \tconsole.log(d);\n",
        "            \t\n",
        "               return data_labels[i] + d.data; \n",
        "               })\n",
        "            .style(\"font-size\",10)\n",
        "               \n",
        "\n",
        "    </script> \n",
        "\n",
        "''')\n",
        "\n",
        "HTML(new_html.substitute({'data' : \n",
        "                                temp.sort_values()[0:5].tolist(), 'data_labels': temp.sort_values()[0:5].index.tolist()}))"
      ]
    }
  ]
}