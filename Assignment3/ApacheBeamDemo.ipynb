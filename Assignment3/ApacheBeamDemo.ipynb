{
  "nbformat": 4,
  "nbformat_minor": 0,
  "metadata": {
    "colab": {
      "provenance": [],
      "collapsed_sections": [],
      "authorship_tag": "ABX9TyNV6krcOBbs4U623oHaBzxC",
      "include_colab_link": true
    },
    "kernelspec": {
      "name": "python3",
      "display_name": "Python 3"
    },
    "language_info": {
      "name": "python"
    }
  },
  "cells": [
    {
      "cell_type": "markdown",
      "metadata": {
        "id": "view-in-github",
        "colab_type": "text"
      },
      "source": [
        "<a href=\"https://colab.research.google.com/github/pranukrish/CMPE255_DataMining/blob/main/Assignment3/ApacheBeamDemo.ipynb\" target=\"_parent\"><img src=\"https://colab.research.google.com/assets/colab-badge.svg\" alt=\"Open In Colab\"/></a>"
      ]
    },
    {
      "cell_type": "markdown",
      "source": [
        "# Try Apache Beam - Python\n",
        "\n"
      ],
      "metadata": {
        "id": "xHnepQzmZB48"
      }
    },
    {
      "cell_type": "markdown",
      "source": [
        "# Setup\n",
        "\n",
        "First, you need to set up your environment, installing `apache-beam` "
      ],
      "metadata": {
        "id": "3PR0hyLhzRGC"
      }
    },
    {
      "cell_type": "code",
      "execution_count": null,
      "metadata": {
        "colab": {
          "base_uri": "https://localhost:8080/"
        },
        "id": "GUYvAozS61-X",
        "outputId": "54f750a3-65cc-42df-9aba-8f6dc80e0156"
      },
      "outputs": [
        {
          "output_type": "stream",
          "name": "stdout",
          "text": [
            "\u001b[K     |████████████████████████████████| 10.9 MB 5.2 MB/s \n",
            "\u001b[K     |████████████████████████████████| 151 kB 70.7 MB/s \n",
            "\u001b[K     |████████████████████████████████| 508 kB 70.5 MB/s \n",
            "\u001b[K     |████████████████████████████████| 2.4 MB 56.8 MB/s \n",
            "\u001b[K     |████████████████████████████████| 270 kB 74.6 MB/s \n",
            "\u001b[K     |████████████████████████████████| 47 kB 5.4 MB/s \n",
            "\u001b[K     |████████████████████████████████| 62 kB 1.6 MB/s \n",
            "\u001b[K     |████████████████████████████████| 1.0 MB 71.5 MB/s \n",
            "\u001b[?25h  Building wheel for dill (setup.py) ... \u001b[?25l\u001b[?25hdone\n",
            "  Building wheel for docopt (setup.py) ... \u001b[?25l\u001b[?25hdone\n",
            "\u001b[31mERROR: pip's dependency resolver does not currently take into account all the packages that are installed. This behaviour is the source of the following dependency conflicts.\n",
            "tensorflow 2.8.2+zzzcolab20220929150707 requires protobuf<3.20,>=3.9.2, but you have protobuf 3.20.3 which is incompatible.\u001b[0m\n"
          ]
        }
      ],
      "source": [
        "!pip install --quiet apache-beam\n",
        "\n",
        "#with beam.Pipeline() as pipeline:\n",
        "#  pass  # build your pipeline here"
      ]
    },
    {
      "cell_type": "code",
      "source": [
        "!pip install --quiet apache-beam[interactive]"
      ],
      "metadata": {
        "id": "uxgYoMaaHim0"
      },
      "execution_count": null,
      "outputs": []
    },
    {
      "cell_type": "markdown",
      "source": [
        "# Mount drive to load file"
      ],
      "metadata": {
        "id": "o0AIE3kAzi5_"
      }
    },
    {
      "cell_type": "code",
      "source": [
        "from google.colab import drive\n",
        "drive.mount('/content/drive')"
      ],
      "metadata": {
        "colab": {
          "base_uri": "https://localhost:8080/"
        },
        "id": "shXHbd64LdkP",
        "outputId": "20929190-1c38-4155-d94a-b5b0fe8fd55c"
      },
      "execution_count": null,
      "outputs": [
        {
          "output_type": "stream",
          "name": "stdout",
          "text": [
            "Mounted at /content/drive\n"
          ]
        }
      ]
    },
    {
      "cell_type": "markdown",
      "source": [
        "# Read data into dataframe"
      ],
      "metadata": {
        "id": "44ZWii_ZV4Op"
      }
    },
    {
      "cell_type": "code",
      "source": [
        "  df = beam.dataframe.io.read_csv('/content/drive/MyDrive/Data/EPL_Matches.csv')\n"
      ],
      "metadata": {
        "id": "LguZTLYuNfBE"
      },
      "execution_count": null,
      "outputs": []
    },
    {
      "cell_type": "markdown",
      "source": [
        "# Create a pipeline"
      ],
      "metadata": {
        "id": "3TsR-16YV9z1"
      }
    },
    {
      "cell_type": "code",
      "source": [
        "import apache_beam as beam\n",
        "\n",
        "p1 = beam.Pipeline()\n",
        "visit_count = (\n",
        " \n",
        "  p1\n",
        "  |beam.dataframe.io.read_csv('/content/drive/MyDrive/Data/EPL_Matches.csv')\n",
        "\n",
        "  |beam.Map(lambda record: record.split(';'))\n",
        "  |beam.Filter(lambda record: record[3] == 'Arsenal')\n",
        "  |beam.Map(lambda record: (record[4], 1))\n",
        "  |beam.CombinePerKey(sum)\n",
        " \n",
        "  |beam.io.WriteToText('/content/sample_data/out_data.txt')\n",
        ")\n",
        "\n",
        "p1.run()"
      ],
      "metadata": {
        "colab": {
          "base_uri": "https://localhost:8080/"
        },
        "id": "lhMJ2Aoi7RFP",
        "outputId": "9efb66bb-b5a7-40c8-a0cd-d0c028a0204c"
      },
      "execution_count": null,
      "outputs": [
        {
          "output_type": "execute_result",
          "data": {
            "text/plain": [
              "<apache_beam.runners.portability.fn_api_runner.fn_runner.RunnerResult at 0x7fdb96e6b390>"
            ]
          },
          "metadata": {},
          "execution_count": 11
        }
      ]
    },
    {
      "cell_type": "markdown",
      "source": [
        "# Implement Composite Transform"
      ],
      "metadata": {
        "id": "ZaD6vpAMWLnG"
      }
    },
    {
      "cell_type": "code",
      "source": [
        "class CustomTransform(beam.PTransform):\n",
        "  def expand(self, input_coll):\n",
        " \n",
        "  a = (\n",
        "      input_coll\n",
        "                      | 'Group and sum' >> beam.CombinePerKey(sum)\n",
        "                      | 'filter Homegoals' >> beam.Filter(HomeGoals)\n",
        "                      | 'Goals' >> beam.Map(format_output)\n",
        "           \n",
        "  )\n",
        "  return a\n",
        "\n",
        "def SplitRow(element):\n",
        "  return element.split(',')\n",
        "\n",
        "def filter_on_count(element):\n",
        " name, count = element\n",
        " if count > 1:\n",
        "  return element\n",
        " def format_output(element):\n",
        " name, count = element\n",
        " #return ', '.join((name.encode('ascii'),str(count),'Regular employee'))\n",
        " return ', '.join((Home,str(count)))\n",
        "\n",
        "p = beam.Pipeline()\n",
        "input_collection = (\n",
        "\n",
        "              p\n",
        "                    | \"Read from text file\" >> beam.io.ReadFromText('goal_data.txt')\n",
        "                    | \"Split rows\" >> beam.Map(SplitRow)\n",
        "                  )\n",
        "\n",
        "arsenal_count = (\n",
        "                    input_collection\n",
        "                    | 'Get all goals of Arsenal' >> beam.Filter(lambda record: record[3] == 'Arsenal')\n",
        "                    | 'Pair with AwayGoals' >> beam.Map(lambda record: (\"Arsenal, \" +record[1], 1))\n",
        "                    | 'Total goals made' >> CustomTransform()\n",
        "                    | 'Write results for Arsenal' >> beam.io.WriteToText('arsenalgoals_output.txt')\n",
        "                                    )\n",
        "\n",
        "chelsea_count = (\n",
        "              input_collection\n",
        "              | 'Get all Chelsea goals' >> beam.Filter(lambda record: record[3] == 'Chelsea')\n",
        "              | 'Pair with AwayGoals' >> beam.Map(lambda record: (\"Chelsea, \" +record[1], 1))\n",
        "              | 'Total goals made' >> CustomTransform()\n",
        "              | 'Write results for Chelsea' >> beam.io.WriteToText('chelseagoals_output.txt')\n",
        "          )\n",
        "p.run()"
      ],
      "metadata": {
        "id": "uA-vwyTvvb7a"
      },
      "execution_count": null,
      "outputs": []
    }
  ]
}